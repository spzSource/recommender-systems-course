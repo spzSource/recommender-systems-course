{
 "cells": [
  {
   "cell_type": "code",
   "execution_count": 1,
   "metadata": {},
   "outputs": [
    {
     "name": "stdout",
     "output_type": "stream",
     "text": [
      "Collecting polars[pandas,pyarrow]\n",
      "  Downloading polars-0.20.9-cp38-abi3-manylinux_2_17_x86_64.manylinux2014_x86_64.whl.metadata (15 kB)\n",
      "Collecting pyarrow>=7.0.0 (from polars[pandas,pyarrow])\n",
      "  Downloading pyarrow-15.0.0-cp312-cp312-manylinux_2_28_x86_64.whl.metadata (3.0 kB)\n",
      "Collecting pandas (from polars[pandas,pyarrow])\n",
      "  Downloading pandas-2.2.0-cp312-cp312-manylinux_2_17_x86_64.manylinux2014_x86_64.whl.metadata (19 kB)\n",
      "Collecting numpy<2,>=1.16.6 (from pyarrow>=7.0.0->polars[pandas,pyarrow])\n",
      "  Downloading numpy-1.26.4-cp312-cp312-manylinux_2_17_x86_64.manylinux2014_x86_64.whl.metadata (61 kB)\n",
      "\u001b[2K     \u001b[38;2;114;156;31m━━━━━━━━━━━━━━━━━━━━━━━━━━━━━━━━━━━━━━━\u001b[0m \u001b[32m61.0/61.0 kB\u001b[0m \u001b[31m846.9 kB/s\u001b[0m eta \u001b[36m0:00:00\u001b[0m31m1.0 MB/s\u001b[0m eta \u001b[36m0:00:01\u001b[0m\n",
      "\u001b[?25hRequirement already satisfied: python-dateutil>=2.8.2 in /home/popitich/dev/recommender-systems-course/.venv/lib64/python3.12/site-packages (from pandas->polars[pandas,pyarrow]) (2.8.2)\n",
      "Collecting pytz>=2020.1 (from pandas->polars[pandas,pyarrow])\n",
      "  Downloading pytz-2024.1-py2.py3-none-any.whl.metadata (22 kB)\n",
      "Collecting tzdata>=2022.7 (from pandas->polars[pandas,pyarrow])\n",
      "  Downloading tzdata-2024.1-py2.py3-none-any.whl.metadata (1.4 kB)\n",
      "Requirement already satisfied: six>=1.5 in /home/popitich/dev/recommender-systems-course/.venv/lib64/python3.12/site-packages (from python-dateutil>=2.8.2->pandas->polars[pandas,pyarrow]) (1.16.0)\n",
      "Downloading pyarrow-15.0.0-cp312-cp312-manylinux_2_28_x86_64.whl (38.3 MB)\n",
      "\u001b[2K   \u001b[38;2;114;156;31m━━━━━━━━━━━━━━━━━━━━━━━━━━━━━━━━━━━━━━━━\u001b[0m \u001b[32m38.3/38.3 MB\u001b[0m \u001b[31m20.8 MB/s\u001b[0m eta \u001b[36m0:00:00\u001b[0mm eta \u001b[36m0:00:01\u001b[0m0:01\u001b[0m:01\u001b[0m\n",
      "\u001b[?25hDownloading pandas-2.2.0-cp312-cp312-manylinux_2_17_x86_64.manylinux2014_x86_64.whl (12.7 MB)\n",
      "\u001b[2K   \u001b[38;2;114;156;31m━━━━━━━━━━━━━━━━━━━━━━━━━━━━━━━━━━━━━━━━\u001b[0m \u001b[32m12.7/12.7 MB\u001b[0m \u001b[31m26.0 MB/s\u001b[0m eta \u001b[36m0:00:00\u001b[0mm eta \u001b[36m0:00:01\u001b[0m[36m0:00:01\u001b[0m\n",
      "\u001b[?25hDownloading polars-0.20.9-cp38-abi3-manylinux_2_17_x86_64.manylinux2014_x86_64.whl (26.8 MB)\n",
      "\u001b[2K   \u001b[38;2;114;156;31m━━━━━━━━━━━━━━━━━━━━━━━━━━━━━━━━━━━━━━━━\u001b[0m \u001b[32m26.8/26.8 MB\u001b[0m \u001b[31m24.9 MB/s\u001b[0m eta \u001b[36m0:00:00\u001b[0mm eta \u001b[36m0:00:01\u001b[0m[36m0:00:01\u001b[0m\n",
      "\u001b[?25hDownloading numpy-1.26.4-cp312-cp312-manylinux_2_17_x86_64.manylinux2014_x86_64.whl (18.0 MB)\n",
      "\u001b[2K   \u001b[38;2;114;156;31m━━━━━━━━━━━━━━━━━━━━━━━━━━━━━━━━━━━━━━━━\u001b[0m \u001b[32m18.0/18.0 MB\u001b[0m \u001b[31m28.0 MB/s\u001b[0m eta \u001b[36m0:00:00\u001b[0mm eta \u001b[36m0:00:01\u001b[0m[36m0:00:01\u001b[0m\n",
      "\u001b[?25hDownloading pytz-2024.1-py2.py3-none-any.whl (505 kB)\n",
      "\u001b[2K   \u001b[38;2;114;156;31m━━━━━━━━━━━━━━━━━━━━━━━━━━━━━━━━━━━━━━━━\u001b[0m \u001b[32m505.5/505.5 kB\u001b[0m \u001b[31m11.2 MB/s\u001b[0m eta \u001b[36m0:00:00\u001b[0mm eta \u001b[36m0:00:01\u001b[0m\n",
      "\u001b[?25hDownloading tzdata-2024.1-py2.py3-none-any.whl (345 kB)\n",
      "\u001b[2K   \u001b[38;2;114;156;31m━━━━━━━━━━━━━━━━━━━━━━━━━━━━━━━━━━━━━━━━\u001b[0m \u001b[32m345.4/345.4 kB\u001b[0m \u001b[31m10.6 MB/s\u001b[0m eta \u001b[36m0:00:00\u001b[0m\n",
      "\u001b[?25hInstalling collected packages: pytz, tzdata, polars, numpy, pyarrow, pandas\n",
      "Successfully installed numpy-1.26.4 pandas-2.2.0 polars-0.20.9 pyarrow-15.0.0 pytz-2024.1 tzdata-2024.1\n",
      "Note: you may need to restart the kernel to use updated packages.\n"
     ]
    }
   ],
   "source": [
    "%pip install 'polars[pandas,pyarrow]'"
   ]
  },
  {
   "cell_type": "code",
   "execution_count": 2,
   "metadata": {},
   "outputs": [],
   "source": [
    "import polars as pl"
   ]
  },
  {
   "cell_type": "code",
   "execution_count": 3,
   "metadata": {},
   "outputs": [
    {
     "data": {
      "text/html": [
       "<div><style>\n",
       ".dataframe > thead > tr,\n",
       ".dataframe > tbody > tr {\n",
       "  text-align: right;\n",
       "  white-space: pre-wrap;\n",
       "}\n",
       "</style>\n",
       "<small>shape: (20, 22)</small><table border=\"1\" class=\"dataframe\"><thead><tr><th>User</th><th>Gender (1 =F, 0=M)</th><th>260: Star Wars: Episode IV - A New Hope (1977)</th><th>1210: Star Wars: Episode VI - Return of the Jedi (1983)</th><th>356: Forrest Gump (1994)</th><th>318: Shawshank Redemption, The (1994)</th><th>593: Silence of the Lambs, The (1991)</th><th>3578: Gladiator (2000)</th><th>1: Toy Story (1995)</th><th>2028: Saving Private Ryan (1998)</th><th>296: Pulp Fiction (1994)</th><th>1259: Stand by Me (1986)</th><th>2396: Shakespeare in Love (1998)</th><th>2916: Total Recall (1990)</th><th>780: Independence Day (ID4) (1996)</th><th>541: Blade Runner (1982)</th><th>1265: Groundhog Day (1993)</th><th>2571: Matrix, The (1999)</th><th>527: Schindler&#x27;s List (1993)</th><th>2762: Sixth Sense, The (1999)</th><th>1198: Raiders of the Lost Ark (1981)</th><th>34: Babe (1995)</th></tr><tr><td>i64</td><td>i64</td><td>i64</td><td>i64</td><td>i64</td><td>i64</td><td>i64</td><td>i64</td><td>i64</td><td>i64</td><td>i64</td><td>i64</td><td>i64</td><td>i64</td><td>i64</td><td>i64</td><td>i64</td><td>i64</td><td>i64</td><td>i64</td><td>i64</td><td>i64</td></tr></thead><tbody><tr><td>755</td><td>0</td><td>1</td><td>5</td><td>2</td><td>null</td><td>4</td><td>4</td><td>2</td><td>2</td><td>null</td><td>3</td><td>2</td><td>null</td><td>5</td><td>2</td><td>null</td><td>4</td><td>2</td><td>5</td><td>null</td><td>null</td></tr><tr><td>5277</td><td>0</td><td>5</td><td>3</td><td>null</td><td>2</td><td>4</td><td>2</td><td>1</td><td>null</td><td>null</td><td>4</td><td>3</td><td>2</td><td>2</td><td>null</td><td>2</td><td>null</td><td>5</td><td>1</td><td>3</td><td>null</td></tr><tr><td>1577</td><td>1</td><td>null</td><td>null</td><td>null</td><td>5</td><td>2</td><td>null</td><td>4</td><td>null</td><td>null</td><td>1</td><td>null</td><td>1</td><td>4</td><td>4</td><td>1</td><td>1</td><td>2</td><td>3</td><td>1</td><td>3</td></tr><tr><td>4388</td><td>0</td><td>null</td><td>3</td><td>null</td><td>null</td><td>null</td><td>1</td><td>2</td><td>3</td><td>4</td><td>null</td><td>null</td><td>4</td><td>1</td><td>3</td><td>5</td><td>null</td><td>5</td><td>1</td><td>1</td><td>2</td></tr><tr><td>1202</td><td>1</td><td>4</td><td>3</td><td>4</td><td>1</td><td>4</td><td>1</td><td>null</td><td>4</td><td>null</td><td>1</td><td>5</td><td>1</td><td>null</td><td>4</td><td>null</td><td>3</td><td>5</td><td>5</td><td>null</td><td>null</td></tr><tr><td>3823</td><td>1</td><td>2</td><td>4</td><td>4</td><td>4</td><td>null</td><td>null</td><td>3</td><td>1</td><td>4</td><td>4</td><td>5</td><td>2</td><td>4</td><td>null</td><td>1</td><td>null</td><td>null</td><td>3</td><td>null</td><td>2</td></tr><tr><td>5448</td><td>0</td><td>null</td><td>null</td><td>3</td><td>1</td><td>1</td><td>4</td><td>null</td><td>5</td><td>2</td><td>null</td><td>1</td><td>null</td><td>null</td><td>3</td><td>null</td><td>1</td><td>null</td><td>null</td><td>5</td><td>2</td></tr><tr><td>5347</td><td>0</td><td>4</td><td>null</td><td>null</td><td>null</td><td>3</td><td>2</td><td>2</td><td>null</td><td>3</td><td>null</td><td>null</td><td>2</td><td>3</td><td>2</td><td>4</td><td>null</td><td>1</td><td>3</td><td>5</td><td>null</td></tr><tr><td>4117</td><td>1</td><td>5</td><td>1</td><td>null</td><td>4</td><td>2</td><td>4</td><td>4</td><td>4</td><td>null</td><td>1</td><td>2</td><td>3</td><td>1</td><td>null</td><td>5</td><td>null</td><td>null</td><td>null</td><td>null</td><td>5</td></tr><tr><td>2765</td><td>0</td><td>4</td><td>2</td><td>null</td><td>5</td><td>3</td><td>null</td><td>4</td><td>3</td><td>4</td><td>null</td><td>null</td><td>null</td><td>2</td><td>null</td><td>null</td><td>2</td><td>5</td><td>1</td><td>null</td><td>null</td></tr><tr><td>5450</td><td>1</td><td>2</td><td>1</td><td>5</td><td>null</td><td>null</td><td>5</td><td>5</td><td>null</td><td>null</td><td>null</td><td>null</td><td>3</td><td>2</td><td>null</td><td>null</td><td>1</td><td>null</td><td>2</td><td>1</td><td>4</td></tr><tr><td>139</td><td>0</td><td>3</td><td>5</td><td>2</td><td>null</td><td>2</td><td>null</td><td>2</td><td>null</td><td>1</td><td>null</td><td>3</td><td>null</td><td>3</td><td>null</td><td>2</td><td>5</td><td>null</td><td>null</td><td>null</td><td>2</td></tr><tr><td>1940</td><td>0</td><td>2</td><td>3</td><td>null</td><td>5</td><td>4</td><td>null</td><td>4</td><td>5</td><td>null</td><td>null</td><td>null</td><td>2</td><td>4</td><td>null</td><td>3</td><td>null</td><td>null</td><td>null</td><td>5</td><td>null</td></tr><tr><td>3118</td><td>1</td><td>3</td><td>null</td><td>3</td><td>null</td><td>2</td><td>null</td><td>3</td><td>null</td><td>null</td><td>4</td><td>null</td><td>1</td><td>2</td><td>2</td><td>3</td><td>5</td><td>1</td><td>null</td><td>null</td><td>null</td></tr><tr><td>4656</td><td>1</td><td>4</td><td>4</td><td>null</td><td>null</td><td>5</td><td>5</td><td>2</td><td>null</td><td>3</td><td>5</td><td>null</td><td>1</td><td>3</td><td>null</td><td>2</td><td>null</td><td>3</td><td>null</td><td>3</td><td>1</td></tr><tr><td>4796</td><td>1</td><td>null</td><td>null</td><td>1</td><td>null</td><td>3</td><td>2</td><td>null</td><td>2</td><td>null</td><td>1</td><td>5</td><td>null</td><td>null</td><td>null</td><td>5</td><td>2</td><td>2</td><td>4</td><td>3</td><td>4</td></tr><tr><td>6037</td><td>0</td><td>null</td><td>null</td><td>null</td><td>null</td><td>4</td><td>null</td><td>2</td><td>null</td><td>2</td><td>null</td><td>2</td><td>null</td><td>null</td><td>null</td><td>null</td><td>4</td><td>null</td><td>null</td><td>null</td><td>null</td></tr><tr><td>3048</td><td>1</td><td>4</td><td>5</td><td>1</td><td>5</td><td>1</td><td>1</td><td>4</td><td>null</td><td>5</td><td>null</td><td>null</td><td>null</td><td>null</td><td>4</td><td>null</td><td>null</td><td>2</td><td>1</td><td>2</td><td>5</td></tr><tr><td>4790</td><td>0</td><td>5</td><td>1</td><td>null</td><td>null</td><td>null</td><td>4</td><td>2</td><td>1</td><td>3</td><td>3</td><td>3</td><td>1</td><td>null</td><td>null</td><td>null</td><td>2</td><td>null</td><td>null</td><td>null</td><td>null</td></tr><tr><td>4489</td><td>0</td><td>1</td><td>2</td><td>2</td><td>4</td><td>5</td><td>null</td><td>2</td><td>3</td><td>2</td><td>2</td><td>1</td><td>null</td><td>null</td><td>5</td><td>5</td><td>4</td><td>3</td><td>5</td><td>3</td><td>null</td></tr></tbody></table></div>"
      ],
      "text/plain": [
       "shape: (20, 22)\n",
       "┌──────┬─────────────┬────────────┬────────────┬───┬────────────┬────────┬────────────┬────────────┐\n",
       "│ User ┆ Gender (1   ┆ 260: Star  ┆ 1210: Star ┆ … ┆ 527: Schin ┆ 2762:  ┆ 1198:      ┆ 34: Babe   │\n",
       "│ ---  ┆ =F, 0=M)    ┆ Wars:      ┆ Wars:      ┆   ┆ dler's     ┆ Sixth  ┆ Raiders of ┆ (1995)     │\n",
       "│ i64  ┆ ---         ┆ Episode IV ┆ Episode VI ┆   ┆ List       ┆ Sense, ┆ the Lost   ┆ ---        │\n",
       "│      ┆ i64         ┆ - A N…     ┆ - Re…      ┆   ┆ (1993)     ┆ The    ┆ Ark (1…    ┆ i64        │\n",
       "│      ┆             ┆ ---        ┆ ---        ┆   ┆ ---        ┆ (1999) ┆ ---        ┆            │\n",
       "│      ┆             ┆ i64        ┆ i64        ┆   ┆ i64        ┆ ---    ┆ i64        ┆            │\n",
       "│      ┆             ┆            ┆            ┆   ┆            ┆ i64    ┆            ┆            │\n",
       "╞══════╪═════════════╪════════════╪════════════╪═══╪════════════╪════════╪════════════╪════════════╡\n",
       "│ 755  ┆ 0           ┆ 1          ┆ 5          ┆ … ┆ 2          ┆ 5      ┆ null       ┆ null       │\n",
       "│ 5277 ┆ 0           ┆ 5          ┆ 3          ┆ … ┆ 5          ┆ 1      ┆ 3          ┆ null       │\n",
       "│ 1577 ┆ 1           ┆ null       ┆ null       ┆ … ┆ 2          ┆ 3      ┆ 1          ┆ 3          │\n",
       "│ 4388 ┆ 0           ┆ null       ┆ 3          ┆ … ┆ 5          ┆ 1      ┆ 1          ┆ 2          │\n",
       "│ 1202 ┆ 1           ┆ 4          ┆ 3          ┆ … ┆ 5          ┆ 5      ┆ null       ┆ null       │\n",
       "│ …    ┆ …           ┆ …          ┆ …          ┆ … ┆ …          ┆ …      ┆ …          ┆ …          │\n",
       "│ 4796 ┆ 1           ┆ null       ┆ null       ┆ … ┆ 2          ┆ 4      ┆ 3          ┆ 4          │\n",
       "│ 6037 ┆ 0           ┆ null       ┆ null       ┆ … ┆ null       ┆ null   ┆ null       ┆ null       │\n",
       "│ 3048 ┆ 1           ┆ 4          ┆ 5          ┆ … ┆ 2          ┆ 1      ┆ 2          ┆ 5          │\n",
       "│ 4790 ┆ 0           ┆ 5          ┆ 1          ┆ … ┆ null       ┆ null   ┆ null       ┆ null       │\n",
       "│ 4489 ┆ 0           ┆ 1          ┆ 2          ┆ … ┆ 3          ┆ 5      ┆ 3          ┆ null       │\n",
       "└──────┴─────────────┴────────────┴────────────┴───┴────────────┴────────┴────────────┴────────────┘"
      ]
     },
     "metadata": {},
     "output_type": "display_data"
    }
   ],
   "source": [
    "df = pl.read_csv(\"HW1-data.csv\")\n",
    "display(df)"
   ]
  },
  {
   "cell_type": "markdown",
   "metadata": {},
   "source": [
    "### Assignment 1: Top Movies by Mean Rating"
   ]
  },
  {
   "cell_type": "code",
   "execution_count": 4,
   "metadata": {},
   "outputs": [
    {
     "data": {
      "text/html": [
       "<div><style>\n",
       ".dataframe > thead > tr,\n",
       ".dataframe > tbody > tr {\n",
       "  text-align: right;\n",
       "  white-space: pre-wrap;\n",
       "}\n",
       "</style>\n",
       "<small>shape: (3, 2)</small><table border=\"1\" class=\"dataframe\"><thead><tr><th>name</th><th>mean</th></tr><tr><td>str</td><td>f64</td></tr></thead><tbody><tr><td>&quot;318: Shawshank…</td><td>3.6</td></tr><tr><td>&quot;260: Star Wars…</td><td>3.266667</td></tr><tr><td>&quot;541: Blade Run…</td><td>3.222222</td></tr></tbody></table></div>"
      ],
      "text/plain": [
       "shape: (3, 2)\n",
       "┌───────────────────────────────────┬──────────┐\n",
       "│ name                              ┆ mean     │\n",
       "│ ---                               ┆ ---      │\n",
       "│ str                               ┆ f64      │\n",
       "╞═══════════════════════════════════╪══════════╡\n",
       "│ 318: Shawshank Redemption, The (… ┆ 3.6      │\n",
       "│ 260: Star Wars: Episode IV - A N… ┆ 3.266667 │\n",
       "│ 541: Blade Runner (1982)          ┆ 3.222222 │\n",
       "└───────────────────────────────────┴──────────┘"
      ]
     },
     "execution_count": 4,
     "metadata": {},
     "output_type": "execute_result"
    }
   ],
   "source": [
    "df = pl.read_csv(\"HW1-data.csv\")\n",
    "\n",
    "df.select(pl.exclude(\"User\").exclude(\"^Gender.*?$\")).mean().transpose(\n",
    "    include_header=True, header_name=\"name\", column_names=[\"mean\"]\n",
    ").sort(\"mean\", descending=True).head(3)"
   ]
  },
  {
   "cell_type": "markdown",
   "metadata": {},
   "source": [
    "### Assignment 1: Top Movies by Mean Count  "
   ]
  },
  {
   "cell_type": "code",
   "execution_count": 40,
   "metadata": {},
   "outputs": [
    {
     "data": {
      "text/html": [
       "<div><style>\n",
       ".dataframe > thead > tr,\n",
       ".dataframe > tbody > tr {\n",
       "  text-align: right;\n",
       "  white-space: pre-wrap;\n",
       "}\n",
       "</style>\n",
       "<small>shape: (3, 2)</small><table border=\"1\" class=\"dataframe\"><thead><tr><th>name</th><th>count</th></tr><tr><td>str</td><td>u32</td></tr></thead><tbody><tr><td>&quot;1: Toy Story (…</td><td>17</td></tr><tr><td>&quot;593: Silence o…</td><td>16</td></tr><tr><td>&quot;260: Star Wars…</td><td>15</td></tr></tbody></table></div>"
      ],
      "text/plain": [
       "shape: (3, 2)\n",
       "┌───────────────────────────────────┬───────┐\n",
       "│ name                              ┆ count │\n",
       "│ ---                               ┆ ---   │\n",
       "│ str                               ┆ u32   │\n",
       "╞═══════════════════════════════════╪═══════╡\n",
       "│ 1: Toy Story (1995)               ┆ 17    │\n",
       "│ 593: Silence of the Lambs, The (… ┆ 16    │\n",
       "│ 260: Star Wars: Episode IV - A N… ┆ 15    │\n",
       "└───────────────────────────────────┴───────┘"
      ]
     },
     "execution_count": 40,
     "metadata": {},
     "output_type": "execute_result"
    }
   ],
   "source": [
    "df = pl.read_csv(\"HW1-data.csv\")\n",
    "\n",
    "df.select(pl.exclude(\"User\").exclude(\"^Gender.*?$\")).count().transpose(\n",
    "    include_header=True, header_name=\"name\", column_names=[\"count\"]\n",
    ").sort(\"count\", descending=True).head(3)"
   ]
  },
  {
   "cell_type": "markdown",
   "metadata": {},
   "source": [
    "### Assignment 1: Top Movies by Percent Liking"
   ]
  },
  {
   "cell_type": "code",
   "execution_count": 9,
   "metadata": {},
   "outputs": [
    {
     "data": {
      "text/html": [
       "<div><style>\n",
       ".dataframe > thead > tr,\n",
       ".dataframe > tbody > tr {\n",
       "  text-align: right;\n",
       "  white-space: pre-wrap;\n",
       "}\n",
       "</style>\n",
       "<small>shape: (3, 2)</small><table border=\"1\" class=\"dataframe\"><thead><tr><th>name</th><th>4+ %</th></tr><tr><td>str</td><td>f64</td></tr></thead><tbody><tr><td>&quot;318: Shawshank…</td><td>0.7</td></tr><tr><td>&quot;260: Star Wars…</td><td>0.533333</td></tr><tr><td>&quot;3578: Gladiato…</td><td>0.5</td></tr></tbody></table></div>"
      ],
      "text/plain": [
       "shape: (3, 2)\n",
       "┌───────────────────────────────────┬──────────┐\n",
       "│ name                              ┆ 4+ %     │\n",
       "│ ---                               ┆ ---      │\n",
       "│ str                               ┆ f64      │\n",
       "╞═══════════════════════════════════╪══════════╡\n",
       "│ 318: Shawshank Redemption, The (… ┆ 0.7      │\n",
       "│ 260: Star Wars: Episode IV - A N… ┆ 0.533333 │\n",
       "│ 3578: Gladiator (2000)            ┆ 0.5      │\n",
       "└───────────────────────────────────┴──────────┘"
      ]
     },
     "execution_count": 9,
     "metadata": {},
     "output_type": "execute_result"
    }
   ],
   "source": [
    "df = pl.read_csv(\"HW1-data.csv\")\n",
    "\n",
    "df.select(pl.exclude(\"User\").exclude(\"^Gender.*?$\")).transpose(\n",
    "    include_header=True, header_name=\"name\"\n",
    ").melt(\"name\", value_name=\"rating\").with_columns(\n",
    "    [\n",
    "        (pl.col(\"rating\") >= 4).alias(\"4+\"),\n",
    "        (pl.col(\"rating\").is_not_null()).alias(\"not_empty_rating\"),\n",
    "    ]\n",
    ").group_by(\"name\").agg((pl.sum(\"4+\") / pl.sum(\"not_empty_rating\")).alias(\"4+ %\")).sort(\n",
    "    \"4+ %\", descending=True\n",
    ").head(3)"
   ]
  },
  {
   "cell_type": "markdown",
   "metadata": {},
   "source": [
    "### Assignment 1: Association with Toy Story"
   ]
  },
  {
   "cell_type": "code",
   "execution_count": 11,
   "metadata": {},
   "outputs": [
    {
     "data": {
      "text/html": [
       "<div><style>\n",
       ".dataframe > thead > tr,\n",
       ".dataframe > tbody > tr {\n",
       "  text-align: right;\n",
       "  white-space: pre-wrap;\n",
       "}\n",
       "</style>\n",
       "<small>shape: (5, 2)</small><table border=\"1\" class=\"dataframe\"><thead><tr><th>name</th><th>assoc</th></tr><tr><td>str</td><td>f64</td></tr></thead><tbody><tr><td>&quot;1: Toy Story (…</td><td>1.0</td></tr><tr><td>&quot;260: Star Wars…</td><td>0.823529</td></tr><tr><td>&quot;780: Independe…</td><td>0.764706</td></tr><tr><td>&quot;1210: Star War…</td><td>0.764706</td></tr><tr><td>&quot;593: Silence o…</td><td>0.764706</td></tr></tbody></table></div>"
      ],
      "text/plain": [
       "shape: (5, 2)\n",
       "┌───────────────────────────────────┬──────────┐\n",
       "│ name                              ┆ assoc    │\n",
       "│ ---                               ┆ ---      │\n",
       "│ str                               ┆ f64      │\n",
       "╞═══════════════════════════════════╪══════════╡\n",
       "│ 1: Toy Story (1995)               ┆ 1.0      │\n",
       "│ 260: Star Wars: Episode IV - A N… ┆ 0.823529 │\n",
       "│ 780: Independence Day (ID4) (199… ┆ 0.764706 │\n",
       "│ 1210: Star Wars: Episode VI - Re… ┆ 0.764706 │\n",
       "│ 593: Silence of the Lambs, The (… ┆ 0.764706 │\n",
       "└───────────────────────────────────┴──────────┘"
      ]
     },
     "execution_count": 11,
     "metadata": {},
     "output_type": "execute_result"
    }
   ],
   "source": [
    "df = pl.read_csv(\"HW1-data.csv\")\n",
    "\n",
    "toy_story_raters = df.select(\n",
    "    pl.col(\"^.*Toy Story.*$\").alias(\"rate\"), pl.col(\"User\")\n",
    ").filter(pl.col(\"rate\").is_not_null())\n",
    "\n",
    "df.select(pl.exclude(\"^Gender.*?$\")).melt(\n",
    "    \"User\", value_name=\"rate\", variable_name=\"name\"\n",
    ").join(toy_story_raters, on=\"User\", how=\"left\", suffix=\"_toy_story\").with_columns(\n",
    "    [\n",
    "        (pl.col(\"rate_toy_story\").is_not_null() & pl.col(\"rate\").is_not_null()).alias(\n",
    "            \"both\"\n",
    "        ),\n",
    "        (pl.col(\"rate_toy_story\").is_not_null()).alias(\"only_toy_story\"),\n",
    "    ]\n",
    ").group_by(\"name\").agg(\n",
    "    pl.sum(\"both\").alias(\"both\"),\n",
    "    pl.sum(\"only_toy_story\").alias(\"only_toy_story\"),\n",
    ").select(\n",
    "    pl.col(\"name\"), (pl.col(\"both\") / pl.col(\"only_toy_story\")).alias(\"assoc\")\n",
    ").sort(\"assoc\", descending=True).head(5)"
   ]
  },
  {
   "cell_type": "markdown",
   "metadata": {},
   "source": [
    "### Assignment 1: Correlation with Toy Story"
   ]
  },
  {
   "cell_type": "code",
   "execution_count": 6,
   "metadata": {},
   "outputs": [
    {
     "data": {
      "text/html": [
       "<div><style>\n",
       ".dataframe > thead > tr,\n",
       ".dataframe > tbody > tr {\n",
       "  text-align: right;\n",
       "  white-space: pre-wrap;\n",
       "}\n",
       "</style>\n",
       "<small>shape: (4, 2)</small><table border=\"1\" class=\"dataframe\"><thead><tr><th>name</th><th>corr_toy_story</th></tr><tr><td>str</td><td>f64</td></tr></thead><tbody><tr><td>&quot;1: Toy Story (…</td><td>1.0</td></tr><tr><td>&quot;318: Shawshank…</td><td>0.888523</td></tr><tr><td>&quot;34: Babe (1995…</td><td>0.811107</td></tr><tr><td>&quot;296: Pulp Fict…</td><td>0.709842</td></tr></tbody></table></div>"
      ],
      "text/plain": [
       "shape: (4, 2)\n",
       "┌───────────────────────────────────┬────────────────┐\n",
       "│ name                              ┆ corr_toy_story │\n",
       "│ ---                               ┆ ---            │\n",
       "│ str                               ┆ f64            │\n",
       "╞═══════════════════════════════════╪════════════════╡\n",
       "│ 1: Toy Story (1995)               ┆ 1.0            │\n",
       "│ 318: Shawshank Redemption, The (… ┆ 0.888523       │\n",
       "│ 34: Babe (1995)                   ┆ 0.811107       │\n",
       "│ 296: Pulp Fiction (1994)          ┆ 0.709842       │\n",
       "└───────────────────────────────────┴────────────────┘"
      ]
     },
     "execution_count": 6,
     "metadata": {},
     "output_type": "execute_result"
    }
   ],
   "source": [
    "df = pl.read_csv(\"HW1-data.csv\")\n",
    "\n",
    "# The polars corr function uses numpy.corrcoef, which doesn't skip nulls.\n",
    "# This difference in results from the CORREL Excel function means that the values don't pass Coursera's checks.\n",
    "# The corr implementation in pandas and Excel seems the same. So, I need to change the polars frame to pandas, calculate corr, and then change it back again.\n",
    "corr_matrix_df = df.select(pl.exclude(\"User\").exclude(\"^Gender.*?$\")).to_pandas().corr()\n",
    "\n",
    "pl.concat(\n",
    "    [\n",
    "        df.select(pl.exclude(\"User\").exclude(\"^Gender.*?$\"))\n",
    "        .transpose(include_header=True, header_name=\"name\")\n",
    "        .select(\"name\"),\n",
    "        pl.from_pandas(corr_matrix_df).select(\n",
    "            pl.col(\"1: Toy Story (1995)\").alias(\"corr_toy_story\")\n",
    "        ),\n",
    "    ],\n",
    "    how=\"horizontal\",\n",
    ").sort(\"corr_toy_story\", descending=True).head(4)"
   ]
  },
  {
   "cell_type": "markdown",
   "metadata": {},
   "source": [
    "### Assignment 1: Male-Female Differences in Average Rating"
   ]
  },
  {
   "cell_type": "code",
   "execution_count": 12,
   "metadata": {},
   "outputs": [
    {
     "data": {
      "text/html": [
       "<div><style>\n",
       ".dataframe > thead > tr,\n",
       ".dataframe > tbody > tr {\n",
       "  text-align: right;\n",
       "  white-space: pre-wrap;\n",
       "}\n",
       "</style>\n",
       "<small>shape: (3, 2)</small><table border=\"1\" class=\"dataframe\"><thead><tr><th>name</th><th>diff</th></tr><tr><td>str</td><td>f64</td></tr></thead><tbody><tr><td>&quot;1198: Raiders …</td><td>1.666667</td></tr><tr><td>&quot;527: Schindler…</td><td>1.0</td></tr><tr><td>&quot;2571: Matrix, …</td><td>0.742857</td></tr></tbody></table></div>"
      ],
      "text/plain": [
       "shape: (3, 2)\n",
       "┌───────────────────────────────────┬──────────┐\n",
       "│ name                              ┆ diff     │\n",
       "│ ---                               ┆ ---      │\n",
       "│ str                               ┆ f64      │\n",
       "╞═══════════════════════════════════╪══════════╡\n",
       "│ 1198: Raiders of the Lost Ark (1… ┆ 1.666667 │\n",
       "│ 527: Schindler's List (1993)      ┆ 1.0      │\n",
       "│ 2571: Matrix, The (1999)          ┆ 0.742857 │\n",
       "└───────────────────────────────────┴──────────┘"
      ]
     },
     "metadata": {},
     "output_type": "display_data"
    },
    {
     "data": {
      "text/html": [
       "<div><style>\n",
       ".dataframe > thead > tr,\n",
       ".dataframe > tbody > tr {\n",
       "  text-align: right;\n",
       "  white-space: pre-wrap;\n",
       "}\n",
       "</style>\n",
       "<small>shape: (3, 2)</small><table border=\"1\" class=\"dataframe\"><thead><tr><th>name</th><th>diff</th></tr><tr><td>str</td><td>f64</td></tr></thead><tbody><tr><td>&quot;2396: Shakespe…</td><td>2.107143</td></tr><tr><td>&quot;34: Babe (1995…</td><td>1.428571</td></tr><tr><td>&quot;296: Pulp Fict…</td><td>1.375</td></tr></tbody></table></div>"
      ],
      "text/plain": [
       "shape: (3, 2)\n",
       "┌──────────────────────────────────┬──────────┐\n",
       "│ name                             ┆ diff     │\n",
       "│ ---                              ┆ ---      │\n",
       "│ str                              ┆ f64      │\n",
       "╞══════════════════════════════════╪══════════╡\n",
       "│ 2396: Shakespeare in Love (1998) ┆ 2.107143 │\n",
       "│ 34: Babe (1995)                  ┆ 1.428571 │\n",
       "│ 296: Pulp Fiction (1994)         ┆ 1.375    │\n",
       "└──────────────────────────────────┴──────────┘"
      ]
     },
     "metadata": {},
     "output_type": "display_data"
    },
    {
     "data": {
      "text/html": [
       "<div><style>\n",
       ".dataframe > thead > tr,\n",
       ".dataframe > tbody > tr {\n",
       "  text-align: right;\n",
       "  white-space: pre-wrap;\n",
       "}\n",
       "</style>\n",
       "<small>shape: (1, 1)</small><table border=\"1\" class=\"dataframe\"><thead><tr><th>overall_mean</th></tr><tr><td>f64</td></tr></thead><tbody><tr><td>0.041857</td></tr></tbody></table></div>"
      ],
      "text/plain": [
       "shape: (1, 1)\n",
       "┌──────────────┐\n",
       "│ overall_mean │\n",
       "│ ---          │\n",
       "│ f64          │\n",
       "╞══════════════╡\n",
       "│ 0.041857     │\n",
       "└──────────────┘"
      ]
     },
     "metadata": {},
     "output_type": "display_data"
    }
   ],
   "source": [
    "df = pl.read_csv(\"HW1-data.csv\")\n",
    "\n",
    "mean_stats_df = (\n",
    "    df.select(pl.exclude(\"User\"))\n",
    "    .rename({\"Gender (1 =F, 0=M)\": \"gender\"})\n",
    "    .melt(\"gender\", value_name=\"rating\", variable_name=\"name\")\n",
    "    .group_by([\"gender\", \"name\"])\n",
    "    .agg(pl.mean(\"rating\").alias(\"mean\"))\n",
    ")\n",
    "\n",
    "male_mean_stats_df = mean_stats_df.filter(pl.col(\"gender\") == 0).sort(\n",
    "    \"mean\", descending=True\n",
    ")\n",
    "female_mean_stats_df = mean_stats_df.filter(pl.col(\"gender\") == 1).sort(\n",
    "    \"mean\", descending=True\n",
    ")\n",
    "\n",
    "diff_df = male_mean_stats_df.join(female_mean_stats_df, on=\"name\", how=\"inner\").select(\n",
    "    \"name\", (pl.col(\"mean\") - pl.col(\"mean_right\")).alias(\"diff\")\n",
    ")\n",
    "\n",
    "# Male over Female\n",
    "display(diff_df.sort(\"diff\", descending=True).head(3))\n",
    "\n",
    "# Female over Male\n",
    "display(\n",
    "    diff_df.select(pl.col(\"name\"), pl.col(\"diff\") * -1)\n",
    "    .sort(\"diff\", descending=True)\n",
    "    .head(3)\n",
    ")\n",
    "\n",
    "display(\n",
    "    df.select(pl.exclude(\"User\"))\n",
    "    .rename({\"Gender (1 =F, 0=M)\": \"gender\"})\n",
    "    .melt(\"gender\", value_name=\"rating\", variable_name=\"name\")\n",
    "    .group_by(\"gender\")\n",
    "    .agg(pl.mean(\"rating\").alias(\"overall_mean\"))\n",
    "    .sort(\"gender\", descending=True)\n",
    "    .select(pl.first(\"overall_mean\") - pl.last(\"overall_mean\"))\n",
    ")"
   ]
  },
  {
   "cell_type": "markdown",
   "metadata": {},
   "source": [
    "### Assesment 1: Male-Female differences in Liking"
   ]
  },
  {
   "cell_type": "code",
   "execution_count": 91,
   "metadata": {},
   "outputs": [
    {
     "data": {
      "text/html": [
       "<div><style>\n",
       ".dataframe > thead > tr,\n",
       ".dataframe > tbody > tr {\n",
       "  text-align: right;\n",
       "  white-space: pre-wrap;\n",
       "}\n",
       "</style>\n",
       "<small>shape: (3, 2)</small><table border=\"1\" class=\"dataframe\"><thead><tr><th>name</th><th>diff</th></tr><tr><td>str</td><td>f64</td></tr></thead><tbody><tr><td>&quot;1198: Raiders …</td><td>0.5</td></tr><tr><td>&quot;2571: Matrix, …</td><td>0.371429</td></tr><tr><td>&quot;527: Schindler…</td><td>0.333333</td></tr></tbody></table></div>"
      ],
      "text/plain": [
       "shape: (3, 2)\n",
       "┌───────────────────────────────────┬──────────┐\n",
       "│ name                              ┆ diff     │\n",
       "│ ---                               ┆ ---      │\n",
       "│ str                               ┆ f64      │\n",
       "╞═══════════════════════════════════╪══════════╡\n",
       "│ 1198: Raiders of the Lost Ark (1… ┆ 0.5      │\n",
       "│ 2571: Matrix, The (1999)          ┆ 0.371429 │\n",
       "│ 527: Schindler's List (1993)      ┆ 0.333333 │\n",
       "└───────────────────────────────────┴──────────┘"
      ]
     },
     "metadata": {},
     "output_type": "display_data"
    },
    {
     "data": {
      "text/html": [
       "<div><style>\n",
       ".dataframe > thead > tr,\n",
       ".dataframe > tbody > tr {\n",
       "  text-align: right;\n",
       "  white-space: pre-wrap;\n",
       "}\n",
       "</style>\n",
       "<small>shape: (3, 2)</small><table border=\"1\" class=\"dataframe\"><thead><tr><th>name</th><th>diff</th></tr><tr><td>str</td><td>f64</td></tr></thead><tbody><tr><td>&quot;2396: Shakespe…</td><td>0.75</td></tr><tr><td>&quot;34: Babe (1995…</td><td>0.571429</td></tr><tr><td>&quot;541: Blade Run…</td><td>0.55</td></tr></tbody></table></div>"
      ],
      "text/plain": [
       "shape: (3, 2)\n",
       "┌──────────────────────────────────┬──────────┐\n",
       "│ name                             ┆ diff     │\n",
       "│ ---                              ┆ ---      │\n",
       "│ str                              ┆ f64      │\n",
       "╞══════════════════════════════════╪══════════╡\n",
       "│ 2396: Shakespeare in Love (1998) ┆ 0.75     │\n",
       "│ 34: Babe (1995)                  ┆ 0.571429 │\n",
       "│ 541: Blade Runner (1982)         ┆ 0.55     │\n",
       "└──────────────────────────────────┴──────────┘"
      ]
     },
     "metadata": {},
     "output_type": "display_data"
    }
   ],
   "source": [
    "df = pl.read_csv(\"HW1-data.csv\")\n",
    "\n",
    "\n",
    "def count_if(series):\n",
    "    return sum(x >= 4 for x in series)\n",
    "\n",
    "\n",
    "stats_df = (\n",
    "    df.select(pl.exclude(\"User\"))\n",
    "    .rename({\"Gender (1 =F, 0=M)\": \"gender\"})\n",
    "    .melt(\"gender\", value_name=\"rating\", variable_name=\"name\")\n",
    "    .with_columns((pl.col(\"rating\") >= 4).alias(\"4+\"))\n",
    "    .with_columns((pl.col(\"rating\").is_not_null()).alias(\"not_empty\"))\n",
    "    .group_by([\"name\", \"gender\"])\n",
    "    .agg((pl.sum(\"4+\") / pl.sum(\"not_empty\")).alias(\"4+ %\"))\n",
    ")\n",
    "\n",
    "male_stats_df = stats_df.filter(pl.col(\"gender\") == 0).sort(\"4+ %\", descending=True)\n",
    "female_stats_df = stats_df.filter(pl.col(\"gender\") == 1).sort(\"4+ %\", descending=True)\n",
    "\n",
    "diff_df = male_stats_df.join(female_stats_df, on=\"name\", how=\"inner\").select(\n",
    "    \"name\", (pl.col(\"4+ %\") - pl.col(\"4+ %_right\")).alias(\"diff\")\n",
    ")\n",
    "\n",
    "# Male over Female\n",
    "display(diff_df.sort(\"diff\", descending=True).head(3))\n",
    "\n",
    "# Female over Male\n",
    "display(\n",
    "    diff_df.select(pl.col(\"name\"), pl.col(\"diff\") * -1)\n",
    "    .sort(\"diff\", descending=True)\n",
    "    .head(3)\n",
    ")"
   ]
  }
 ],
 "metadata": {
  "kernelspec": {
   "display_name": ".venv",
   "language": "python",
   "name": "python3"
  },
  "language_info": {
   "codemirror_mode": {
    "name": "ipython",
    "version": 3
   },
   "file_extension": ".py",
   "mimetype": "text/x-python",
   "name": "python",
   "nbconvert_exporter": "python",
   "pygments_lexer": "ipython3",
   "version": "3.12.1"
  }
 },
 "nbformat": 4,
 "nbformat_minor": 2
}

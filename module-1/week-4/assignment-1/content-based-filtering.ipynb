{
 "cells": [
  {
   "cell_type": "code",
   "execution_count": 9,
   "metadata": {},
   "outputs": [
    {
     "name": "stdout",
     "output_type": "stream",
     "text": [
      "Requirement already satisfied: fastexcel in ./.venv/lib/python3.12/site-packages (0.9.0)\n",
      "Collecting xlsx2csv\n",
      "  Downloading xlsx2csv-0.8.2.tar.gz (227 kB)\n",
      "\u001b[2K     \u001b[90m━━━━━━━━━━━━━━━━━━━━━━━━━━━━━━━━━━━━━━━\u001b[0m \u001b[32m227.1/227.1 kB\u001b[0m \u001b[31m2.8 MB/s\u001b[0m eta \u001b[36m0:00:00\u001b[0m00:01\u001b[0m00:01\u001b[0m\n",
      "\u001b[?25h  Installing build dependencies ... \u001b[?25ldone\n",
      "\u001b[?25h  Getting requirements to build wheel ... \u001b[?25ldone\n",
      "\u001b[?25h  Preparing metadata (pyproject.toml) ... \u001b[?25ldone\n",
      "\u001b[?25hRequirement already satisfied: polars[pandas,pyarrow] in ./.venv/lib/python3.12/site-packages (0.20.10)\n",
      "Requirement already satisfied: pyarrow>=7.0.0 in ./.venv/lib/python3.12/site-packages (from polars[pandas,pyarrow]) (15.0.0)\n",
      "Requirement already satisfied: pandas in ./.venv/lib/python3.12/site-packages (from polars[pandas,pyarrow]) (2.2.0)\n",
      "Requirement already satisfied: numpy<2,>=1.16.6 in ./.venv/lib/python3.12/site-packages (from pyarrow>=7.0.0->polars[pandas,pyarrow]) (1.26.4)\n",
      "Requirement already satisfied: python-dateutil>=2.8.2 in ./.venv/lib/python3.12/site-packages (from pandas->polars[pandas,pyarrow]) (2.8.2)\n",
      "Requirement already satisfied: pytz>=2020.1 in ./.venv/lib/python3.12/site-packages (from pandas->polars[pandas,pyarrow]) (2024.1)\n",
      "Requirement already satisfied: tzdata>=2022.7 in ./.venv/lib/python3.12/site-packages (from pandas->polars[pandas,pyarrow]) (2024.1)\n",
      "Requirement already satisfied: six>=1.5 in ./.venv/lib/python3.12/site-packages (from python-dateutil>=2.8.2->pandas->polars[pandas,pyarrow]) (1.16.0)\n",
      "Building wheels for collected packages: xlsx2csv\n",
      "  Building wheel for xlsx2csv (pyproject.toml) ... \u001b[?25ldone\n",
      "\u001b[?25h  Created wheel for xlsx2csv: filename=xlsx2csv-0.8.2-py3-none-any.whl size=14219 sha256=f3b9318199cb8f54c757afa6e8998c3957ad5fa012297afa6a2378149c4a2a0a\n",
      "  Stored in directory: /Users/popitich/Library/Caches/pip/wheels/7f/6a/f1/38d4a33e06cfe8293395f24e063a325e60d4a0d15783adc775\n",
      "Successfully built xlsx2csv\n",
      "Installing collected packages: xlsx2csv\n",
      "Successfully installed xlsx2csv-0.8.2\n",
      "Note: you may need to restart the kernel to use updated packages.\n"
     ]
    }
   ],
   "source": [
    "%pip install 'polars[pandas,pyarrow]' fastexcel xlsx2csv"
   ]
  },
  {
   "cell_type": "code",
   "execution_count": 2,
   "metadata": {},
   "outputs": [],
   "source": [
    "import polars as pl"
   ]
  },
  {
   "cell_type": "code",
   "execution_count": 27,
   "metadata": {},
   "outputs": [
    {
     "data": {
      "text/html": [
       "<div><style>\n",
       ".dataframe > thead > tr,\n",
       ".dataframe > tbody > tr {\n",
       "  text-align: right;\n",
       "  white-space: pre-wrap;\n",
       "}\n",
       "</style>\n",
       "<small>shape: (20, 14)</small><table border=\"1\" class=\"dataframe\"><thead><tr><th>doc_id</th><th>baseball</th><th>economics</th><th>politics</th><th>Europe</th><th>Asia</th><th>soccer</th><th>war</th><th>security</th><th>shopping</th><th>family</th><th>num-attr</th><th>User 1</th><th>User 2</th></tr><tr><td>str</td><td>i64</td><td>i64</td><td>i64</td><td>i64</td><td>i64</td><td>i64</td><td>i64</td><td>i64</td><td>i64</td><td>i64</td><td>i64</td><td>i64</td><td>i64</td></tr></thead><tbody><tr><td>&quot;doc1&quot;</td><td>1</td><td>0</td><td>1</td><td>0</td><td>1</td><td>1</td><td>0</td><td>0</td><td>0</td><td>1</td><td>5</td><td>1</td><td>-1</td></tr><tr><td>&quot;doc2&quot;</td><td>0</td><td>1</td><td>1</td><td>1</td><td>0</td><td>0</td><td>0</td><td>1</td><td>0</td><td>0</td><td>4</td><td>-1</td><td>1</td></tr><tr><td>&quot;doc3&quot;</td><td>0</td><td>0</td><td>0</td><td>1</td><td>1</td><td>1</td><td>0</td><td>0</td><td>0</td><td>0</td><td>3</td><td>null</td><td>null</td></tr><tr><td>&quot;doc4&quot;</td><td>0</td><td>0</td><td>1</td><td>1</td><td>0</td><td>0</td><td>1</td><td>1</td><td>0</td><td>0</td><td>4</td><td>null</td><td>1</td></tr><tr><td>&quot;doc5&quot;</td><td>0</td><td>1</td><td>0</td><td>0</td><td>0</td><td>0</td><td>0</td><td>0</td><td>1</td><td>1</td><td>3</td><td>null</td><td>null</td></tr><tr><td>&quot;doc6&quot;</td><td>1</td><td>0</td><td>0</td><td>1</td><td>0</td><td>0</td><td>0</td><td>0</td><td>0</td><td>0</td><td>2</td><td>1</td><td>null</td></tr><tr><td>&quot;doc7&quot;</td><td>0</td><td>0</td><td>0</td><td>0</td><td>0</td><td>0</td><td>0</td><td>1</td><td>0</td><td>1</td><td>2</td><td>null</td><td>null</td></tr><tr><td>&quot;doc8&quot;</td><td>0</td><td>0</td><td>1</td><td>1</td><td>0</td><td>0</td><td>1</td><td>0</td><td>0</td><td>1</td><td>4</td><td>null</td><td>null</td></tr><tr><td>&quot;doc9&quot;</td><td>0</td><td>0</td><td>0</td><td>0</td><td>0</td><td>1</td><td>0</td><td>0</td><td>1</td><td>0</td><td>2</td><td>null</td><td>null</td></tr><tr><td>&quot;doc10&quot;</td><td>0</td><td>1</td><td>0</td><td>0</td><td>1</td><td>0</td><td>1</td><td>0</td><td>0</td><td>0</td><td>3</td><td>null</td><td>null</td></tr><tr><td>&quot;doc11&quot;</td><td>0</td><td>0</td><td>1</td><td>0</td><td>1</td><td>0</td><td>0</td><td>0</td><td>1</td><td>0</td><td>3</td><td>null</td><td>null</td></tr><tr><td>&quot;doc12&quot;</td><td>1</td><td>0</td><td>0</td><td>0</td><td>0</td><td>1</td><td>1</td><td>0</td><td>0</td><td>0</td><td>3</td><td>null</td><td>-1</td></tr><tr><td>&quot;doc13&quot;</td><td>0</td><td>0</td><td>1</td><td>1</td><td>1</td><td>0</td><td>0</td><td>1</td><td>0</td><td>0</td><td>4</td><td>null</td><td>null</td></tr><tr><td>&quot;doc14&quot;</td><td>0</td><td>1</td><td>1</td><td>1</td><td>0</td><td>0</td><td>0</td><td>0</td><td>1</td><td>0</td><td>4</td><td>null</td><td>null</td></tr><tr><td>&quot;doc15&quot;</td><td>0</td><td>0</td><td>0</td><td>1</td><td>0</td><td>1</td><td>1</td><td>1</td><td>0</td><td>0</td><td>4</td><td>null</td><td>null</td></tr><tr><td>&quot;doc16&quot;</td><td>1</td><td>0</td><td>0</td><td>0</td><td>0</td><td>1</td><td>0</td><td>0</td><td>1</td><td>0</td><td>3</td><td>1</td><td>null</td></tr><tr><td>&quot;doc17&quot;</td><td>0</td><td>1</td><td>1</td><td>1</td><td>0</td><td>0</td><td>0</td><td>1</td><td>0</td><td>0</td><td>4</td><td>null</td><td>1</td></tr><tr><td>&quot;doc18&quot;</td><td>0</td><td>0</td><td>0</td><td>1</td><td>0</td><td>0</td><td>0</td><td>0</td><td>1</td><td>0</td><td>2</td><td>null</td><td>null</td></tr><tr><td>&quot;doc19&quot;</td><td>0</td><td>1</td><td>1</td><td>0</td><td>1</td><td>0</td><td>1</td><td>0</td><td>0</td><td>1</td><td>5</td><td>-1</td><td>null</td></tr><tr><td>&quot;doc20&quot;</td><td>0</td><td>0</td><td>1</td><td>1</td><td>0</td><td>0</td><td>1</td><td>0</td><td>1</td><td>0</td><td>4</td><td>null</td><td>null</td></tr></tbody></table></div>"
      ],
      "text/plain": [
       "shape: (20, 14)\n",
       "┌────────┬──────────┬───────────┬──────────┬───┬────────┬──────────┬────────┬────────┐\n",
       "│ doc_id ┆ baseball ┆ economics ┆ politics ┆ … ┆ family ┆ num-attr ┆ User 1 ┆ User 2 │\n",
       "│ ---    ┆ ---      ┆ ---       ┆ ---      ┆   ┆ ---    ┆ ---      ┆ ---    ┆ ---    │\n",
       "│ str    ┆ i64      ┆ i64       ┆ i64      ┆   ┆ i64    ┆ i64      ┆ i64    ┆ i64    │\n",
       "╞════════╪══════════╪═══════════╪══════════╪═══╪════════╪══════════╪════════╪════════╡\n",
       "│ doc1   ┆ 1        ┆ 0         ┆ 1        ┆ … ┆ 1      ┆ 5        ┆ 1      ┆ -1     │\n",
       "│ doc2   ┆ 0        ┆ 1         ┆ 1        ┆ … ┆ 0      ┆ 4        ┆ -1     ┆ 1      │\n",
       "│ doc3   ┆ 0        ┆ 0         ┆ 0        ┆ … ┆ 0      ┆ 3        ┆ null   ┆ null   │\n",
       "│ doc4   ┆ 0        ┆ 0         ┆ 1        ┆ … ┆ 0      ┆ 4        ┆ null   ┆ 1      │\n",
       "│ doc5   ┆ 0        ┆ 1         ┆ 0        ┆ … ┆ 1      ┆ 3        ┆ null   ┆ null   │\n",
       "│ …      ┆ …        ┆ …         ┆ …        ┆ … ┆ …      ┆ …        ┆ …      ┆ …      │\n",
       "│ doc16  ┆ 1        ┆ 0         ┆ 0        ┆ … ┆ 0      ┆ 3        ┆ 1      ┆ null   │\n",
       "│ doc17  ┆ 0        ┆ 1         ┆ 1        ┆ … ┆ 0      ┆ 4        ┆ null   ┆ 1      │\n",
       "│ doc18  ┆ 0        ┆ 0         ┆ 0        ┆ … ┆ 0      ┆ 2        ┆ null   ┆ null   │\n",
       "│ doc19  ┆ 0        ┆ 1         ┆ 1        ┆ … ┆ 1      ┆ 5        ┆ -1     ┆ null   │\n",
       "│ doc20  ┆ 0        ┆ 0         ┆ 1        ┆ … ┆ 0      ┆ 4        ┆ null   ┆ null   │\n",
       "└────────┴──────────┴───────────┴──────────┴───┴────────┴──────────┴────────┴────────┘"
      ]
     },
     "metadata": {},
     "output_type": "display_data"
    }
   ],
   "source": [
    "df = pl.read_excel(\"Assignment 2.xlsx\")\n",
    "df = df.drop([\"Pred1\", \"Pred2\"]).slice(0, 20)\n",
    "display(df)"
   ]
  },
  {
   "cell_type": "markdown",
   "metadata": {},
   "source": [
    "## Part 1. Build and use a very basic profile"
   ]
  },
  {
   "cell_type": "code",
   "execution_count": 140,
   "metadata": {},
   "outputs": [
    {
     "data": {
      "text/html": [
       "<div><style>\n",
       ".dataframe > thead > tr,\n",
       ".dataframe > tbody > tr {\n",
       "  text-align: right;\n",
       "  white-space: pre-wrap;\n",
       "}\n",
       "</style>\n",
       "<small>shape: (20,)</small><table border=\"1\" class=\"dataframe\"><thead><tr><th>User 1</th></tr><tr><td>i64</td></tr></thead><tbody><tr><td>1</td></tr><tr><td>-1</td></tr><tr><td>0</td></tr><tr><td>0</td></tr><tr><td>0</td></tr><tr><td>1</td></tr><tr><td>0</td></tr><tr><td>0</td></tr><tr><td>0</td></tr><tr><td>0</td></tr><tr><td>0</td></tr><tr><td>0</td></tr><tr><td>0</td></tr><tr><td>0</td></tr><tr><td>0</td></tr><tr><td>1</td></tr><tr><td>0</td></tr><tr><td>0</td></tr><tr><td>-1</td></tr><tr><td>0</td></tr></tbody></table></div>"
      ],
      "text/plain": [
       "shape: (20,)\n",
       "Series: 'User 1' [i64]\n",
       "[\n",
       "\t1\n",
       "\t-1\n",
       "\t0\n",
       "\t0\n",
       "\t0\n",
       "\t1\n",
       "\t0\n",
       "\t0\n",
       "\t0\n",
       "\t0\n",
       "\t0\n",
       "\t0\n",
       "\t0\n",
       "\t0\n",
       "\t0\n",
       "\t1\n",
       "\t0\n",
       "\t0\n",
       "\t-1\n",
       "\t0\n",
       "]"
      ]
     },
     "metadata": {},
     "output_type": "display_data"
    },
    {
     "data": {
      "text/html": [
       "<div><style>\n",
       ".dataframe > thead > tr,\n",
       ".dataframe > tbody > tr {\n",
       "  text-align: right;\n",
       "  white-space: pre-wrap;\n",
       "}\n",
       "</style>\n",
       "<small>shape: (20, 10)</small><table border=\"1\" class=\"dataframe\"><thead><tr><th>baseball</th><th>economics</th><th>politics</th><th>Europe</th><th>Asia</th><th>soccer</th><th>war</th><th>security</th><th>shopping</th><th>family</th></tr><tr><td>i64</td><td>i64</td><td>i64</td><td>i64</td><td>i64</td><td>i64</td><td>i64</td><td>i64</td><td>i64</td><td>i64</td></tr></thead><tbody><tr><td>1</td><td>0</td><td>1</td><td>0</td><td>1</td><td>1</td><td>0</td><td>0</td><td>0</td><td>1</td></tr><tr><td>0</td><td>1</td><td>1</td><td>1</td><td>0</td><td>0</td><td>0</td><td>1</td><td>0</td><td>0</td></tr><tr><td>0</td><td>0</td><td>0</td><td>1</td><td>1</td><td>1</td><td>0</td><td>0</td><td>0</td><td>0</td></tr><tr><td>0</td><td>0</td><td>1</td><td>1</td><td>0</td><td>0</td><td>1</td><td>1</td><td>0</td><td>0</td></tr><tr><td>0</td><td>1</td><td>0</td><td>0</td><td>0</td><td>0</td><td>0</td><td>0</td><td>1</td><td>1</td></tr><tr><td>1</td><td>0</td><td>0</td><td>1</td><td>0</td><td>0</td><td>0</td><td>0</td><td>0</td><td>0</td></tr><tr><td>0</td><td>0</td><td>0</td><td>0</td><td>0</td><td>0</td><td>0</td><td>1</td><td>0</td><td>1</td></tr><tr><td>0</td><td>0</td><td>1</td><td>1</td><td>0</td><td>0</td><td>1</td><td>0</td><td>0</td><td>1</td></tr><tr><td>0</td><td>0</td><td>0</td><td>0</td><td>0</td><td>1</td><td>0</td><td>0</td><td>1</td><td>0</td></tr><tr><td>0</td><td>1</td><td>0</td><td>0</td><td>1</td><td>0</td><td>1</td><td>0</td><td>0</td><td>0</td></tr><tr><td>0</td><td>0</td><td>1</td><td>0</td><td>1</td><td>0</td><td>0</td><td>0</td><td>1</td><td>0</td></tr><tr><td>1</td><td>0</td><td>0</td><td>0</td><td>0</td><td>1</td><td>1</td><td>0</td><td>0</td><td>0</td></tr><tr><td>0</td><td>0</td><td>1</td><td>1</td><td>1</td><td>0</td><td>0</td><td>1</td><td>0</td><td>0</td></tr><tr><td>0</td><td>1</td><td>1</td><td>1</td><td>0</td><td>0</td><td>0</td><td>0</td><td>1</td><td>0</td></tr><tr><td>0</td><td>0</td><td>0</td><td>1</td><td>0</td><td>1</td><td>1</td><td>1</td><td>0</td><td>0</td></tr><tr><td>1</td><td>0</td><td>0</td><td>0</td><td>0</td><td>1</td><td>0</td><td>0</td><td>1</td><td>0</td></tr><tr><td>0</td><td>1</td><td>1</td><td>1</td><td>0</td><td>0</td><td>0</td><td>1</td><td>0</td><td>0</td></tr><tr><td>0</td><td>0</td><td>0</td><td>1</td><td>0</td><td>0</td><td>0</td><td>0</td><td>1</td><td>0</td></tr><tr><td>0</td><td>1</td><td>1</td><td>0</td><td>1</td><td>0</td><td>1</td><td>0</td><td>0</td><td>1</td></tr><tr><td>0</td><td>0</td><td>1</td><td>1</td><td>0</td><td>0</td><td>1</td><td>0</td><td>1</td><td>0</td></tr></tbody></table></div>"
      ],
      "text/plain": [
       "shape: (20, 10)\n",
       "┌──────────┬───────────┬──────────┬────────┬───┬─────┬──────────┬──────────┬────────┐\n",
       "│ baseball ┆ economics ┆ politics ┆ Europe ┆ … ┆ war ┆ security ┆ shopping ┆ family │\n",
       "│ ---      ┆ ---       ┆ ---      ┆ ---    ┆   ┆ --- ┆ ---      ┆ ---      ┆ ---    │\n",
       "│ i64      ┆ i64       ┆ i64      ┆ i64    ┆   ┆ i64 ┆ i64      ┆ i64      ┆ i64    │\n",
       "╞══════════╪═══════════╪══════════╪════════╪═══╪═════╪══════════╪══════════╪════════╡\n",
       "│ 1        ┆ 0         ┆ 1        ┆ 0      ┆ … ┆ 0   ┆ 0        ┆ 0        ┆ 1      │\n",
       "│ 0        ┆ 1         ┆ 1        ┆ 1      ┆ … ┆ 0   ┆ 1        ┆ 0        ┆ 0      │\n",
       "│ 0        ┆ 0         ┆ 0        ┆ 1      ┆ … ┆ 0   ┆ 0        ┆ 0        ┆ 0      │\n",
       "│ 0        ┆ 0         ┆ 1        ┆ 1      ┆ … ┆ 1   ┆ 1        ┆ 0        ┆ 0      │\n",
       "│ 0        ┆ 1         ┆ 0        ┆ 0      ┆ … ┆ 0   ┆ 0        ┆ 1        ┆ 1      │\n",
       "│ …        ┆ …         ┆ …        ┆ …      ┆ … ┆ …   ┆ …        ┆ …        ┆ …      │\n",
       "│ 1        ┆ 0         ┆ 0        ┆ 0      ┆ … ┆ 0   ┆ 0        ┆ 1        ┆ 0      │\n",
       "│ 0        ┆ 1         ┆ 1        ┆ 1      ┆ … ┆ 0   ┆ 1        ┆ 0        ┆ 0      │\n",
       "│ 0        ┆ 0         ┆ 0        ┆ 1      ┆ … ┆ 0   ┆ 0        ┆ 1        ┆ 0      │\n",
       "│ 0        ┆ 1         ┆ 1        ┆ 0      ┆ … ┆ 1   ┆ 0        ┆ 0        ┆ 1      │\n",
       "│ 0        ┆ 0         ┆ 1        ┆ 1      ┆ … ┆ 1   ┆ 0        ┆ 1        ┆ 0      │\n",
       "└──────────┴───────────┴──────────┴────────┴───┴─────┴──────────┴──────────┴────────┘"
      ]
     },
     "metadata": {},
     "output_type": "display_data"
    },
    {
     "data": {
      "text/html": [
       "<div><style>\n",
       ".dataframe > thead > tr,\n",
       ".dataframe > tbody > tr {\n",
       "  text-align: right;\n",
       "  white-space: pre-wrap;\n",
       "}\n",
       "</style>\n",
       "<small>shape: (1, 10)</small><table border=\"1\" class=\"dataframe\"><thead><tr><th>baseball</th><th>economics</th><th>politics</th><th>Europe</th><th>Asia</th><th>soccer</th><th>war</th><th>security</th><th>shopping</th><th>family</th></tr><tr><td>i64</td><td>i64</td><td>i64</td><td>i64</td><td>i64</td><td>i64</td><td>i64</td><td>i64</td><td>i64</td><td>i64</td></tr></thead><tbody><tr><td>3</td><td>-2</td><td>-1</td><td>0</td><td>0</td><td>2</td><td>-1</td><td>-1</td><td>1</td><td>0</td></tr></tbody></table></div>"
      ],
      "text/plain": [
       "shape: (1, 10)\n",
       "┌──────────┬───────────┬──────────┬────────┬───┬─────┬──────────┬──────────┬────────┐\n",
       "│ baseball ┆ economics ┆ politics ┆ Europe ┆ … ┆ war ┆ security ┆ shopping ┆ family │\n",
       "│ ---      ┆ ---       ┆ ---      ┆ ---    ┆   ┆ --- ┆ ---      ┆ ---      ┆ ---    │\n",
       "│ i64      ┆ i64       ┆ i64      ┆ i64    ┆   ┆ i64 ┆ i64      ┆ i64      ┆ i64    │\n",
       "╞══════════╪═══════════╪══════════╪════════╪═══╪═════╪══════════╪══════════╪════════╡\n",
       "│ 3        ┆ -2        ┆ -1       ┆ 0      ┆ … ┆ -1  ┆ -1       ┆ 1        ┆ 0      │\n",
       "└──────────┴───────────┴──────────┴────────┴───┴─────┴──────────┴──────────┴────────┘"
      ]
     },
     "metadata": {},
     "output_type": "display_data"
    },
    {
     "data": {
      "text/html": [
       "<div><style>\n",
       ".dataframe > thead > tr,\n",
       ".dataframe > tbody > tr {\n",
       "  text-align: right;\n",
       "  white-space: pre-wrap;\n",
       "}\n",
       "</style>\n",
       "<small>shape: (1, 10)</small><table border=\"1\" class=\"dataframe\"><thead><tr><th>baseball</th><th>economics</th><th>politics</th><th>Europe</th><th>Asia</th><th>soccer</th><th>war</th><th>security</th><th>shopping</th><th>family</th></tr><tr><td>i64</td><td>i64</td><td>i64</td><td>i64</td><td>i64</td><td>i64</td><td>i64</td><td>i64</td><td>i64</td><td>i64</td></tr></thead><tbody><tr><td>3</td><td>-2</td><td>-1</td><td>0</td><td>0</td><td>2</td><td>-1</td><td>-1</td><td>1</td><td>0</td></tr></tbody></table></div>"
      ],
      "text/plain": [
       "shape: (1, 10)\n",
       "┌──────────┬───────────┬──────────┬────────┬───┬─────┬──────────┬──────────┬────────┐\n",
       "│ baseball ┆ economics ┆ politics ┆ Europe ┆ … ┆ war ┆ security ┆ shopping ┆ family │\n",
       "│ ---      ┆ ---       ┆ ---      ┆ ---    ┆   ┆ --- ┆ ---      ┆ ---      ┆ ---    │\n",
       "│ i64      ┆ i64       ┆ i64      ┆ i64    ┆   ┆ i64 ┆ i64      ┆ i64      ┆ i64    │\n",
       "╞══════════╪═══════════╪══════════╪════════╪═══╪═════╪══════════╪══════════╪════════╡\n",
       "│ 3        ┆ -2        ┆ -1       ┆ 0      ┆ … ┆ -1  ┆ -1       ┆ 1        ┆ 0      │\n",
       "└──────────┴───────────┴──────────┴────────┴───┴─────┴──────────┴──────────┴────────┘"
      ]
     },
     "metadata": {},
     "output_type": "display_data"
    }
   ],
   "source": [
    "\n",
    "user1_interactions = df.select(pl.col(\"User 1\").fill_null(0)).to_series()\n",
    "user2_interactions = df.select(pl.col(\"User 2\").fill_null(0)).to_series()\n",
    "\n",
    "doc_matrix_df = df.select(pl.exclude([\"doc_id\", \"User 1\", \"User 2\", \"num-attr\"]))\n",
    "display(doc_matrix_df)\n",
    "\n",
    "profile1 = (doc_matrix_df * user1_interactions).sum()\n",
    "display(profile1)\n",
    "\n",
    "profile2 = (doc_matrix_df * user2_interactions).sum()\n",
    "display(profile2)"
   ]
  },
  {
   "cell_type": "code",
   "execution_count": 12,
   "metadata": {},
   "outputs": [],
   "source": [
    "def column_name_generator(prefix: str):\n",
    "    i = 1\n",
    "    while True:\n",
    "        yield f\"{prefix}{i}\"\n",
    "        i += 1\n",
    "\n",
    "\n",
    "def score_matrix(df: pl.DataFrame, profile: pl.DataFrame) -> pl.DataFrame:\n",
    "    return (\n",
    "        df.select(pl.exclude([\"doc_id\", \"User 1\", \"User 2\", \"num-attr\"])).transpose(\n",
    "            column_names=column_name_generator(\"doc\")\n",
    "        )\n",
    "        * profile.transpose().to_series()\n",
    "    ).sum().transpose(column_names=[\"score\"]).with_row_index(\"doc_id\", offset=1).sort(\n",
    "        \"score\", descending=True\n",
    "    )"
   ]
  },
  {
   "cell_type": "markdown",
   "metadata": {},
   "source": [
    "### Which document does the simple profile predict user 1 will like best? And what score does that prediction get?"
   ]
  },
  {
   "cell_type": "code",
   "execution_count": 170,
   "metadata": {},
   "outputs": [
    {
     "data": {
      "text/html": [
       "<div><style>\n",
       ".dataframe > thead > tr,\n",
       ".dataframe > tbody > tr {\n",
       "  text-align: right;\n",
       "  white-space: pre-wrap;\n",
       "}\n",
       "</style>\n",
       "<small>shape: (20, 2)</small><table border=\"1\" class=\"dataframe\"><thead><tr><th>doc_id</th><th>score</th></tr><tr><td>u32</td><td>i64</td></tr></thead><tbody><tr><td>16</td><td>6</td></tr><tr><td>1</td><td>4</td></tr><tr><td>12</td><td>4</td></tr><tr><td>6</td><td>3</td></tr><tr><td>9</td><td>3</td></tr><tr><td>3</td><td>2</td></tr><tr><td>18</td><td>1</td></tr><tr><td>11</td><td>0</td></tr><tr><td>15</td><td>0</td></tr><tr><td>5</td><td>-1</td></tr><tr><td>7</td><td>-1</td></tr><tr><td>20</td><td>-1</td></tr><tr><td>8</td><td>-2</td></tr><tr><td>13</td><td>-2</td></tr><tr><td>14</td><td>-2</td></tr><tr><td>4</td><td>-3</td></tr><tr><td>10</td><td>-3</td></tr><tr><td>2</td><td>-4</td></tr><tr><td>17</td><td>-4</td></tr><tr><td>19</td><td>-4</td></tr></tbody></table></div>"
      ],
      "text/plain": [
       "shape: (20, 2)\n",
       "┌────────┬───────┐\n",
       "│ doc_id ┆ score │\n",
       "│ ---    ┆ ---   │\n",
       "│ u32    ┆ i64   │\n",
       "╞════════╪═══════╡\n",
       "│ 16     ┆ 6     │\n",
       "│ 1      ┆ 4     │\n",
       "│ 12     ┆ 4     │\n",
       "│ 6      ┆ 3     │\n",
       "│ 9      ┆ 3     │\n",
       "│ …      ┆ …     │\n",
       "│ 4      ┆ -3    │\n",
       "│ 10     ┆ -3    │\n",
       "│ 2      ┆ -4    │\n",
       "│ 17     ┆ -4    │\n",
       "│ 19     ┆ -4    │\n",
       "└────────┴───────┘"
      ]
     },
     "metadata": {},
     "output_type": "display_data"
    }
   ],
   "source": [
    "display(score_matrix(df, profile1))"
   ]
  },
  {
   "cell_type": "markdown",
   "metadata": {},
   "source": [
    "### How many documents does the model predict User 2 will dislike (prediction score that is negative)?"
   ]
  },
  {
   "cell_type": "code",
   "execution_count": 173,
   "metadata": {},
   "outputs": [
    {
     "data": {
      "text/html": [
       "<div><style>\n",
       ".dataframe > thead > tr,\n",
       ".dataframe > tbody > tr {\n",
       "  text-align: right;\n",
       "  white-space: pre-wrap;\n",
       "}\n",
       "</style>\n",
       "<small>shape: (20, 2)</small><table border=\"1\" class=\"dataframe\"><thead><tr><th>doc_id</th><th>score</th></tr><tr><td>u32</td><td>i64</td></tr></thead><tbody><tr><td>2</td><td>10</td></tr><tr><td>17</td><td>10</td></tr><tr><td>4</td><td>8</td></tr><tr><td>13</td><td>7</td></tr><tr><td>14</td><td>7</td></tr><tr><td>20</td><td>5</td></tr><tr><td>8</td><td>4</td></tr><tr><td>15</td><td>4</td></tr><tr><td>18</td><td>3</td></tr><tr><td>7</td><td>2</td></tr><tr><td>19</td><td>2</td></tr><tr><td>5</td><td>1</td></tr><tr><td>6</td><td>1</td></tr><tr><td>10</td><td>1</td></tr><tr><td>11</td><td>1</td></tr><tr><td>3</td><td>0</td></tr><tr><td>9</td><td>-2</td></tr><tr><td>1</td><td>-4</td></tr><tr><td>12</td><td>-4</td></tr><tr><td>16</td><td>-4</td></tr></tbody></table></div>"
      ],
      "text/plain": [
       "shape: (20, 2)\n",
       "┌────────┬───────┐\n",
       "│ doc_id ┆ score │\n",
       "│ ---    ┆ ---   │\n",
       "│ u32    ┆ i64   │\n",
       "╞════════╪═══════╡\n",
       "│ 2      ┆ 10    │\n",
       "│ 17     ┆ 10    │\n",
       "│ 4      ┆ 8     │\n",
       "│ 13     ┆ 7     │\n",
       "│ 14     ┆ 7     │\n",
       "│ …      ┆ …     │\n",
       "│ 3      ┆ 0     │\n",
       "│ 9      ┆ -2    │\n",
       "│ 1      ┆ -4    │\n",
       "│ 12     ┆ -4    │\n",
       "│ 16     ┆ -4    │\n",
       "└────────┴───────┘"
      ]
     },
     "metadata": {},
     "output_type": "display_data"
    }
   ],
   "source": [
    "display(score_matrix(df, profile2))"
   ]
  },
  {
   "cell_type": "markdown",
   "metadata": {},
   "source": [
    "## Part 2. Next, let’s treat all articles as having unit weight ..."
   ]
  },
  {
   "cell_type": "code",
   "execution_count": 3,
   "metadata": {},
   "outputs": [
    {
     "data": {
      "text/html": [
       "<div><style>\n",
       ".dataframe > thead > tr,\n",
       ".dataframe > tbody > tr {\n",
       "  text-align: right;\n",
       "  white-space: pre-wrap;\n",
       "}\n",
       "</style>\n",
       "<small>shape: (20, 14)</small><table border=\"1\" class=\"dataframe\"><thead><tr><th>doc_id</th><th>baseball</th><th>economics</th><th>politics</th><th>Europe</th><th>Asia</th><th>soccer</th><th>war</th><th>security</th><th>shopping</th><th>family</th><th>num-attr</th><th>User 1</th><th>User 2</th></tr><tr><td>str</td><td>i64</td><td>i64</td><td>i64</td><td>i64</td><td>i64</td><td>i64</td><td>i64</td><td>i64</td><td>i64</td><td>i64</td><td>i64</td><td>i64</td><td>i64</td></tr></thead><tbody><tr><td>&quot;doc1&quot;</td><td>1</td><td>0</td><td>1</td><td>0</td><td>1</td><td>1</td><td>0</td><td>0</td><td>0</td><td>1</td><td>5</td><td>1</td><td>-1</td></tr><tr><td>&quot;doc2&quot;</td><td>0</td><td>1</td><td>1</td><td>1</td><td>0</td><td>0</td><td>0</td><td>1</td><td>0</td><td>0</td><td>4</td><td>-1</td><td>1</td></tr><tr><td>&quot;doc3&quot;</td><td>0</td><td>0</td><td>0</td><td>1</td><td>1</td><td>1</td><td>0</td><td>0</td><td>0</td><td>0</td><td>3</td><td>null</td><td>null</td></tr><tr><td>&quot;doc4&quot;</td><td>0</td><td>0</td><td>1</td><td>1</td><td>0</td><td>0</td><td>1</td><td>1</td><td>0</td><td>0</td><td>4</td><td>null</td><td>1</td></tr><tr><td>&quot;doc5&quot;</td><td>0</td><td>1</td><td>0</td><td>0</td><td>0</td><td>0</td><td>0</td><td>0</td><td>1</td><td>1</td><td>3</td><td>null</td><td>null</td></tr><tr><td>&quot;doc6&quot;</td><td>1</td><td>0</td><td>0</td><td>1</td><td>0</td><td>0</td><td>0</td><td>0</td><td>0</td><td>0</td><td>2</td><td>1</td><td>null</td></tr><tr><td>&quot;doc7&quot;</td><td>0</td><td>0</td><td>0</td><td>0</td><td>0</td><td>0</td><td>0</td><td>1</td><td>0</td><td>1</td><td>2</td><td>null</td><td>null</td></tr><tr><td>&quot;doc8&quot;</td><td>0</td><td>0</td><td>1</td><td>1</td><td>0</td><td>0</td><td>1</td><td>0</td><td>0</td><td>1</td><td>4</td><td>null</td><td>null</td></tr><tr><td>&quot;doc9&quot;</td><td>0</td><td>0</td><td>0</td><td>0</td><td>0</td><td>1</td><td>0</td><td>0</td><td>1</td><td>0</td><td>2</td><td>null</td><td>null</td></tr><tr><td>&quot;doc10&quot;</td><td>0</td><td>1</td><td>0</td><td>0</td><td>1</td><td>0</td><td>1</td><td>0</td><td>0</td><td>0</td><td>3</td><td>null</td><td>null</td></tr><tr><td>&quot;doc11&quot;</td><td>0</td><td>0</td><td>1</td><td>0</td><td>1</td><td>0</td><td>0</td><td>0</td><td>1</td><td>0</td><td>3</td><td>null</td><td>null</td></tr><tr><td>&quot;doc12&quot;</td><td>1</td><td>0</td><td>0</td><td>0</td><td>0</td><td>1</td><td>1</td><td>0</td><td>0</td><td>0</td><td>3</td><td>null</td><td>-1</td></tr><tr><td>&quot;doc13&quot;</td><td>0</td><td>0</td><td>1</td><td>1</td><td>1</td><td>0</td><td>0</td><td>1</td><td>0</td><td>0</td><td>4</td><td>null</td><td>null</td></tr><tr><td>&quot;doc14&quot;</td><td>0</td><td>1</td><td>1</td><td>1</td><td>0</td><td>0</td><td>0</td><td>0</td><td>1</td><td>0</td><td>4</td><td>null</td><td>null</td></tr><tr><td>&quot;doc15&quot;</td><td>0</td><td>0</td><td>0</td><td>1</td><td>0</td><td>1</td><td>1</td><td>1</td><td>0</td><td>0</td><td>4</td><td>null</td><td>null</td></tr><tr><td>&quot;doc16&quot;</td><td>1</td><td>0</td><td>0</td><td>0</td><td>0</td><td>1</td><td>0</td><td>0</td><td>1</td><td>0</td><td>3</td><td>1</td><td>null</td></tr><tr><td>&quot;doc17&quot;</td><td>0</td><td>1</td><td>1</td><td>1</td><td>0</td><td>0</td><td>0</td><td>1</td><td>0</td><td>0</td><td>4</td><td>null</td><td>1</td></tr><tr><td>&quot;doc18&quot;</td><td>0</td><td>0</td><td>0</td><td>1</td><td>0</td><td>0</td><td>0</td><td>0</td><td>1</td><td>0</td><td>2</td><td>null</td><td>null</td></tr><tr><td>&quot;doc19&quot;</td><td>0</td><td>1</td><td>1</td><td>0</td><td>1</td><td>0</td><td>1</td><td>0</td><td>0</td><td>1</td><td>5</td><td>-1</td><td>null</td></tr><tr><td>&quot;doc20&quot;</td><td>0</td><td>0</td><td>1</td><td>1</td><td>0</td><td>0</td><td>1</td><td>0</td><td>1</td><td>0</td><td>4</td><td>null</td><td>null</td></tr></tbody></table></div>"
      ],
      "text/plain": [
       "shape: (20, 14)\n",
       "┌────────┬──────────┬───────────┬──────────┬───┬────────┬──────────┬────────┬────────┐\n",
       "│ doc_id ┆ baseball ┆ economics ┆ politics ┆ … ┆ family ┆ num-attr ┆ User 1 ┆ User 2 │\n",
       "│ ---    ┆ ---      ┆ ---       ┆ ---      ┆   ┆ ---    ┆ ---      ┆ ---    ┆ ---    │\n",
       "│ str    ┆ i64      ┆ i64       ┆ i64      ┆   ┆ i64    ┆ i64      ┆ i64    ┆ i64    │\n",
       "╞════════╪══════════╪═══════════╪══════════╪═══╪════════╪══════════╪════════╪════════╡\n",
       "│ doc1   ┆ 1        ┆ 0         ┆ 1        ┆ … ┆ 1      ┆ 5        ┆ 1      ┆ -1     │\n",
       "│ doc2   ┆ 0        ┆ 1         ┆ 1        ┆ … ┆ 0      ┆ 4        ┆ -1     ┆ 1      │\n",
       "│ doc3   ┆ 0        ┆ 0         ┆ 0        ┆ … ┆ 0      ┆ 3        ┆ null   ┆ null   │\n",
       "│ doc4   ┆ 0        ┆ 0         ┆ 1        ┆ … ┆ 0      ┆ 4        ┆ null   ┆ 1      │\n",
       "│ doc5   ┆ 0        ┆ 1         ┆ 0        ┆ … ┆ 1      ┆ 3        ┆ null   ┆ null   │\n",
       "│ …      ┆ …        ┆ …         ┆ …        ┆ … ┆ …      ┆ …        ┆ …      ┆ …      │\n",
       "│ doc16  ┆ 1        ┆ 0         ┆ 0        ┆ … ┆ 0      ┆ 3        ┆ 1      ┆ null   │\n",
       "│ doc17  ┆ 0        ┆ 1         ┆ 1        ┆ … ┆ 0      ┆ 4        ┆ null   ┆ 1      │\n",
       "│ doc18  ┆ 0        ┆ 0         ┆ 0        ┆ … ┆ 0      ┆ 2        ┆ null   ┆ null   │\n",
       "│ doc19  ┆ 0        ┆ 1         ┆ 1        ┆ … ┆ 1      ┆ 5        ┆ -1     ┆ null   │\n",
       "│ doc20  ┆ 0        ┆ 0         ┆ 1        ┆ … ┆ 0      ┆ 4        ┆ null   ┆ null   │\n",
       "└────────┴──────────┴───────────┴──────────┴───┴────────┴──────────┴────────┴────────┘"
      ]
     },
     "metadata": {},
     "output_type": "display_data"
    }
   ],
   "source": [
    "df = pl.read_excel(\"Assignment 2.xlsx\")\n",
    "df = df.drop([\"Pred1\", \"Pred2\"]).slice(0, 20)\n",
    "display(df)"
   ]
  },
  {
   "cell_type": "code",
   "execution_count": 9,
   "metadata": {},
   "outputs": [
    {
     "data": {
      "text/html": [
       "<div><style>\n",
       ".dataframe > thead > tr,\n",
       ".dataframe > tbody > tr {\n",
       "  text-align: right;\n",
       "  white-space: pre-wrap;\n",
       "}\n",
       "</style>\n",
       "<small>shape: (20, 11)</small><table border=\"1\" class=\"dataframe\"><thead><tr><th>doc_id</th><th>baseball</th><th>economics</th><th>politics</th><th>Europe</th><th>Asia</th><th>soccer</th><th>war</th><th>security</th><th>shopping</th><th>family</th></tr><tr><td>str</td><td>f64</td><td>f64</td><td>f64</td><td>f64</td><td>f64</td><td>f64</td><td>f64</td><td>f64</td><td>f64</td><td>f64</td></tr></thead><tbody><tr><td>&quot;doc1&quot;</td><td>0.447214</td><td>0.0</td><td>0.447214</td><td>0.0</td><td>0.447214</td><td>0.447214</td><td>0.0</td><td>0.0</td><td>0.0</td><td>0.447214</td></tr><tr><td>&quot;doc2&quot;</td><td>0.0</td><td>0.5</td><td>0.5</td><td>0.5</td><td>0.0</td><td>0.0</td><td>0.0</td><td>0.5</td><td>0.0</td><td>0.0</td></tr><tr><td>&quot;doc3&quot;</td><td>0.0</td><td>0.0</td><td>0.0</td><td>0.57735</td><td>0.57735</td><td>0.57735</td><td>0.0</td><td>0.0</td><td>0.0</td><td>0.0</td></tr><tr><td>&quot;doc4&quot;</td><td>0.0</td><td>0.0</td><td>0.5</td><td>0.5</td><td>0.0</td><td>0.0</td><td>0.5</td><td>0.5</td><td>0.0</td><td>0.0</td></tr><tr><td>&quot;doc5&quot;</td><td>0.0</td><td>0.57735</td><td>0.0</td><td>0.0</td><td>0.0</td><td>0.0</td><td>0.0</td><td>0.0</td><td>0.57735</td><td>0.57735</td></tr><tr><td>&quot;doc6&quot;</td><td>0.707107</td><td>0.0</td><td>0.0</td><td>0.707107</td><td>0.0</td><td>0.0</td><td>0.0</td><td>0.0</td><td>0.0</td><td>0.0</td></tr><tr><td>&quot;doc7&quot;</td><td>0.0</td><td>0.0</td><td>0.0</td><td>0.0</td><td>0.0</td><td>0.0</td><td>0.0</td><td>0.707107</td><td>0.0</td><td>0.707107</td></tr><tr><td>&quot;doc8&quot;</td><td>0.0</td><td>0.0</td><td>0.5</td><td>0.5</td><td>0.0</td><td>0.0</td><td>0.5</td><td>0.0</td><td>0.0</td><td>0.5</td></tr><tr><td>&quot;doc9&quot;</td><td>0.0</td><td>0.0</td><td>0.0</td><td>0.0</td><td>0.0</td><td>0.707107</td><td>0.0</td><td>0.0</td><td>0.707107</td><td>0.0</td></tr><tr><td>&quot;doc10&quot;</td><td>0.0</td><td>0.57735</td><td>0.0</td><td>0.0</td><td>0.57735</td><td>0.0</td><td>0.57735</td><td>0.0</td><td>0.0</td><td>0.0</td></tr><tr><td>&quot;doc11&quot;</td><td>0.0</td><td>0.0</td><td>0.57735</td><td>0.0</td><td>0.57735</td><td>0.0</td><td>0.0</td><td>0.0</td><td>0.57735</td><td>0.0</td></tr><tr><td>&quot;doc12&quot;</td><td>0.57735</td><td>0.0</td><td>0.0</td><td>0.0</td><td>0.0</td><td>0.57735</td><td>0.57735</td><td>0.0</td><td>0.0</td><td>0.0</td></tr><tr><td>&quot;doc13&quot;</td><td>0.0</td><td>0.0</td><td>0.5</td><td>0.5</td><td>0.5</td><td>0.0</td><td>0.0</td><td>0.5</td><td>0.0</td><td>0.0</td></tr><tr><td>&quot;doc14&quot;</td><td>0.0</td><td>0.5</td><td>0.5</td><td>0.5</td><td>0.0</td><td>0.0</td><td>0.0</td><td>0.0</td><td>0.5</td><td>0.0</td></tr><tr><td>&quot;doc15&quot;</td><td>0.0</td><td>0.0</td><td>0.0</td><td>0.5</td><td>0.0</td><td>0.5</td><td>0.5</td><td>0.5</td><td>0.0</td><td>0.0</td></tr><tr><td>&quot;doc16&quot;</td><td>0.57735</td><td>0.0</td><td>0.0</td><td>0.0</td><td>0.0</td><td>0.57735</td><td>0.0</td><td>0.0</td><td>0.57735</td><td>0.0</td></tr><tr><td>&quot;doc17&quot;</td><td>0.0</td><td>0.5</td><td>0.5</td><td>0.5</td><td>0.0</td><td>0.0</td><td>0.0</td><td>0.5</td><td>0.0</td><td>0.0</td></tr><tr><td>&quot;doc18&quot;</td><td>0.0</td><td>0.0</td><td>0.0</td><td>0.707107</td><td>0.0</td><td>0.0</td><td>0.0</td><td>0.0</td><td>0.707107</td><td>0.0</td></tr><tr><td>&quot;doc19&quot;</td><td>0.0</td><td>0.447214</td><td>0.447214</td><td>0.0</td><td>0.447214</td><td>0.0</td><td>0.447214</td><td>0.0</td><td>0.0</td><td>0.447214</td></tr><tr><td>&quot;doc20&quot;</td><td>0.0</td><td>0.0</td><td>0.5</td><td>0.5</td><td>0.0</td><td>0.0</td><td>0.5</td><td>0.0</td><td>0.5</td><td>0.0</td></tr></tbody></table></div>"
      ],
      "text/plain": [
       "shape: (20, 11)\n",
       "┌────────┬──────────┬───────────┬──────────┬───┬──────────┬──────────┬──────────┬──────────┐\n",
       "│ doc_id ┆ baseball ┆ economics ┆ politics ┆ … ┆ war      ┆ security ┆ shopping ┆ family   │\n",
       "│ ---    ┆ ---      ┆ ---       ┆ ---      ┆   ┆ ---      ┆ ---      ┆ ---      ┆ ---      │\n",
       "│ str    ┆ f64      ┆ f64       ┆ f64      ┆   ┆ f64      ┆ f64      ┆ f64      ┆ f64      │\n",
       "╞════════╪══════════╪═══════════╪══════════╪═══╪══════════╪══════════╪══════════╪══════════╡\n",
       "│ doc1   ┆ 0.447214 ┆ 0.0       ┆ 0.447214 ┆ … ┆ 0.0      ┆ 0.0      ┆ 0.0      ┆ 0.447214 │\n",
       "│ doc2   ┆ 0.0      ┆ 0.5       ┆ 0.5      ┆ … ┆ 0.0      ┆ 0.5      ┆ 0.0      ┆ 0.0      │\n",
       "│ doc3   ┆ 0.0      ┆ 0.0       ┆ 0.0      ┆ … ┆ 0.0      ┆ 0.0      ┆ 0.0      ┆ 0.0      │\n",
       "│ doc4   ┆ 0.0      ┆ 0.0       ┆ 0.5      ┆ … ┆ 0.5      ┆ 0.5      ┆ 0.0      ┆ 0.0      │\n",
       "│ doc5   ┆ 0.0      ┆ 0.57735   ┆ 0.0      ┆ … ┆ 0.0      ┆ 0.0      ┆ 0.57735  ┆ 0.57735  │\n",
       "│ …      ┆ …        ┆ …         ┆ …        ┆ … ┆ …        ┆ …        ┆ …        ┆ …        │\n",
       "│ doc16  ┆ 0.57735  ┆ 0.0       ┆ 0.0      ┆ … ┆ 0.0      ┆ 0.0      ┆ 0.57735  ┆ 0.0      │\n",
       "│ doc17  ┆ 0.0      ┆ 0.5       ┆ 0.5      ┆ … ┆ 0.0      ┆ 0.5      ┆ 0.0      ┆ 0.0      │\n",
       "│ doc18  ┆ 0.0      ┆ 0.0       ┆ 0.0      ┆ … ┆ 0.0      ┆ 0.0      ┆ 0.707107 ┆ 0.0      │\n",
       "│ doc19  ┆ 0.0      ┆ 0.447214  ┆ 0.447214 ┆ … ┆ 0.447214 ┆ 0.0      ┆ 0.0      ┆ 0.447214 │\n",
       "│ doc20  ┆ 0.0      ┆ 0.0       ┆ 0.5      ┆ … ┆ 0.5      ┆ 0.0      ┆ 0.5      ┆ 0.0      │\n",
       "└────────┴──────────┴───────────┴──────────┴───┴──────────┴──────────┴──────────┴──────────┘"
      ]
     },
     "metadata": {},
     "output_type": "display_data"
    }
   ],
   "source": [
    "normalized_matrix_df = df.select(\n",
    "    pl.col(\"doc_id\"), \n",
    "    pl.col(\"baseball\") / pl.col(\"num-attr\").sqrt(),\n",
    "    pl.col(\"economics\") / pl.col(\"num-attr\").sqrt(),\n",
    "    pl.col(\"politics\") / pl.col(\"num-attr\").sqrt(),\n",
    "    pl.col(\"Europe\") / pl.col(\"num-attr\").sqrt(),\n",
    "    pl.col(\"Asia\") / pl.col(\"num-attr\").sqrt(),\n",
    "    pl.col(\"soccer\") / pl.col(\"num-attr\").sqrt(),\n",
    "    pl.col(\"war\") / pl.col(\"num-attr\").sqrt(),\n",
    "    pl.col(\"security\") / pl.col(\"num-attr\").sqrt(),\n",
    "    pl.col(\"shopping\") / pl.col(\"num-attr\").sqrt(),\n",
    "    pl.col(\"family\") / pl.col(\"num-attr\").sqrt()\n",
    ")\n",
    "display(normalized_matrix_df)"
   ]
  },
  {
   "cell_type": "code",
   "execution_count": 14,
   "metadata": {},
   "outputs": [
    {
     "data": {
      "text/html": [
       "<div><style>\n",
       ".dataframe > thead > tr,\n",
       ".dataframe > tbody > tr {\n",
       "  text-align: right;\n",
       "  white-space: pre-wrap;\n",
       "}\n",
       "</style>\n",
       "<small>shape: (20, 10)</small><table border=\"1\" class=\"dataframe\"><thead><tr><th>baseball</th><th>economics</th><th>politics</th><th>Europe</th><th>Asia</th><th>soccer</th><th>war</th><th>security</th><th>shopping</th><th>family</th></tr><tr><td>f64</td><td>f64</td><td>f64</td><td>f64</td><td>f64</td><td>f64</td><td>f64</td><td>f64</td><td>f64</td><td>f64</td></tr></thead><tbody><tr><td>0.447214</td><td>0.0</td><td>0.447214</td><td>0.0</td><td>0.447214</td><td>0.447214</td><td>0.0</td><td>0.0</td><td>0.0</td><td>0.447214</td></tr><tr><td>0.0</td><td>0.5</td><td>0.5</td><td>0.5</td><td>0.0</td><td>0.0</td><td>0.0</td><td>0.5</td><td>0.0</td><td>0.0</td></tr><tr><td>0.0</td><td>0.0</td><td>0.0</td><td>0.57735</td><td>0.57735</td><td>0.57735</td><td>0.0</td><td>0.0</td><td>0.0</td><td>0.0</td></tr><tr><td>0.0</td><td>0.0</td><td>0.5</td><td>0.5</td><td>0.0</td><td>0.0</td><td>0.5</td><td>0.5</td><td>0.0</td><td>0.0</td></tr><tr><td>0.0</td><td>0.57735</td><td>0.0</td><td>0.0</td><td>0.0</td><td>0.0</td><td>0.0</td><td>0.0</td><td>0.57735</td><td>0.57735</td></tr><tr><td>0.707107</td><td>0.0</td><td>0.0</td><td>0.707107</td><td>0.0</td><td>0.0</td><td>0.0</td><td>0.0</td><td>0.0</td><td>0.0</td></tr><tr><td>0.0</td><td>0.0</td><td>0.0</td><td>0.0</td><td>0.0</td><td>0.0</td><td>0.0</td><td>0.707107</td><td>0.0</td><td>0.707107</td></tr><tr><td>0.0</td><td>0.0</td><td>0.5</td><td>0.5</td><td>0.0</td><td>0.0</td><td>0.5</td><td>0.0</td><td>0.0</td><td>0.5</td></tr><tr><td>0.0</td><td>0.0</td><td>0.0</td><td>0.0</td><td>0.0</td><td>0.707107</td><td>0.0</td><td>0.0</td><td>0.707107</td><td>0.0</td></tr><tr><td>0.0</td><td>0.57735</td><td>0.0</td><td>0.0</td><td>0.57735</td><td>0.0</td><td>0.57735</td><td>0.0</td><td>0.0</td><td>0.0</td></tr><tr><td>0.0</td><td>0.0</td><td>0.57735</td><td>0.0</td><td>0.57735</td><td>0.0</td><td>0.0</td><td>0.0</td><td>0.57735</td><td>0.0</td></tr><tr><td>0.57735</td><td>0.0</td><td>0.0</td><td>0.0</td><td>0.0</td><td>0.57735</td><td>0.57735</td><td>0.0</td><td>0.0</td><td>0.0</td></tr><tr><td>0.0</td><td>0.0</td><td>0.5</td><td>0.5</td><td>0.5</td><td>0.0</td><td>0.0</td><td>0.5</td><td>0.0</td><td>0.0</td></tr><tr><td>0.0</td><td>0.5</td><td>0.5</td><td>0.5</td><td>0.0</td><td>0.0</td><td>0.0</td><td>0.0</td><td>0.5</td><td>0.0</td></tr><tr><td>0.0</td><td>0.0</td><td>0.0</td><td>0.5</td><td>0.0</td><td>0.5</td><td>0.5</td><td>0.5</td><td>0.0</td><td>0.0</td></tr><tr><td>0.57735</td><td>0.0</td><td>0.0</td><td>0.0</td><td>0.0</td><td>0.57735</td><td>0.0</td><td>0.0</td><td>0.57735</td><td>0.0</td></tr><tr><td>0.0</td><td>0.5</td><td>0.5</td><td>0.5</td><td>0.0</td><td>0.0</td><td>0.0</td><td>0.5</td><td>0.0</td><td>0.0</td></tr><tr><td>0.0</td><td>0.0</td><td>0.0</td><td>0.707107</td><td>0.0</td><td>0.0</td><td>0.0</td><td>0.0</td><td>0.707107</td><td>0.0</td></tr><tr><td>0.0</td><td>0.447214</td><td>0.447214</td><td>0.0</td><td>0.447214</td><td>0.0</td><td>0.447214</td><td>0.0</td><td>0.0</td><td>0.447214</td></tr><tr><td>0.0</td><td>0.0</td><td>0.5</td><td>0.5</td><td>0.0</td><td>0.0</td><td>0.5</td><td>0.0</td><td>0.5</td><td>0.0</td></tr></tbody></table></div>"
      ],
      "text/plain": [
       "shape: (20, 10)\n",
       "┌──────────┬───────────┬──────────┬──────────┬───┬──────────┬──────────┬──────────┬──────────┐\n",
       "│ baseball ┆ economics ┆ politics ┆ Europe   ┆ … ┆ war      ┆ security ┆ shopping ┆ family   │\n",
       "│ ---      ┆ ---       ┆ ---      ┆ ---      ┆   ┆ ---      ┆ ---      ┆ ---      ┆ ---      │\n",
       "│ f64      ┆ f64       ┆ f64      ┆ f64      ┆   ┆ f64      ┆ f64      ┆ f64      ┆ f64      │\n",
       "╞══════════╪═══════════╪══════════╪══════════╪═══╪══════════╪══════════╪══════════╪══════════╡\n",
       "│ 0.447214 ┆ 0.0       ┆ 0.447214 ┆ 0.0      ┆ … ┆ 0.0      ┆ 0.0      ┆ 0.0      ┆ 0.447214 │\n",
       "│ 0.0      ┆ 0.5       ┆ 0.5      ┆ 0.5      ┆ … ┆ 0.0      ┆ 0.5      ┆ 0.0      ┆ 0.0      │\n",
       "│ 0.0      ┆ 0.0       ┆ 0.0      ┆ 0.57735  ┆ … ┆ 0.0      ┆ 0.0      ┆ 0.0      ┆ 0.0      │\n",
       "│ 0.0      ┆ 0.0       ┆ 0.5      ┆ 0.5      ┆ … ┆ 0.5      ┆ 0.5      ┆ 0.0      ┆ 0.0      │\n",
       "│ 0.0      ┆ 0.57735   ┆ 0.0      ┆ 0.0      ┆ … ┆ 0.0      ┆ 0.0      ┆ 0.57735  ┆ 0.57735  │\n",
       "│ …        ┆ …         ┆ …        ┆ …        ┆ … ┆ …        ┆ …        ┆ …        ┆ …        │\n",
       "│ 0.57735  ┆ 0.0       ┆ 0.0      ┆ 0.0      ┆ … ┆ 0.0      ┆ 0.0      ┆ 0.57735  ┆ 0.0      │\n",
       "│ 0.0      ┆ 0.5       ┆ 0.5      ┆ 0.5      ┆ … ┆ 0.0      ┆ 0.5      ┆ 0.0      ┆ 0.0      │\n",
       "│ 0.0      ┆ 0.0       ┆ 0.0      ┆ 0.707107 ┆ … ┆ 0.0      ┆ 0.0      ┆ 0.707107 ┆ 0.0      │\n",
       "│ 0.0      ┆ 0.447214  ┆ 0.447214 ┆ 0.0      ┆ … ┆ 0.447214 ┆ 0.0      ┆ 0.0      ┆ 0.447214 │\n",
       "│ 0.0      ┆ 0.0       ┆ 0.5      ┆ 0.5      ┆ … ┆ 0.5      ┆ 0.0      ┆ 0.5      ┆ 0.0      │\n",
       "└──────────┴───────────┴──────────┴──────────┴───┴──────────┴──────────┴──────────┴──────────┘"
      ]
     },
     "metadata": {},
     "output_type": "display_data"
    },
    {
     "data": {
      "text/html": [
       "<div><style>\n",
       ".dataframe > thead > tr,\n",
       ".dataframe > tbody > tr {\n",
       "  text-align: right;\n",
       "  white-space: pre-wrap;\n",
       "}\n",
       "</style>\n",
       "<small>shape: (1, 10)</small><table border=\"1\" class=\"dataframe\"><thead><tr><th>baseball</th><th>economics</th><th>politics</th><th>Europe</th><th>Asia</th><th>soccer</th><th>war</th><th>security</th><th>shopping</th><th>family</th></tr><tr><td>f64</td><td>f64</td><td>f64</td><td>f64</td><td>f64</td><td>f64</td><td>f64</td><td>f64</td><td>f64</td><td>f64</td></tr></thead><tbody><tr><td>1.731671</td><td>-0.947214</td><td>-0.5</td><td>0.207107</td><td>0.0</td><td>1.024564</td><td>-0.447214</td><td>-0.5</td><td>0.57735</td><td>0.0</td></tr></tbody></table></div>"
      ],
      "text/plain": [
       "shape: (1, 10)\n",
       "┌──────────┬───────────┬──────────┬──────────┬───┬───────────┬──────────┬──────────┬────────┐\n",
       "│ baseball ┆ economics ┆ politics ┆ Europe   ┆ … ┆ war       ┆ security ┆ shopping ┆ family │\n",
       "│ ---      ┆ ---       ┆ ---      ┆ ---      ┆   ┆ ---       ┆ ---      ┆ ---      ┆ ---    │\n",
       "│ f64      ┆ f64       ┆ f64      ┆ f64      ┆   ┆ f64       ┆ f64      ┆ f64      ┆ f64    │\n",
       "╞══════════╪═══════════╪══════════╪══════════╪═══╪═══════════╪══════════╪══════════╪════════╡\n",
       "│ 1.731671 ┆ -0.947214 ┆ -0.5     ┆ 0.207107 ┆ … ┆ -0.447214 ┆ -0.5     ┆ 0.57735  ┆ 0.0    │\n",
       "└──────────┴───────────┴──────────┴──────────┴───┴───────────┴──────────┴──────────┴────────┘"
      ]
     },
     "metadata": {},
     "output_type": "display_data"
    },
    {
     "data": {
      "text/html": [
       "<div><style>\n",
       ".dataframe > thead > tr,\n",
       ".dataframe > tbody > tr {\n",
       "  text-align: right;\n",
       "  white-space: pre-wrap;\n",
       "}\n",
       "</style>\n",
       "<small>shape: (1, 10)</small><table border=\"1\" class=\"dataframe\"><thead><tr><th>baseball</th><th>economics</th><th>politics</th><th>Europe</th><th>Asia</th><th>soccer</th><th>war</th><th>security</th><th>shopping</th><th>family</th></tr><tr><td>f64</td><td>f64</td><td>f64</td><td>f64</td><td>f64</td><td>f64</td><td>f64</td><td>f64</td><td>f64</td><td>f64</td></tr></thead><tbody><tr><td>-1.024564</td><td>1.0</td><td>1.052786</td><td>1.5</td><td>-0.447214</td><td>-1.024564</td><td>-0.07735</td><td>1.5</td><td>0.0</td><td>-0.447214</td></tr></tbody></table></div>"
      ],
      "text/plain": [
       "shape: (1, 10)\n",
       "┌───────────┬───────────┬──────────┬────────┬───┬──────────┬──────────┬──────────┬───────────┐\n",
       "│ baseball  ┆ economics ┆ politics ┆ Europe ┆ … ┆ war      ┆ security ┆ shopping ┆ family    │\n",
       "│ ---       ┆ ---       ┆ ---      ┆ ---    ┆   ┆ ---      ┆ ---      ┆ ---      ┆ ---       │\n",
       "│ f64       ┆ f64       ┆ f64      ┆ f64    ┆   ┆ f64      ┆ f64      ┆ f64      ┆ f64       │\n",
       "╞═══════════╪═══════════╪══════════╪════════╪═══╪══════════╪══════════╪══════════╪═══════════╡\n",
       "│ -1.024564 ┆ 1.0       ┆ 1.052786 ┆ 1.5    ┆ … ┆ -0.07735 ┆ 1.5      ┆ 0.0      ┆ -0.447214 │\n",
       "└───────────┴───────────┴──────────┴────────┴───┴──────────┴──────────┴──────────┴───────────┘"
      ]
     },
     "metadata": {},
     "output_type": "display_data"
    }
   ],
   "source": [
    "user1_interactions = df.select(pl.col(\"User 1\").fill_null(0)).to_series()\n",
    "user2_interactions = df.select(pl.col(\"User 2\").fill_null(0)).to_series()\n",
    "\n",
    "doc_matrix_df = normalized_matrix_df.select(pl.exclude([\"doc_id\", \"User 1\", \"User 2\", \"num-attr\"]))\n",
    "display(doc_matrix_df)\n",
    "\n",
    "profile1 = (doc_matrix_df * user1_interactions).sum()\n",
    "display(profile1)\n",
    "\n",
    "profile2 = (doc_matrix_df * user2_interactions).sum()\n",
    "display(profile2)"
   ]
  },
  {
   "cell_type": "code",
   "execution_count": 17,
   "metadata": {},
   "outputs": [
    {
     "data": {
      "text/html": [
       "<div><style>\n",
       ".dataframe > thead > tr,\n",
       ".dataframe > tbody > tr {\n",
       "  text-align: right;\n",
       "  white-space: pre-wrap;\n",
       "}\n",
       "</style>\n",
       "<small>shape: (20, 2)</small><table border=\"1\" class=\"dataframe\"><thead><tr><th>doc_id</th><th>score</th></tr><tr><td>u32</td><td>f64</td></tr></thead><tbody><tr><td>16</td><td>1.924646</td></tr><tr><td>6</td><td>1.370923</td></tr><tr><td>12</td><td>1.333114</td></tr><tr><td>9</td><td>1.132724</td></tr><tr><td>1</td><td>1.009019</td></tr><tr><td>3</td><td>0.711105</td></tr><tr><td>18</td><td>0.554695</td></tr><tr><td>15</td><td>0.142229</td></tr><tr><td>11</td><td>0.044658</td></tr><tr><td>20</td><td>-0.081378</td></tr><tr><td>5</td><td>-0.213541</td></tr><tr><td>14</td><td>-0.331378</td></tr><tr><td>7</td><td>-0.353553</td></tr><tr><td>8</td><td>-0.370053</td></tr><tr><td>13</td><td>-0.396447</td></tr><tr><td>4</td><td>-0.620053</td></tr><tr><td>10</td><td>-0.805073</td></tr><tr><td>19</td><td>-0.847214</td></tr><tr><td>2</td><td>-0.870053</td></tr><tr><td>17</td><td>-0.870053</td></tr></tbody></table></div>"
      ],
      "text/plain": [
       "shape: (20, 2)\n",
       "┌────────┬───────────┐\n",
       "│ doc_id ┆ score     │\n",
       "│ ---    ┆ ---       │\n",
       "│ u32    ┆ f64       │\n",
       "╞════════╪═══════════╡\n",
       "│ 16     ┆ 1.924646  │\n",
       "│ 6      ┆ 1.370923  │\n",
       "│ 12     ┆ 1.333114  │\n",
       "│ 9      ┆ 1.132724  │\n",
       "│ 1      ┆ 1.009019  │\n",
       "│ …      ┆ …         │\n",
       "│ 4      ┆ -0.620053 │\n",
       "│ 10     ┆ -0.805073 │\n",
       "│ 19     ┆ -0.847214 │\n",
       "│ 2      ┆ -0.870053 │\n",
       "│ 17     ┆ -0.870053 │\n",
       "└────────┴───────────┘"
      ]
     },
     "metadata": {},
     "output_type": "display_data"
    },
    {
     "data": {
      "text/html": [
       "<div><style>\n",
       ".dataframe > thead > tr,\n",
       ".dataframe > tbody > tr {\n",
       "  text-align: right;\n",
       "  white-space: pre-wrap;\n",
       "}\n",
       "</style>\n",
       "<small>shape: (20, 2)</small><table border=\"1\" class=\"dataframe\"><thead><tr><th>doc_id</th><th>score</th></tr><tr><td>u32</td><td>f64</td></tr></thead><tbody><tr><td>2</td><td>2.526393</td></tr><tr><td>17</td><td>2.526393</td></tr><tr><td>4</td><td>1.987718</td></tr><tr><td>13</td><td>1.802786</td></tr><tr><td>14</td><td>1.776393</td></tr><tr><td>20</td><td>1.237718</td></tr><tr><td>18</td><td>1.06066</td></tr><tr><td>8</td><td>1.014111</td></tr><tr><td>15</td><td>0.949043</td></tr><tr><td>7</td><td>0.744432</td></tr><tr><td>19</td><td>0.483442</td></tr><tr><td>11</td><td>0.349628</td></tr><tr><td>6</td><td>0.336184</td></tr><tr><td>5</td><td>0.319151</td></tr><tr><td>10</td><td>0.274493</td></tr><tr><td>3</td><td>0.016294</td></tr><tr><td>9</td><td>-0.724476</td></tr><tr><td>1</td><td>-0.845577</td></tr><tr><td>16</td><td>-1.183064</td></tr><tr><td>12</td><td>-1.227723</td></tr></tbody></table></div>"
      ],
      "text/plain": [
       "shape: (20, 2)\n",
       "┌────────┬───────────┐\n",
       "│ doc_id ┆ score     │\n",
       "│ ---    ┆ ---       │\n",
       "│ u32    ┆ f64       │\n",
       "╞════════╪═══════════╡\n",
       "│ 2      ┆ 2.526393  │\n",
       "│ 17     ┆ 2.526393  │\n",
       "│ 4      ┆ 1.987718  │\n",
       "│ 13     ┆ 1.802786  │\n",
       "│ 14     ┆ 1.776393  │\n",
       "│ …      ┆ …         │\n",
       "│ 3      ┆ 0.016294  │\n",
       "│ 9      ┆ -0.724476 │\n",
       "│ 1      ┆ -0.845577 │\n",
       "│ 16     ┆ -1.183064 │\n",
       "│ 12     ┆ -1.227723 │\n",
       "└────────┴───────────┘"
      ]
     },
     "metadata": {},
     "output_type": "display_data"
    }
   ],
   "source": [
    "display(score_matrix(doc_matrix_df, profile1))\n",
    "display(score_matrix(doc_matrix_df, profile2))"
   ]
  },
  {
   "cell_type": "markdown",
   "metadata": {},
   "source": [
    "## Part 3. Finally, let’s consider how common different terms are among our documents …"
   ]
  },
  {
   "cell_type": "code",
   "execution_count": 21,
   "metadata": {},
   "outputs": [
    {
     "data": {
      "text/html": [
       "<div><style>\n",
       ".dataframe > thead > tr,\n",
       ".dataframe > tbody > tr {\n",
       "  text-align: right;\n",
       "  white-space: pre-wrap;\n",
       "}\n",
       "</style>\n",
       "<small>shape: (20, 14)</small><table border=\"1\" class=\"dataframe\"><thead><tr><th>doc_id</th><th>baseball</th><th>economics</th><th>politics</th><th>Europe</th><th>Asia</th><th>soccer</th><th>war</th><th>security</th><th>shopping</th><th>family</th><th>num-attr</th><th>User 1</th><th>User 2</th></tr><tr><td>str</td><td>i64</td><td>i64</td><td>i64</td><td>i64</td><td>i64</td><td>i64</td><td>i64</td><td>i64</td><td>i64</td><td>i64</td><td>i64</td><td>i64</td><td>i64</td></tr></thead><tbody><tr><td>&quot;doc1&quot;</td><td>1</td><td>0</td><td>1</td><td>0</td><td>1</td><td>1</td><td>0</td><td>0</td><td>0</td><td>1</td><td>5</td><td>1</td><td>-1</td></tr><tr><td>&quot;doc2&quot;</td><td>0</td><td>1</td><td>1</td><td>1</td><td>0</td><td>0</td><td>0</td><td>1</td><td>0</td><td>0</td><td>4</td><td>-1</td><td>1</td></tr><tr><td>&quot;doc3&quot;</td><td>0</td><td>0</td><td>0</td><td>1</td><td>1</td><td>1</td><td>0</td><td>0</td><td>0</td><td>0</td><td>3</td><td>null</td><td>null</td></tr><tr><td>&quot;doc4&quot;</td><td>0</td><td>0</td><td>1</td><td>1</td><td>0</td><td>0</td><td>1</td><td>1</td><td>0</td><td>0</td><td>4</td><td>null</td><td>1</td></tr><tr><td>&quot;doc5&quot;</td><td>0</td><td>1</td><td>0</td><td>0</td><td>0</td><td>0</td><td>0</td><td>0</td><td>1</td><td>1</td><td>3</td><td>null</td><td>null</td></tr><tr><td>&quot;doc6&quot;</td><td>1</td><td>0</td><td>0</td><td>1</td><td>0</td><td>0</td><td>0</td><td>0</td><td>0</td><td>0</td><td>2</td><td>1</td><td>null</td></tr><tr><td>&quot;doc7&quot;</td><td>0</td><td>0</td><td>0</td><td>0</td><td>0</td><td>0</td><td>0</td><td>1</td><td>0</td><td>1</td><td>2</td><td>null</td><td>null</td></tr><tr><td>&quot;doc8&quot;</td><td>0</td><td>0</td><td>1</td><td>1</td><td>0</td><td>0</td><td>1</td><td>0</td><td>0</td><td>1</td><td>4</td><td>null</td><td>null</td></tr><tr><td>&quot;doc9&quot;</td><td>0</td><td>0</td><td>0</td><td>0</td><td>0</td><td>1</td><td>0</td><td>0</td><td>1</td><td>0</td><td>2</td><td>null</td><td>null</td></tr><tr><td>&quot;doc10&quot;</td><td>0</td><td>1</td><td>0</td><td>0</td><td>1</td><td>0</td><td>1</td><td>0</td><td>0</td><td>0</td><td>3</td><td>null</td><td>null</td></tr><tr><td>&quot;doc11&quot;</td><td>0</td><td>0</td><td>1</td><td>0</td><td>1</td><td>0</td><td>0</td><td>0</td><td>1</td><td>0</td><td>3</td><td>null</td><td>null</td></tr><tr><td>&quot;doc12&quot;</td><td>1</td><td>0</td><td>0</td><td>0</td><td>0</td><td>1</td><td>1</td><td>0</td><td>0</td><td>0</td><td>3</td><td>null</td><td>-1</td></tr><tr><td>&quot;doc13&quot;</td><td>0</td><td>0</td><td>1</td><td>1</td><td>1</td><td>0</td><td>0</td><td>1</td><td>0</td><td>0</td><td>4</td><td>null</td><td>null</td></tr><tr><td>&quot;doc14&quot;</td><td>0</td><td>1</td><td>1</td><td>1</td><td>0</td><td>0</td><td>0</td><td>0</td><td>1</td><td>0</td><td>4</td><td>null</td><td>null</td></tr><tr><td>&quot;doc15&quot;</td><td>0</td><td>0</td><td>0</td><td>1</td><td>0</td><td>1</td><td>1</td><td>1</td><td>0</td><td>0</td><td>4</td><td>null</td><td>null</td></tr><tr><td>&quot;doc16&quot;</td><td>1</td><td>0</td><td>0</td><td>0</td><td>0</td><td>1</td><td>0</td><td>0</td><td>1</td><td>0</td><td>3</td><td>1</td><td>null</td></tr><tr><td>&quot;doc17&quot;</td><td>0</td><td>1</td><td>1</td><td>1</td><td>0</td><td>0</td><td>0</td><td>1</td><td>0</td><td>0</td><td>4</td><td>null</td><td>1</td></tr><tr><td>&quot;doc18&quot;</td><td>0</td><td>0</td><td>0</td><td>1</td><td>0</td><td>0</td><td>0</td><td>0</td><td>1</td><td>0</td><td>2</td><td>null</td><td>null</td></tr><tr><td>&quot;doc19&quot;</td><td>0</td><td>1</td><td>1</td><td>0</td><td>1</td><td>0</td><td>1</td><td>0</td><td>0</td><td>1</td><td>5</td><td>-1</td><td>null</td></tr><tr><td>&quot;doc20&quot;</td><td>0</td><td>0</td><td>1</td><td>1</td><td>0</td><td>0</td><td>1</td><td>0</td><td>1</td><td>0</td><td>4</td><td>null</td><td>null</td></tr></tbody></table></div>"
      ],
      "text/plain": [
       "shape: (20, 14)\n",
       "┌────────┬──────────┬───────────┬──────────┬───┬────────┬──────────┬────────┬────────┐\n",
       "│ doc_id ┆ baseball ┆ economics ┆ politics ┆ … ┆ family ┆ num-attr ┆ User 1 ┆ User 2 │\n",
       "│ ---    ┆ ---      ┆ ---       ┆ ---      ┆   ┆ ---    ┆ ---      ┆ ---    ┆ ---    │\n",
       "│ str    ┆ i64      ┆ i64       ┆ i64      ┆   ┆ i64    ┆ i64      ┆ i64    ┆ i64    │\n",
       "╞════════╪══════════╪═══════════╪══════════╪═══╪════════╪══════════╪════════╪════════╡\n",
       "│ doc1   ┆ 1        ┆ 0         ┆ 1        ┆ … ┆ 1      ┆ 5        ┆ 1      ┆ -1     │\n",
       "│ doc2   ┆ 0        ┆ 1         ┆ 1        ┆ … ┆ 0      ┆ 4        ┆ -1     ┆ 1      │\n",
       "│ doc3   ┆ 0        ┆ 0         ┆ 0        ┆ … ┆ 0      ┆ 3        ┆ null   ┆ null   │\n",
       "│ doc4   ┆ 0        ┆ 0         ┆ 1        ┆ … ┆ 0      ┆ 4        ┆ null   ┆ 1      │\n",
       "│ doc5   ┆ 0        ┆ 1         ┆ 0        ┆ … ┆ 1      ┆ 3        ┆ null   ┆ null   │\n",
       "│ …      ┆ …        ┆ …         ┆ …        ┆ … ┆ …      ┆ …        ┆ …      ┆ …      │\n",
       "│ doc16  ┆ 1        ┆ 0         ┆ 0        ┆ … ┆ 0      ┆ 3        ┆ 1      ┆ null   │\n",
       "│ doc17  ┆ 0        ┆ 1         ┆ 1        ┆ … ┆ 0      ┆ 4        ┆ null   ┆ 1      │\n",
       "│ doc18  ┆ 0        ┆ 0         ┆ 0        ┆ … ┆ 0      ┆ 2        ┆ null   ┆ null   │\n",
       "│ doc19  ┆ 0        ┆ 1         ┆ 1        ┆ … ┆ 1      ┆ 5        ┆ -1     ┆ null   │\n",
       "│ doc20  ┆ 0        ┆ 0         ┆ 1        ┆ … ┆ 0      ┆ 4        ┆ null   ┆ null   │\n",
       "└────────┴──────────┴───────────┴──────────┴───┴────────┴──────────┴────────┴────────┘"
      ]
     },
     "metadata": {},
     "output_type": "display_data"
    }
   ],
   "source": [
    "df = pl.read_excel(\"Assignment 2.xlsx\")\n",
    "df = df.drop([\"Pred1\", \"Pred2\"]).slice(0, 20)\n",
    "display(df)"
   ]
  },
  {
   "cell_type": "code",
   "execution_count": 70,
   "metadata": {},
   "outputs": [
    {
     "data": {
      "text/html": [
       "<div><style>\n",
       ".dataframe > thead > tr,\n",
       ".dataframe > tbody > tr {\n",
       "  text-align: right;\n",
       "  white-space: pre-wrap;\n",
       "}\n",
       "</style>\n",
       "<small>shape: (10,)</small><table border=\"1\" class=\"dataframe\"><thead><tr><th>column_0</th></tr><tr><td>f64</td></tr></thead><tbody><tr><td>0.25</td></tr><tr><td>0.166667</td></tr><tr><td>0.1</td></tr><tr><td>0.090909</td></tr><tr><td>0.166667</td></tr><tr><td>0.166667</td></tr><tr><td>0.142857</td></tr><tr><td>0.166667</td></tr><tr><td>0.142857</td></tr><tr><td>0.2</td></tr></tbody></table></div>"
      ],
      "text/plain": [
       "shape: (10,)\n",
       "Series: 'column_0' [f64]\n",
       "[\n",
       "\t0.25\n",
       "\t0.166667\n",
       "\t0.1\n",
       "\t0.090909\n",
       "\t0.166667\n",
       "\t0.166667\n",
       "\t0.142857\n",
       "\t0.166667\n",
       "\t0.142857\n",
       "\t0.2\n",
       "]"
      ]
     },
     "metadata": {},
     "output_type": "display_data"
    }
   ],
   "source": [
    "idf_df = df.select(pl.exclude([\"doc_id\", \"User 1\", \"User 2\", \"num-attr\"])).sum()\n",
    "\n",
    "idf_df = idf_df.select(\n",
    "    (1 / pl.col(\"baseball\")).alias(\"baseball\"),\n",
    "    (1 / pl.col(\"economics\")).alias(\"economics\"),\n",
    "    (1 / pl.col(\"politics\")).alias(\"politics\"),\n",
    "    (1 / pl.col(\"Europe\")).alias(\"Europe\"),\n",
    "    (1 / pl.col(\"Asia\")).alias(\"Asia\"),\n",
    "    (1 / pl.col(\"soccer\")).alias(\"soccer\"),\n",
    "    (1 / pl.col(\"war\")).alias(\"war\"),\n",
    "    (1 / pl.col(\"security\")).alias(\"security\"),\n",
    "    (1 / pl.col(\"shopping\")).alias(\"shopping\"),\n",
    "    (1 / pl.col(\"family\")).alias(\"family\")\n",
    ")\n",
    "\n",
    "display(idf_df.transpose().to_series())"
   ]
  },
  {
   "cell_type": "code",
   "execution_count": 71,
   "metadata": {},
   "outputs": [],
   "source": [
    "def score_matrix(df: pl.DataFrame, profile: pl.DataFrame, idf: pl.DataFrame) -> pl.DataFrame:\n",
    "    return (\n",
    "        df.select(pl.exclude([\"doc_id\", \"User 1\", \"User 2\", \"num-attr\"])).transpose(\n",
    "            column_names=column_name_generator(\"doc\")\n",
    "        )\n",
    "        * profile.transpose().to_series() * idf.transpose().to_series()\n",
    "    ).sum().transpose(column_names=[\"score\"]).with_row_index(\"doc_id\", offset=1).sort(\n",
    "        \"score\", descending=True\n",
    "    )"
   ]
  },
  {
   "cell_type": "code",
   "execution_count": 72,
   "metadata": {},
   "outputs": [
    {
     "data": {
      "text/html": [
       "<div><style>\n",
       ".dataframe > thead > tr,\n",
       ".dataframe > tbody > tr {\n",
       "  text-align: right;\n",
       "  white-space: pre-wrap;\n",
       "}\n",
       "</style>\n",
       "<small>shape: (20, 2)</small><table border=\"1\" class=\"dataframe\"><thead><tr><th>doc_id</th><th>score</th></tr><tr><td>u32</td><td>f64</td></tr></thead><tbody><tr><td>16</td><td>0.396153</td></tr><tr><td>6</td><td>0.319432</td></tr><tr><td>12</td><td>0.311648</td></tr><tr><td>1</td><td>0.247612</td></tr><tr><td>9</td><td>0.179067</td></tr><tr><td>3</td><td>0.109459</td></tr><tr><td>18</td><td>0.071635</td></tr><tr><td>15</td><td>0.021184</td></tr><tr><td>11</td><td>0.018752</td></tr><tr><td>20</td><td>-0.006291</td></tr><tr><td>5</td><td>-0.043527</td></tr><tr><td>8</td><td>-0.04753</td></tr><tr><td>14</td><td>-0.053281</td></tr><tr><td>13</td><td>-0.057253</td></tr><tr><td>7</td><td>-0.058926</td></tr><tr><td>4</td><td>-0.089197</td></tr><tr><td>19</td><td>-0.121533</td></tr><tr><td>10</td><td>-0.128031</td></tr><tr><td>2</td><td>-0.136187</td></tr><tr><td>17</td><td>-0.136187</td></tr></tbody></table></div>"
      ],
      "text/plain": [
       "shape: (20, 2)\n",
       "┌────────┬───────────┐\n",
       "│ doc_id ┆ score     │\n",
       "│ ---    ┆ ---       │\n",
       "│ u32    ┆ f64       │\n",
       "╞════════╪═══════════╡\n",
       "│ 16     ┆ 0.396153  │\n",
       "│ 6      ┆ 0.319432  │\n",
       "│ 12     ┆ 0.311648  │\n",
       "│ 1      ┆ 0.247612  │\n",
       "│ 9      ┆ 0.179067  │\n",
       "│ …      ┆ …         │\n",
       "│ 4      ┆ -0.089197 │\n",
       "│ 19     ┆ -0.121533 │\n",
       "│ 10     ┆ -0.128031 │\n",
       "│ 2      ┆ -0.136187 │\n",
       "│ 17     ┆ -0.136187 │\n",
       "└────────┴───────────┘"
      ]
     },
     "execution_count": 72,
     "metadata": {},
     "output_type": "execute_result"
    }
   ],
   "source": [
    "score_matrix(doc_matrix_df, profile1, idf_df)"
   ]
  },
  {
   "cell_type": "code",
   "execution_count": 73,
   "metadata": {},
   "outputs": [
    {
     "data": {
      "text/html": [
       "<div><style>\n",
       ".dataframe > thead > tr,\n",
       ".dataframe > tbody > tr {\n",
       "  text-align: right;\n",
       "  white-space: pre-wrap;\n",
       "}\n",
       "</style>\n",
       "<small>shape: (20, 2)</small><table border=\"1\" class=\"dataframe\"><thead><tr><th>doc_id</th><th>score</th></tr><tr><td>u32</td><td>f64</td></tr></thead><tbody><tr><td>2</td><td>0.329154</td></tr><tr><td>17</td><td>0.329154</td></tr><tr><td>4</td><td>0.240296</td></tr><tr><td>13</td><td>0.208553</td></tr><tr><td>14</td><td>0.204154</td></tr><tr><td>20</td><td>0.115296</td></tr><tr><td>7</td><td>0.113531</td></tr><tr><td>15</td><td>0.102276</td></tr><tr><td>18</td><td>0.096424</td></tr><tr><td>8</td><td>0.070575</td></tr><tr><td>10</td><td>0.046812</td></tr><tr><td>5</td><td>0.044585</td></tr><tr><td>19</td><td>0.043343</td></tr><tr><td>11</td><td>0.01775</td></tr><tr><td>3</td><td>-0.062892</td></tr><tr><td>6</td><td>-0.084695</td></tr><tr><td>9</td><td>-0.120746</td></tr><tr><td>1</td><td>-0.217167</td></tr><tr><td>16</td><td>-0.246472</td></tr><tr><td>12</td><td>-0.252852</td></tr></tbody></table></div>"
      ],
      "text/plain": [
       "shape: (20, 2)\n",
       "┌────────┬───────────┐\n",
       "│ doc_id ┆ score     │\n",
       "│ ---    ┆ ---       │\n",
       "│ u32    ┆ f64       │\n",
       "╞════════╪═══════════╡\n",
       "│ 2      ┆ 0.329154  │\n",
       "│ 17     ┆ 0.329154  │\n",
       "│ 4      ┆ 0.240296  │\n",
       "│ 13     ┆ 0.208553  │\n",
       "│ 14     ┆ 0.204154  │\n",
       "│ …      ┆ …         │\n",
       "│ 6      ┆ -0.084695 │\n",
       "│ 9      ┆ -0.120746 │\n",
       "│ 1      ┆ -0.217167 │\n",
       "│ 16     ┆ -0.246472 │\n",
       "│ 12     ┆ -0.252852 │\n",
       "└────────┴───────────┘"
      ]
     },
     "execution_count": 73,
     "metadata": {},
     "output_type": "execute_result"
    }
   ],
   "source": [
    "score_matrix(doc_matrix_df, profile2, idf_df)"
   ]
  }
 ],
 "metadata": {
  "kernelspec": {
   "display_name": ".venv",
   "language": "python",
   "name": "python3"
  },
  "language_info": {
   "codemirror_mode": {
    "name": "ipython",
    "version": 3
   },
   "file_extension": ".py",
   "mimetype": "text/x-python",
   "name": "python",
   "nbconvert_exporter": "python",
   "pygments_lexer": "ipython3",
   "version": "3.12.1"
  }
 },
 "nbformat": 4,
 "nbformat_minor": 2
}

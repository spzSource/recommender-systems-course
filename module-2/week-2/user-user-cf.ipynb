{
 "cells": [
  {
   "cell_type": "code",
   "execution_count": 1,
   "metadata": {},
   "outputs": [
    {
     "name": "stdout",
     "output_type": "stream",
     "text": [
      "Requirement already satisfied: fastexcel in ./.venv/lib/python3.12/site-packages (0.9.1)\n",
      "Requirement already satisfied: matplotlib in ./.venv/lib/python3.12/site-packages (3.8.3)\n",
      "Requirement already satisfied: polars[numpy,pandas,pyarrow] in ./.venv/lib/python3.12/site-packages (0.20.10)\n",
      "Requirement already satisfied: numpy>=1.16.0 in ./.venv/lib/python3.12/site-packages (from polars[numpy,pandas,pyarrow]) (1.26.4)\n",
      "Requirement already satisfied: pyarrow>=7.0.0 in ./.venv/lib/python3.12/site-packages (from polars[numpy,pandas,pyarrow]) (15.0.0)\n",
      "Requirement already satisfied: pandas in ./.venv/lib/python3.12/site-packages (from polars[numpy,pandas,pyarrow]) (2.2.1)\n",
      "Requirement already satisfied: contourpy>=1.0.1 in ./.venv/lib/python3.12/site-packages (from matplotlib) (1.2.0)\n",
      "Requirement already satisfied: cycler>=0.10 in ./.venv/lib/python3.12/site-packages (from matplotlib) (0.12.1)\n",
      "Requirement already satisfied: fonttools>=4.22.0 in ./.venv/lib/python3.12/site-packages (from matplotlib) (4.49.0)\n",
      "Requirement already satisfied: kiwisolver>=1.3.1 in ./.venv/lib/python3.12/site-packages (from matplotlib) (1.4.5)\n",
      "Requirement already satisfied: packaging>=20.0 in ./.venv/lib/python3.12/site-packages (from matplotlib) (23.2)\n",
      "Requirement already satisfied: pillow>=8 in ./.venv/lib/python3.12/site-packages (from matplotlib) (10.2.0)\n",
      "Requirement already satisfied: pyparsing>=2.3.1 in ./.venv/lib/python3.12/site-packages (from matplotlib) (3.1.1)\n",
      "Requirement already satisfied: python-dateutil>=2.7 in ./.venv/lib/python3.12/site-packages (from matplotlib) (2.8.2)\n",
      "Requirement already satisfied: six>=1.5 in ./.venv/lib/python3.12/site-packages (from python-dateutil>=2.7->matplotlib) (1.16.0)\n",
      "Requirement already satisfied: pytz>=2020.1 in ./.venv/lib/python3.12/site-packages (from pandas->polars[numpy,pandas,pyarrow]) (2024.1)\n",
      "Requirement already satisfied: tzdata>=2022.7 in ./.venv/lib/python3.12/site-packages (from pandas->polars[numpy,pandas,pyarrow]) (2024.1)\n",
      "Note: you may need to restart the kernel to use updated packages.\n"
     ]
    }
   ],
   "source": [
    "%pip install 'polars[numpy,pyarrow,pandas]' fastexcel matplotlib"
   ]
  },
  {
   "cell_type": "code",
   "execution_count": 2,
   "metadata": {},
   "outputs": [],
   "source": [
    "import polars as pl"
   ]
  },
  {
   "cell_type": "code",
   "execution_count": 3,
   "metadata": {},
   "outputs": [],
   "source": [
    "df = pl.read_excel(\"UUCF Assignment Spreadsheet.xls\")"
   ]
  },
  {
   "cell_type": "code",
   "execution_count": null,
   "metadata": {},
   "outputs": [],
   "source": [
    "df"
   ]
  },
  {
   "cell_type": "code",
   "execution_count": 4,
   "metadata": {},
   "outputs": [],
   "source": [
    "df = df.rename({\"__UNNAMED__0\": \"Movie\"})"
   ]
  },
  {
   "cell_type": "code",
   "execution_count": 5,
   "metadata": {},
   "outputs": [
    {
     "data": {
      "text/html": [
       "<div><style>\n",
       ".dataframe > thead > tr,\n",
       ".dataframe > tbody > tr {\n",
       "  text-align: right;\n",
       "  white-space: pre-wrap;\n",
       "}\n",
       "</style>\n",
       "<small>shape: (10, 26)</small><table border=\"1\" class=\"dataframe\"><thead><tr><th>Movie</th><th>1648</th><th>5136</th><th>918</th><th>2824</th><th>3867</th><th>860</th><th>3712</th><th>2968</th><th>3525</th><th>4323</th><th>3617</th><th>4360</th><th>2756</th><th>89</th><th>442</th><th>3556</th><th>5261</th><th>2492</th><th>5062</th><th>2486</th><th>4942</th><th>2267</th><th>4809</th><th>3853</th><th>2288</th></tr><tr><td>str</td><td>f64</td><td>f64</td><td>f64</td><td>f64</td><td>f64</td><td>f64</td><td>f64</td><td>f64</td><td>f64</td><td>f64</td><td>f64</td><td>f64</td><td>f64</td><td>f64</td><td>i64</td><td>f64</td><td>f64</td><td>f64</td><td>f64</td><td>f64</td><td>f64</td><td>f64</td><td>f64</td><td>f64</td><td>f64</td></tr></thead><tbody><tr><td>&quot;24: Kill Bill:…</td><td>3.0</td><td>5.0</td><td>null</td><td>4.0</td><td>3.0</td><td>3.0</td><td>null</td><td>0.5</td><td>3.5</td><td>5.0</td><td>4.0</td><td>4.0</td><td>4.0</td><td>5.0</td><td>5</td><td>5.0</td><td>0.5</td><td>4.0</td><td>4.0</td><td>4.5</td><td>4.0</td><td>5.0</td><td>null</td><td>5.0</td><td>3.0</td></tr><tr><td>&quot;36657: X-Men (…</td><td>null</td><td>4.5</td><td>null</td><td>null</td><td>4.0</td><td>null</td><td>4.5</td><td>5.0</td><td>4.0</td><td>5.0</td><td>null</td><td>4.0</td><td>3.5</td><td>null</td><td>4</td><td>3.5</td><td>null</td><td>3.0</td><td>4.0</td><td>3.5</td><td>null</td><td>null</td><td>null</td><td>3.0</td><td>4.0</td></tr><tr><td>&quot;194: Amelie (2…</td><td>null</td><td>5.0</td><td>null</td><td>null</td><td>null</td><td>null</td><td>null</td><td>1.0</td><td>null</td><td>5.0</td><td>null</td><td>null</td><td>null</td><td>5.0</td><td>4</td><td>null</td><td>4.0</td><td>3.0</td><td>4.0</td><td>5.0</td><td>2.5</td><td>4.0</td><td>4.5</td><td>4.5</td><td>null</td></tr><tr><td>&quot;602: Independe…</td><td>4.0</td><td>4.5</td><td>null</td><td>null</td><td>3.0</td><td>2.5</td><td>3.5</td><td>null</td><td>3.5</td><td>5.0</td><td>null</td><td>4.5</td><td>4.0</td><td>4.0</td><td>4</td><td>3.0</td><td>1.5</td><td>3.0</td><td>3.5</td><td>1.5</td><td>3.5</td><td>null</td><td>null</td><td>2.0</td><td>3.0</td></tr><tr><td>&quot;278: The Shaws…</td><td>null</td><td>5.0</td><td>4.5</td><td>5.0</td><td>3.0</td><td>null</td><td>null</td><td>1.0</td><td>5.0</td><td>3.5</td><td>5.0</td><td>null</td><td>3.5</td><td>4.5</td><td>null</td><td>null</td><td>4.0</td><td>3.0</td><td>4.5</td><td>0.5</td><td>4.5</td><td>null</td><td>5.0</td><td>4.0</td><td>null</td></tr><tr><td>&quot;2164: Stargate…</td><td>null</td><td>null</td><td>null</td><td>null</td><td>null</td><td>null</td><td>null</td><td>1.5</td><td>3.5</td><td>null</td><td>null</td><td>null</td><td>null</td><td>null</td><td>5</td><td>3.0</td><td>null</td><td>4.0</td><td>null</td><td>3.0</td><td>null</td><td>null</td><td>null</td><td>3.0</td><td>2.5</td></tr><tr><td>&quot;671: Harry Pot…</td><td>null</td><td>4.0</td><td>5.0</td><td>4.0</td><td>4.0</td><td>3.0</td><td>null</td><td>5.0</td><td>3.5</td><td>0.5</td><td>4.0</td><td>4.5</td><td>5.0</td><td>null</td><td>4</td><td>3.0</td><td>null</td><td>3.5</td><td>2.0</td><td>0.5</td><td>5.0</td><td>3.0</td><td>null</td><td>null</td><td>null</td></tr><tr><td>&quot;9741: Unbreaka…</td><td>null</td><td>null</td><td>null</td><td>null</td><td>null</td><td>null</td><td>null</td><td>3.5</td><td>3.5</td><td>null</td><td>null</td><td>null</td><td>2.5</td><td>null</td><td>null</td><td>null</td><td>null</td><td>null</td><td>null</td><td>3.0</td><td>3.0</td><td>null</td><td>null</td><td>null</td><td>null</td></tr><tr><td>&quot;585: Monsters …</td><td>null</td><td>5.0</td><td>5.0</td><td>null</td><td>3.5</td><td>4.0</td><td>5.0</td><td>1.0</td><td>3.5</td><td>null</td><td>null</td><td>3.5</td><td>null</td><td>5.0</td><td>null</td><td>null</td><td>3.5</td><td>4.0</td><td>4.0</td><td>3.5</td><td>null</td><td>null</td><td>null</td><td>null</td><td>5.0</td></tr><tr><td>&quot;2502: The Bour…</td><td>null</td><td>4.0</td><td>null</td><td>null</td><td>4.0</td><td>null</td><td>5.0</td><td>5.0</td><td>3.5</td><td>null</td><td>3.5</td><td>null</td><td>4.0</td><td>null</td><td>5</td><td>3.5</td><td>0.5</td><td>3.5</td><td>4.0</td><td>3.0</td><td>4.0</td><td>4.0</td><td>null</td><td>null</td><td>4.5</td></tr></tbody></table></div>"
      ],
      "text/plain": [
       "shape: (10, 26)\n",
       "┌───────────────────────────────────┬──────┬──────┬──────┬───┬──────┬──────┬──────┬──────┐\n",
       "│ Movie                             ┆ 1648 ┆ 5136 ┆ 918  ┆ … ┆ 2267 ┆ 4809 ┆ 3853 ┆ 2288 │\n",
       "│ ---                               ┆ ---  ┆ ---  ┆ ---  ┆   ┆ ---  ┆ ---  ┆ ---  ┆ ---  │\n",
       "│ str                               ┆ f64  ┆ f64  ┆ f64  ┆   ┆ f64  ┆ f64  ┆ f64  ┆ f64  │\n",
       "╞═══════════════════════════════════╪══════╪══════╪══════╪═══╪══════╪══════╪══════╪══════╡\n",
       "│ 24: Kill Bill: Vol. 1 (2003)      ┆ 3.0  ┆ 5.0  ┆ null ┆ … ┆ 5.0  ┆ null ┆ 5.0  ┆ 3.0  │\n",
       "│ 36657: X-Men (2000)               ┆ null ┆ 4.5  ┆ null ┆ … ┆ null ┆ null ┆ 3.0  ┆ 4.0  │\n",
       "│ 194: Amelie (2001)                ┆ null ┆ 5.0  ┆ null ┆ … ┆ 4.0  ┆ 4.5  ┆ 4.5  ┆ null │\n",
       "│ 602: Independence Day (a.k.a. ID… ┆ 4.0  ┆ 4.5  ┆ null ┆ … ┆ null ┆ null ┆ 2.0  ┆ 3.0  │\n",
       "│ 278: The Shawshank Redemption (1… ┆ null ┆ 5.0  ┆ 4.5  ┆ … ┆ null ┆ 5.0  ┆ 4.0  ┆ null │\n",
       "│ 2164: Stargate (1994)             ┆ null ┆ null ┆ null ┆ … ┆ null ┆ null ┆ 3.0  ┆ 2.5  │\n",
       "│ 671: Harry Potter and the Sorcer… ┆ null ┆ 4.0  ┆ 5.0  ┆ … ┆ 3.0  ┆ null ┆ null ┆ null │\n",
       "│ 9741: Unbreakable (2000)          ┆ null ┆ null ┆ null ┆ … ┆ null ┆ null ┆ null ┆ null │\n",
       "│ 585: Monsters Inc. (2001)         ┆ null ┆ 5.0  ┆ 5.0  ┆ … ┆ null ┆ null ┆ null ┆ 5.0  │\n",
       "│ 2502: The Bourne Supremacy (2004… ┆ null ┆ 4.0  ┆ null ┆ … ┆ 4.0  ┆ null ┆ null ┆ 4.5  │\n",
       "└───────────────────────────────────┴──────┴──────┴──────┴───┴──────┴──────┴──────┴──────┘"
      ]
     },
     "execution_count": 5,
     "metadata": {},
     "output_type": "execute_result"
    }
   ],
   "source": [
    "df.sample(10)"
   ]
  },
  {
   "cell_type": "markdown",
   "metadata": {},
   "source": [
    "### Complete the user-by-user correlations matrix."
   ]
  },
  {
   "cell_type": "code",
   "execution_count": 6,
   "metadata": {},
   "outputs": [
    {
     "data": {
      "text/html": [
       "<div><style>\n",
       ".dataframe > thead > tr,\n",
       ".dataframe > tbody > tr {\n",
       "  text-align: right;\n",
       "  white-space: pre-wrap;\n",
       "}\n",
       "</style>\n",
       "<small>shape: (25, 25)</small><table border=\"1\" class=\"dataframe\"><thead><tr><th>1648</th><th>5136</th><th>918</th><th>2824</th><th>3867</th><th>860</th><th>3712</th><th>2968</th><th>3525</th><th>4323</th><th>3617</th><th>4360</th><th>2756</th><th>89</th><th>442</th><th>3556</th><th>5261</th><th>2492</th><th>5062</th><th>2486</th><th>4942</th><th>2267</th><th>4809</th><th>3853</th><th>2288</th></tr><tr><td>f64</td><td>f64</td><td>f64</td><td>f64</td><td>f64</td><td>f64</td><td>f64</td><td>f64</td><td>f64</td><td>f64</td><td>f64</td><td>f64</td><td>f64</td><td>f64</td><td>f64</td><td>f64</td><td>f64</td><td>f64</td><td>f64</td><td>f64</td><td>f64</td><td>f64</td><td>f64</td><td>f64</td><td>f64</td></tr></thead><tbody><tr><td>1.0</td><td>0.40298</td><td>-0.142206</td><td>0.51762</td><td>0.3002</td><td>0.480537</td><td>-0.312412</td><td>0.383348</td><td>0.092775</td><td>0.098191</td><td>-0.041734</td><td>0.264425</td><td>0.261268</td><td>0.46461</td><td>0.022308</td><td>-0.191988</td><td>0.493008</td><td>0.360644</td><td>0.551089</td><td>0.002544</td><td>0.116653</td><td>-0.429183</td><td>0.394371</td><td>-0.304422</td><td>0.245048</td></tr><tr><td>0.40298</td><td>1.0</td><td>0.118979</td><td>0.057916</td><td>0.341734</td><td>0.241377</td><td>0.131398</td><td>0.206695</td><td>0.360056</td><td>0.033642</td><td>0.138548</td><td>0.152948</td><td>0.148882</td><td>0.562449</td><td>0.414438</td><td>0.488607</td><td>0.32812</td><td>0.422236</td><td>0.226635</td><td>0.305803</td><td>0.037769</td><td>0.240728</td><td>0.411676</td><td>0.189234</td><td>0.390067</td></tr><tr><td>-0.142206</td><td>0.118979</td><td>1.0</td><td>-0.317063</td><td>0.294558</td><td>0.468333</td><td>0.092037</td><td>-0.045854</td><td>0.367568</td><td>-0.035394</td><td>0.011316</td><td>-0.23166</td><td>0.148431</td><td>0.267029</td><td>0.304139</td><td>0.373226</td><td>0.470972</td><td>0.069956</td><td>-0.054762</td><td>0.133812</td><td>0.015169</td><td>-0.273096</td><td>0.082528</td><td>0.667168</td><td>0.119162</td></tr><tr><td>0.51762</td><td>0.057916</td><td>-0.317063</td><td>1.0</td><td>-0.060913</td><td>-0.008066</td><td>0.46291</td><td>0.21476</td><td>0.169907</td><td>0.11935</td><td>0.282756</td><td>-0.005326</td><td>-0.087747</td><td>0.241567</td><td>0.116532</td><td>-0.201275</td><td>0.228341</td><td>0.2387</td><td>0.25966</td><td>0.247097</td><td>0.149247</td><td>-0.361466</td><td>0.474974</td><td>-0.262073</td><td>0.166999</td></tr><tr><td>0.3002</td><td>0.341734</td><td>0.294558</td><td>-0.060913</td><td>1.0</td><td>0.282497</td><td>0.400275</td><td>0.264249</td><td>0.125193</td><td>-0.333602</td><td>-0.066576</td><td>-0.093801</td><td>0.310104</td><td>-0.003878</td><td>0.113581</td><td>0.174085</td><td>0.297977</td><td>0.476683</td><td>0.293868</td><td>0.438992</td><td>-0.162818</td><td>-0.295966</td><td>0.054518</td><td>0.46411</td><td>0.379856</td></tr><tr><td>0.480537</td><td>0.241377</td><td>0.468333</td><td>-0.008066</td><td>0.282497</td><td>1.0</td><td>0.171151</td><td>0.072927</td><td>0.387133</td><td>0.146158</td><td>0.219929</td><td>-0.005316</td><td>0.323499</td><td>0.539066</td><td>0.181276</td><td>0.34747</td><td>0.399436</td><td>0.207314</td><td>0.311363</td><td>0.276306</td><td>0.079698</td><td>0.212991</td><td>0.165608</td><td>0.162314</td><td>0.279677</td></tr><tr><td>-0.312412</td><td>0.131398</td><td>0.092037</td><td>0.46291</td><td>0.400275</td><td>0.171151</td><td>1.0</td><td>0.065015</td><td>0.095623</td><td>-0.292501</td><td>-0.0389</td><td>-0.364324</td><td>0.126899</td><td>-0.05132</td><td>0.22713</td><td>0.016406</td><td>-0.240764</td><td>-0.115254</td><td>0.247693</td><td>0.166913</td><td>0.146011</td><td>0.009685</td><td>-0.451625</td><td>0.19366</td><td>0.113266</td></tr><tr><td>0.383348</td><td>0.206695</td><td>-0.045854</td><td>0.21476</td><td>0.264249</td><td>0.072927</td><td>0.065015</td><td>1.0</td><td>0.028529</td><td>-0.073252</td><td>0.312573</td><td>0.053024</td><td>0.143347</td><td>-0.118085</td><td>0.100841</td><td>0.049132</td><td>-0.009041</td><td>0.203613</td><td>0.033301</td><td>0.137982</td><td>0.070602</td><td>0.109452</td><td>-0.083562</td><td>-0.089317</td><td>0.229219</td></tr><tr><td>0.092775</td><td>0.360056</td><td>0.367568</td><td>0.169907</td><td>0.125193</td><td>0.387133</td><td>0.095623</td><td>0.028529</td><td>1.0</td><td>0.210879</td><td>0.243283</td><td>-0.086061</td><td>0.058365</td><td>0.475495</td><td>0.201734</td><td>0.475711</td><td>0.306957</td><td>0.136343</td><td>0.30175</td><td>0.143414</td><td>0.0561</td><td>0.179908</td><td>0.284648</td><td>0.170757</td><td>0.193131</td></tr><tr><td>0.098191</td><td>0.033642</td><td>-0.035394</td><td>0.11935</td><td>-0.333602</td><td>0.146158</td><td>-0.292501</td><td>-0.073252</td><td>0.210879</td><td>1.0</td><td>0.022907</td><td>0.252529</td><td>-0.221789</td><td>0.258866</td><td>-0.024337</td><td>-0.040606</td><td>0.155045</td><td>-0.204164</td><td>0.263654</td><td>0.167198</td><td>-0.084592</td><td>0.315712</td><td>0.085673</td><td>-0.109892</td><td>-0.279385</td></tr><tr><td>-0.041734</td><td>0.138548</td><td>0.011316</td><td>0.282756</td><td>-0.066576</td><td>0.219929</td><td>-0.0389</td><td>0.312573</td><td>0.243283</td><td>0.022907</td><td>1.0</td><td>-0.346186</td><td>0.081613</td><td>0.278335</td><td>-0.263877</td><td>0.079571</td><td>-0.165628</td><td>0.053306</td><td>0.00781</td><td>-0.244637</td><td>-0.030709</td><td>-0.07066</td><td>0.268595</td><td>-0.143503</td><td>0.013284</td></tr><tr><td>0.264425</td><td>0.152948</td><td>-0.23166</td><td>-0.005326</td><td>-0.093801</td><td>-0.005316</td><td>-0.364324</td><td>0.053024</td><td>-0.086061</td><td>0.252529</td><td>-0.346186</td><td>1.0</td><td>0.091842</td><td>-0.115492</td><td>0.197105</td><td>0.072993</td><td>0.161882</td><td>-0.000311</td><td>-0.077598</td><td>0.039389</td><td>-0.156091</td><td>0.408592</td><td>0.179652</td><td>0.280402</td><td>0.040328</td></tr><tr><td>0.261268</td><td>0.148882</td><td>0.148431</td><td>-0.087747</td><td>0.310104</td><td>0.323499</td><td>0.126899</td><td>0.143347</td><td>0.058365</td><td>-0.221789</td><td>0.081613</td><td>0.091842</td><td>1.0</td><td>0.290591</td><td>0.017591</td><td>0.101784</td><td>-0.140953</td><td>0.150476</td><td>0.024572</td><td>-0.03113</td><td>-0.133768</td><td>0.142067</td><td>0.01514</td><td>0.18121</td><td>-0.005935</td></tr><tr><td>0.46461</td><td>0.562449</td><td>0.267029</td><td>0.241567</td><td>-0.003878</td><td>0.539066</td><td>-0.05132</td><td>-0.118085</td><td>0.475495</td><td>0.258866</td><td>0.278335</td><td>-0.115492</td><td>0.290591</td><td>1.0</td><td>0.296826</td><td>0.326774</td><td>0.291476</td><td>0.372676</td><td>0.52599</td><td>0.12338</td><td>0.178088</td><td>0.0886</td><td>0.668516</td><td>0.17968</td><td>0.155869</td></tr><tr><td>0.022308</td><td>0.414438</td><td>0.304139</td><td>0.116532</td><td>0.113581</td><td>0.181276</td><td>0.22713</td><td>0.100841</td><td>0.201734</td><td>-0.024337</td><td>-0.263877</td><td>0.197105</td><td>0.017591</td><td>0.296826</td><td>1.0</td><td>0.25166</td><td>0.046822</td><td>0.218575</td><td>0.150431</td><td>0.280392</td><td>0.038378</td><td>0.26252</td><td>0.064179</td><td>-0.023439</td><td>0.257864</td></tr><tr><td>-0.191988</td><td>0.488607</td><td>0.373226</td><td>-0.201275</td><td>0.174085</td><td>0.34747</td><td>0.016406</td><td>0.049132</td><td>0.475711</td><td>-0.040606</td><td>0.079571</td><td>0.072993</td><td>0.101784</td><td>0.326774</td><td>0.25166</td><td>1.0</td><td>0.086665</td><td>0.158739</td><td>-0.016164</td><td>0.256537</td><td>-0.055137</td><td>0.503247</td><td>0.100277</td><td>0.423225</td><td>0.222458</td></tr><tr><td>0.493008</td><td>0.32812</td><td>0.470972</td><td>0.228341</td><td>0.297977</td><td>0.399436</td><td>-0.240764</td><td>-0.009041</td><td>0.306957</td><td>0.155045</td><td>-0.165628</td><td>0.161882</td><td>-0.140953</td><td>0.291476</td><td>0.046822</td><td>0.086665</td><td>1.0</td><td>0.149165</td><td>0.372177</td><td>0.198086</td><td>0.270928</td><td>-0.393376</td><td>0.455274</td><td>0.03905</td><td>0.374264</td></tr><tr><td>0.360644</td><td>0.422236</td><td>0.069956</td><td>0.2387</td><td>0.476683</td><td>0.207314</td><td>-0.115254</td><td>0.203613</td><td>0.136343</td><td>-0.204164</td><td>0.053306</td><td>-0.000311</td><td>0.150476</td><td>0.372676</td><td>0.218575</td><td>0.158739</td><td>0.149165</td><td>1.0</td><td>0.276883</td><td>0.158002</td><td>0.035825</td><td>-0.345495</td><td>0.449025</td><td>0.28941</td><td>0.169239</td></tr><tr><td>0.551089</td><td>0.226635</td><td>-0.054762</td><td>0.25966</td><td>0.293868</td><td>0.311363</td><td>0.247693</td><td>0.033301</td><td>0.30175</td><td>0.263654</td><td>0.00781</td><td>-0.077598</td><td>0.024572</td><td>0.52599</td><td>0.150431</td><td>-0.016164</td><td>0.372177</td><td>0.276883</td><td>1.0</td><td>0.403809</td><td>0.028521</td><td>0.107821</td><td>0.428055</td><td>0.407044</td><td>0.278868</td></tr><tr><td>0.002544</td><td>0.305803</td><td>0.133812</td><td>0.247097</td><td>0.438992</td><td>0.276306</td><td>0.166913</td><td>0.137982</td><td>0.143414</td><td>0.167198</td><td>-0.244637</td><td>0.039389</td><td>-0.03113</td><td>0.12338</td><td>0.280392</td><td>0.256537</td><td>0.198086</td><td>0.158002</td><td>0.403809</td><td>1.0</td><td>-0.068421</td><td>0.173797</td><td>0.105761</td><td>0.472361</td><td>0.257462</td></tr><tr><td>0.116653</td><td>0.037769</td><td>0.015169</td><td>0.149247</td><td>-0.162818</td><td>0.079698</td><td>0.146011</td><td>0.070602</td><td>0.0561</td><td>-0.084592</td><td>-0.030709</td><td>-0.156091</td><td>-0.133768</td><td>0.178088</td><td>0.038378</td><td>-0.055137</td><td>0.270928</td><td>0.035825</td><td>0.028521</td><td>-0.068421</td><td>1.0</td><td>-0.346386</td><td>-0.004638</td><td>0.143672</td><td>0.074476</td></tr><tr><td>-0.429183</td><td>0.240728</td><td>-0.273096</td><td>-0.361466</td><td>-0.295966</td><td>0.212991</td><td>0.009685</td><td>0.109452</td><td>0.179908</td><td>0.315712</td><td>-0.07066</td><td>0.408592</td><td>0.142067</td><td>0.0886</td><td>0.26252</td><td>0.503247</td><td>-0.393376</td><td>-0.345495</td><td>0.107821</td><td>0.173797</td><td>-0.346386</td><td>1.0</td><td>-0.339845</td><td>0.16596</td><td>0.156341</td></tr><tr><td>0.394371</td><td>0.411676</td><td>0.082528</td><td>0.474974</td><td>0.054518</td><td>0.165608</td><td>-0.451625</td><td>-0.083562</td><td>0.284648</td><td>0.085673</td><td>0.268595</td><td>0.179652</td><td>0.01514</td><td>0.668516</td><td>0.064179</td><td>0.100277</td><td>0.455274</td><td>0.449025</td><td>0.428055</td><td>0.105761</td><td>-0.004638</td><td>-0.339845</td><td>1.0</td><td>0.542192</td><td>0.43552</td></tr><tr><td>-0.304422</td><td>0.189234</td><td>0.667168</td><td>-0.262073</td><td>0.46411</td><td>0.162314</td><td>0.19366</td><td>-0.089317</td><td>0.170757</td><td>-0.109892</td><td>-0.143503</td><td>0.280402</td><td>0.18121</td><td>0.17968</td><td>-0.023439</td><td>0.423225</td><td>0.03905</td><td>0.28941</td><td>0.407044</td><td>0.472361</td><td>0.143672</td><td>0.16596</td><td>0.542192</td><td>1.0</td><td>0.080403</td></tr><tr><td>0.245048</td><td>0.390067</td><td>0.119162</td><td>0.166999</td><td>0.379856</td><td>0.279677</td><td>0.113266</td><td>0.229219</td><td>0.193131</td><td>-0.279385</td><td>0.013284</td><td>0.040328</td><td>-0.005935</td><td>0.155869</td><td>0.257864</td><td>0.222458</td><td>0.374264</td><td>0.169239</td><td>0.278868</td><td>0.257462</td><td>0.074476</td><td>0.156341</td><td>0.43552</td><td>0.080403</td><td>1.0</td></tr></tbody></table></div>"
      ],
      "text/plain": [
       "shape: (25, 25)\n",
       "┌───────────┬──────────┬───────────┬───────────┬───┬───────────┬───────────┬───────────┬──────────┐\n",
       "│ 1648      ┆ 5136     ┆ 918       ┆ 2824      ┆ … ┆ 2267      ┆ 4809      ┆ 3853      ┆ 2288     │\n",
       "│ ---       ┆ ---      ┆ ---       ┆ ---       ┆   ┆ ---       ┆ ---       ┆ ---       ┆ ---      │\n",
       "│ f64       ┆ f64      ┆ f64       ┆ f64       ┆   ┆ f64       ┆ f64       ┆ f64       ┆ f64      │\n",
       "╞═══════════╪══════════╪═══════════╪═══════════╪═══╪═══════════╪═══════════╪═══════════╪══════════╡\n",
       "│ 1.0       ┆ 0.40298  ┆ -0.142206 ┆ 0.51762   ┆ … ┆ -0.429183 ┆ 0.394371  ┆ -0.304422 ┆ 0.245048 │\n",
       "│ 0.40298   ┆ 1.0      ┆ 0.118979  ┆ 0.057916  ┆ … ┆ 0.240728  ┆ 0.411676  ┆ 0.189234  ┆ 0.390067 │\n",
       "│ -0.142206 ┆ 0.118979 ┆ 1.0       ┆ -0.317063 ┆ … ┆ -0.273096 ┆ 0.082528  ┆ 0.667168  ┆ 0.119162 │\n",
       "│ 0.51762   ┆ 0.057916 ┆ -0.317063 ┆ 1.0       ┆ … ┆ -0.361466 ┆ 0.474974  ┆ -0.262073 ┆ 0.166999 │\n",
       "│ 0.3002    ┆ 0.341734 ┆ 0.294558  ┆ -0.060913 ┆ … ┆ -0.295966 ┆ 0.054518  ┆ 0.46411   ┆ 0.379856 │\n",
       "│ …         ┆ …        ┆ …         ┆ …         ┆ … ┆ …         ┆ …         ┆ …         ┆ …        │\n",
       "│ 0.116653  ┆ 0.037769 ┆ 0.015169  ┆ 0.149247  ┆ … ┆ -0.346386 ┆ -0.004638 ┆ 0.143672  ┆ 0.074476 │\n",
       "│ -0.429183 ┆ 0.240728 ┆ -0.273096 ┆ -0.361466 ┆ … ┆ 1.0       ┆ -0.339845 ┆ 0.16596   ┆ 0.156341 │\n",
       "│ 0.394371  ┆ 0.411676 ┆ 0.082528  ┆ 0.474974  ┆ … ┆ -0.339845 ┆ 1.0       ┆ 0.542192  ┆ 0.43552  │\n",
       "│ -0.304422 ┆ 0.189234 ┆ 0.667168  ┆ -0.262073 ┆ … ┆ 0.16596   ┆ 0.542192  ┆ 1.0       ┆ 0.080403 │\n",
       "│ 0.245048  ┆ 0.390067 ┆ 0.119162  ┆ 0.166999  ┆ … ┆ 0.156341  ┆ 0.43552   ┆ 0.080403  ┆ 1.0      │\n",
       "└───────────┴──────────┴───────────┴───────────┴───┴───────────┴───────────┴───────────┴──────────┘"
      ]
     },
     "metadata": {},
     "output_type": "display_data"
    }
   ],
   "source": [
    "# Polars dataframe doesnt correctly handles empty cells, resulting in all corr values being NaN.\n",
    "# To fix that the dataframe is converted to pandas.\n",
    "corr_matrix_df = pl.from_pandas(df.drop(\"Movie\").to_pandas().corr())\n",
    "\n",
    "display(corr_matrix_df)"
   ]
  },
  {
   "cell_type": "code",
   "execution_count": 7,
   "metadata": {},
   "outputs": [
    {
     "data": {
      "image/png": "[encoded data removed]",
      "text/plain": [
       "<Figure size 640x480 with 2 Axes>"
      ]
     },
     "metadata": {},
     "output_type": "display_data"
    }
   ],
   "source": [
    "import matplotlib.pyplot as plt\n",
    "\n",
    "fig, ax = plt.subplots()\n",
    "im = ax.imshow(corr_matrix_df, cmap='hot', interpolation='nearest')\n",
    "cbar = ax.figure.colorbar(im, ax=ax, format='% .2f')"
   ]
  },
  {
   "cell_type": "markdown",
   "metadata": {},
   "source": [
    "### Identify the top 5 neighbors "
   ]
  },
  {
   "cell_type": "code",
   "execution_count": 27,
   "metadata": {},
   "outputs": [],
   "source": [
    "def top_neighbors(user_id, n=5):\n",
    "    return pl.concat(\n",
    "        [pl.DataFrame({\"user\": corr_matrix_df.columns}), corr_matrix_df], how=\"horizontal\"\n",
    "    ).select(pl.col(\"user\"), pl.col(user_id)).sort(user_id, descending=True).head(n + 1) # top n + self-correlation"
   ]
  },
  {
   "cell_type": "code",
   "execution_count": 31,
   "metadata": {},
   "outputs": [
    {
     "data": {
      "text/html": [
       "<div><style>\n",
       ".dataframe > thead > tr,\n",
       ".dataframe > tbody > tr {\n",
       "  text-align: right;\n",
       "  white-space: pre-wrap;\n",
       "}\n",
       "</style>\n",
       "<small>shape: (6, 2)</small><table border=\"1\" class=\"dataframe\"><thead><tr><th>user</th><th>3867</th></tr><tr><td>str</td><td>f64</td></tr></thead><tbody><tr><td>&quot;3867&quot;</td><td>1.0</td></tr><tr><td>&quot;2492&quot;</td><td>0.476683</td></tr><tr><td>&quot;3853&quot;</td><td>0.46411</td></tr><tr><td>&quot;2486&quot;</td><td>0.438992</td></tr><tr><td>&quot;3712&quot;</td><td>0.400275</td></tr><tr><td>&quot;2288&quot;</td><td>0.379856</td></tr></tbody></table></div>"
      ],
      "text/plain": [
       "shape: (6, 2)\n",
       "┌──────┬──────────┐\n",
       "│ user ┆ 3867     │\n",
       "│ ---  ┆ ---      │\n",
       "│ str  ┆ f64      │\n",
       "╞══════╪══════════╡\n",
       "│ 3867 ┆ 1.0      │\n",
       "│ 2492 ┆ 0.476683 │\n",
       "│ 3853 ┆ 0.46411  │\n",
       "│ 2486 ┆ 0.438992 │\n",
       "│ 3712 ┆ 0.400275 │\n",
       "│ 2288 ┆ 0.379856 │\n",
       "└──────┴──────────┘"
      ]
     },
     "execution_count": 31,
     "metadata": {},
     "output_type": "execute_result"
    }
   ],
   "source": [
    "top_neighbors(\"3867\")"
   ]
  },
  {
   "cell_type": "code",
   "execution_count": 29,
   "metadata": {},
   "outputs": [
    {
     "data": {
      "text/html": [
       "<div><style>\n",
       ".dataframe > thead > tr,\n",
       ".dataframe > tbody > tr {\n",
       "  text-align: right;\n",
       "  white-space: pre-wrap;\n",
       "}\n",
       "</style>\n",
       "<small>shape: (6, 2)</small><table border=\"1\" class=\"dataframe\"><thead><tr><th>user</th><th>89</th></tr><tr><td>str</td><td>f64</td></tr></thead><tbody><tr><td>&quot;89&quot;</td><td>1.0</td></tr><tr><td>&quot;4809&quot;</td><td>0.668516</td></tr><tr><td>&quot;5136&quot;</td><td>0.562449</td></tr><tr><td>&quot;860&quot;</td><td>0.539066</td></tr><tr><td>&quot;5062&quot;</td><td>0.52599</td></tr><tr><td>&quot;3525&quot;</td><td>0.475495</td></tr></tbody></table></div>"
      ],
      "text/plain": [
       "shape: (6, 2)\n",
       "┌──────┬──────────┐\n",
       "│ user ┆ 89       │\n",
       "│ ---  ┆ ---      │\n",
       "│ str  ┆ f64      │\n",
       "╞══════╪══════════╡\n",
       "│ 89   ┆ 1.0      │\n",
       "│ 4809 ┆ 0.668516 │\n",
       "│ 5136 ┆ 0.562449 │\n",
       "│ 860  ┆ 0.539066 │\n",
       "│ 5062 ┆ 0.52599  │\n",
       "│ 3525 ┆ 0.475495 │\n",
       "└──────┴──────────┘"
      ]
     },
     "execution_count": 29,
     "metadata": {},
     "output_type": "execute_result"
    }
   ],
   "source": [
    "top_neighbors(\"89\")"
   ]
  },
  {
   "cell_type": "markdown",
   "metadata": {},
   "source": [
    "### Compute the predictions for each movie for users 3867 and 89"
   ]
  },
  {
   "cell_type": "code",
   "execution_count": null,
   "metadata": {},
   "outputs": [],
   "source": []
  }
 ],
 "metadata": {
  "kernelspec": {
   "display_name": "Python 3",
   "language": "python",
   "name": "python3"
  },
  "language_info": {
   "codemirror_mode": {
    "name": "ipython",
    "version": 3
   },
   "file_extension": ".py",
   "mimetype": "text/x-python",
   "name": "python",
   "nbconvert_exporter": "python",
   "pygments_lexer": "ipython3",
   "version": "3.12.1"
  }
 },
 "nbformat": 4,
 "nbformat_minor": 2
}

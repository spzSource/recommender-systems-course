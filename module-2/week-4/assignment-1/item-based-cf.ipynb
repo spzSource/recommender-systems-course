{
    "cells": [
        {
            "cell_type": "code",
            "execution_count": 11,
            "metadata": {},
            "outputs": [
                {
                    "name": "stdout",
                    "output_type": "stream",
                    "text": [
                        "Collecting xlsx2csv\n",
                        "  Downloading xlsx2csv-0.8.2.tar.gz (227 kB)\n",
                        "\u001b[2K     \u001b[90m━━━━━━━━━━━━━━━━━━━━━━━━━━━━━━━━━━━━━━━\u001b[0m \u001b[32m227.1/227.1 kB\u001b[0m \u001b[31m1.9 MB/s\u001b[0m eta \u001b[36m0:00:00\u001b[0m00:01\u001b[0m00:01\u001b[0m\n",
                        "\u001b[?25h  Installing build dependencies ... \u001b[?25ldone\n",
                        "\u001b[?25h  Getting requirements to build wheel ... \u001b[?25ldone\n",
                        "\u001b[?25h  Preparing metadata (pyproject.toml) ... \u001b[?25ldone\n",
                        "\u001b[?25hRequirement already satisfied: polars[numpy,pandas,pyarrow] in /home/popitich/dev/recommender-systems-course/.venv/lib64/python3.12/site-packages (0.20.9)\n",
                        "Requirement already satisfied: numpy>=1.16.0 in /home/popitich/dev/recommender-systems-course/.venv/lib64/python3.12/site-packages (from polars[numpy,pandas,pyarrow]) (1.26.4)\n",
                        "Requirement already satisfied: pyarrow>=7.0.0 in /home/popitich/dev/recommender-systems-course/.venv/lib64/python3.12/site-packages (from polars[numpy,pandas,pyarrow]) (15.0.0)\n",
                        "Requirement already satisfied: pandas in /home/popitich/dev/recommender-systems-course/.venv/lib64/python3.12/site-packages (from polars[numpy,pandas,pyarrow]) (2.2.0)\n",
                        "Requirement already satisfied: python-dateutil>=2.8.2 in /home/popitich/dev/recommender-systems-course/.venv/lib64/python3.12/site-packages (from pandas->polars[numpy,pandas,pyarrow]) (2.8.2)\n",
                        "Requirement already satisfied: pytz>=2020.1 in /home/popitich/dev/recommender-systems-course/.venv/lib64/python3.12/site-packages (from pandas->polars[numpy,pandas,pyarrow]) (2024.1)\n",
                        "Requirement already satisfied: tzdata>=2022.7 in /home/popitich/dev/recommender-systems-course/.venv/lib64/python3.12/site-packages (from pandas->polars[numpy,pandas,pyarrow]) (2024.1)\n",
                        "Requirement already satisfied: six>=1.5 in /home/popitich/dev/recommender-systems-course/.venv/lib64/python3.12/site-packages (from python-dateutil>=2.8.2->pandas->polars[numpy,pandas,pyarrow]) (1.16.0)\n",
                        "Building wheels for collected packages: xlsx2csv\n",
                        "  Building wheel for xlsx2csv (pyproject.toml) ... \u001b[?25ldone\n",
                        "\u001b[?25h  Created wheel for xlsx2csv: filename=xlsx2csv-0.8.2-py3-none-any.whl size=14219 sha256=3545809b4517ae99635887f7b3545dbafcb0067ac2778a6216da04c55ab897a9\n",
                        "  Stored in directory: /home/popitich/.cache/pip/wheels/7f/6a/f1/38d4a33e06cfe8293395f24e063a325e60d4a0d15783adc775\n",
                        "Successfully built xlsx2csv\n",
                        "Installing collected packages: xlsx2csv\n",
                        "Successfully installed xlsx2csv-0.8.2\n",
                        "Note: you may need to restart the kernel to use updated packages.\n"
                    ]
                }
            ],
            "source": [
                "%pip install 'polars[numpy,pyarrow,pandas]' xlsx2csv"
            ]
        },
        {
            "cell_type": "code",
            "execution_count": 1,
            "metadata": {},
            "outputs": [],
            "source": [
                "import polars as pl\n",
                "import numpy as np"
            ]
        },
        {
            "cell_type": "code",
            "execution_count": 2,
            "metadata": {},
            "outputs": [
                {
                    "data": {
                        "text/html": [
                            "<div><style>\n",
                            ".dataframe > thead > tr,\n",
                            ".dataframe > tbody > tr {\n",
                            "  text-align: right;\n",
                            "  white-space: pre-wrap;\n",
                            "}\n",
                            "</style>\n",
                            "<small>shape: (21, 22)</small><table border=\"1\" class=\"dataframe\"><thead><tr><th>User</th><th>1: Toy Story (1995)</th><th>1210: Star Wars: Episode VI - Return of the Jedi (1983)</th><th>356: Forrest Gump (1994)</th><th>318: Shawshank Redemption, The (1994)</th><th>593: Silence of the Lambs, The (1991)</th><th>3578: Gladiator (2000)</th><th>260: Star Wars: Episode IV - A New Hope (1977)</th><th>2028: Saving Private Ryan (1998)</th><th>296: Pulp Fiction (1994)</th><th>1259: Stand by Me (1986)</th><th>2396: Shakespeare in Love (1998)</th><th>2916: Total Recall (1990)</th><th>780: Independence Day (ID4) (1996)</th><th>541: Blade Runner (1982)</th><th>1265: Groundhog Day (1993)</th><th>2571: Matrix, The (1999)</th><th>527: Schindler&#x27;s List (1993)</th><th>2762: Sixth Sense, The (1999)</th><th>1198: Raiders of the Lost Ark (1981)</th><th>34: Babe (1995)</th><th>Mean</th></tr><tr><td>str</td><td>f64</td><td>f64</td><td>f64</td><td>f64</td><td>f64</td><td>f64</td><td>f64</td><td>f64</td><td>f64</td><td>f64</td><td>f64</td><td>f64</td><td>f64</td><td>f64</td><td>f64</td><td>f64</td><td>f64</td><td>f64</td><td>f64</td><td>f64</td><td>f64</td></tr></thead><tbody><tr><td>&quot;755&quot;</td><td>2.0</td><td>5.0</td><td>2.0</td><td>null</td><td>4.0</td><td>4.0</td><td>1.0</td><td>2.0</td><td>null</td><td>3.0</td><td>2.0</td><td>null</td><td>5.0</td><td>2.0</td><td>5.0</td><td>4.0</td><td>2.0</td><td>5.0</td><td>null</td><td>null</td><td>3.2</td></tr><tr><td>&quot;5277&quot;</td><td>1.0</td><td>null</td><td>null</td><td>2.0</td><td>4.0</td><td>2.0</td><td>5.0</td><td>null</td><td>null</td><td>4.0</td><td>3.0</td><td>2.0</td><td>2.0</td><td>null</td><td>2.0</td><td>null</td><td>5.0</td><td>1.0</td><td>3.0</td><td>null</td><td>2.769231</td></tr><tr><td>&quot;1577&quot;</td><td>null</td><td>null</td><td>null</td><td>5.0</td><td>2.0</td><td>null</td><td>null</td><td>null</td><td>null</td><td>1.0</td><td>null</td><td>1.0</td><td>4.0</td><td>4.0</td><td>1.0</td><td>1.0</td><td>2.0</td><td>3.0</td><td>1.0</td><td>3.0</td><td>2.333333</td></tr><tr><td>&quot;4388&quot;</td><td>2.0</td><td>3.0</td><td>null</td><td>null</td><td>null</td><td>1.0</td><td>null</td><td>3.0</td><td>4.0</td><td>null</td><td>null</td><td>4.0</td><td>null</td><td>3.0</td><td>5.0</td><td>null</td><td>5.0</td><td>1.0</td><td>1.0</td><td>2.0</td><td>2.833333</td></tr><tr><td>&quot;1202&quot;</td><td>null</td><td>3.0</td><td>4.0</td><td>1.0</td><td>4.0</td><td>1.0</td><td>4.0</td><td>4.0</td><td>null</td><td>1.0</td><td>5.0</td><td>1.0</td><td>null</td><td>4.0</td><td>null</td><td>3.0</td><td>5.0</td><td>5.0</td><td>null</td><td>null</td><td>3.214286</td></tr><tr><td>&quot;3823&quot;</td><td>3.0</td><td>4.0</td><td>4.0</td><td>4.0</td><td>null</td><td>null</td><td>2.0</td><td>1.0</td><td>4.0</td><td>4.0</td><td>5.0</td><td>2.0</td><td>4.0</td><td>null</td><td>1.0</td><td>null</td><td>null</td><td>3.0</td><td>null</td><td>2.0</td><td>3.071429</td></tr><tr><td>&quot;5448&quot;</td><td>null</td><td>null</td><td>3.0</td><td>1.0</td><td>1.0</td><td>4.0</td><td>4.0</td><td>5.0</td><td>2.0</td><td>null</td><td>1.0</td><td>null</td><td>null</td><td>3.0</td><td>null</td><td>1.0</td><td>null</td><td>null</td><td>5.0</td><td>2.0</td><td>2.666667</td></tr><tr><td>&quot;5347&quot;</td><td>2.0</td><td>null</td><td>null</td><td>null</td><td>3.0</td><td>2.0</td><td>4.0</td><td>null</td><td>3.0</td><td>null</td><td>null</td><td>2.0</td><td>1.0</td><td>2.0</td><td>4.0</td><td>null</td><td>1.0</td><td>3.0</td><td>5.0</td><td>null</td><td>2.666667</td></tr><tr><td>&quot;4117&quot;</td><td>4.0</td><td>1.0</td><td>null</td><td>4.0</td><td>2.0</td><td>4.0</td><td>5.0</td><td>4.0</td><td>null</td><td>1.0</td><td>2.0</td><td>null</td><td>1.0</td><td>null</td><td>5.0</td><td>null</td><td>null</td><td>null</td><td>null</td><td>5.0</td><td>3.166667</td></tr><tr><td>&quot;2765&quot;</td><td>4.0</td><td>2.0</td><td>null</td><td>5.0</td><td>3.0</td><td>null</td><td>4.0</td><td>3.0</td><td>4.0</td><td>null</td><td>null</td><td>null</td><td>2.0</td><td>null</td><td>null</td><td>2.0</td><td>5.0</td><td>1.0</td><td>null</td><td>null</td><td>3.181818</td></tr><tr><td>&quot;5450&quot;</td><td>5.0</td><td>1.0</td><td>5.0</td><td>null</td><td>null</td><td>5.0</td><td>2.0</td><td>null</td><td>null</td><td>null</td><td>null</td><td>3.0</td><td>2.0</td><td>null</td><td>null</td><td>1.0</td><td>null</td><td>2.0</td><td>1.0</td><td>4.0</td><td>2.818182</td></tr><tr><td>&quot;139&quot;</td><td>2.0</td><td>5.0</td><td>2.0</td><td>null</td><td>null</td><td>null</td><td>3.0</td><td>null</td><td>1.0</td><td>null</td><td>3.0</td><td>null</td><td>3.0</td><td>null</td><td>2.0</td><td>5.0</td><td>null</td><td>null</td><td>null</td><td>2.0</td><td>2.8</td></tr><tr><td>&quot;1940&quot;</td><td>4.0</td><td>null</td><td>null</td><td>5.0</td><td>4.0</td><td>null</td><td>2.0</td><td>5.0</td><td>null</td><td>null</td><td>null</td><td>2.0</td><td>4.0</td><td>null</td><td>3.0</td><td>null</td><td>null</td><td>null</td><td>5.0</td><td>null</td><td>3.777778</td></tr><tr><td>&quot;3118&quot;</td><td>3.0</td><td>null</td><td>3.0</td><td>null</td><td>2.0</td><td>null</td><td>3.0</td><td>null</td><td>null</td><td>4.0</td><td>null</td><td>1.0</td><td>2.0</td><td>2.0</td><td>3.0</td><td>5.0</td><td>1.0</td><td>null</td><td>null</td><td>null</td><td>2.636364</td></tr><tr><td>&quot;4656&quot;</td><td>2.0</td><td>4.0</td><td>null</td><td>null</td><td>5.0</td><td>5.0</td><td>4.0</td><td>null</td><td>3.0</td><td>5.0</td><td>null</td><td>1.0</td><td>3.0</td><td>null</td><td>2.0</td><td>null</td><td>3.0</td><td>null</td><td>3.0</td><td>1.0</td><td>3.153846</td></tr><tr><td>&quot;4796&quot;</td><td>null</td><td>null</td><td>1.0</td><td>null</td><td>3.0</td><td>2.0</td><td>null</td><td>2.0</td><td>null</td><td>1.0</td><td>5.0</td><td>null</td><td>2.0</td><td>null</td><td>null</td><td>2.0</td><td>2.0</td><td>4.0</td><td>3.0</td><td>4.0</td><td>2.583333</td></tr><tr><td>&quot;6037&quot;</td><td>2.0</td><td>null</td><td>null</td><td>null</td><td>null</td><td>null</td><td>null</td><td>null</td><td>2.0</td><td>null</td><td>2.0</td><td>null</td><td>3.0</td><td>null</td><td>3.0</td><td>4.0</td><td>null</td><td>null</td><td>null</td><td>null</td><td>2.666667</td></tr><tr><td>&quot;3048&quot;</td><td>4.0</td><td>5.0</td><td>1.0</td><td>5.0</td><td>1.0</td><td>1.0</td><td>4.0</td><td>null</td><td>5.0</td><td>null</td><td>null</td><td>null</td><td>null</td><td>4.0</td><td>null</td><td>null</td><td>2.0</td><td>1.0</td><td>2.0</td><td>5.0</td><td>3.076923</td></tr><tr><td>&quot;4790&quot;</td><td>2.0</td><td>1.0</td><td>3.0</td><td>null</td><td>null</td><td>4.0</td><td>5.0</td><td>1.0</td><td>3.0</td><td>3.0</td><td>3.0</td><td>1.0</td><td>null</td><td>null</td><td>null</td><td>2.0</td><td>null</td><td>null</td><td>null</td><td>null</td><td>2.545455</td></tr><tr><td>&quot;4489&quot;</td><td>2.0</td><td>2.0</td><td>2.0</td><td>4.0</td><td>5.0</td><td>null</td><td>1.0</td><td>3.0</td><td>2.0</td><td>2.0</td><td>1.0</td><td>null</td><td>4.0</td><td>5.0</td><td>5.0</td><td>4.0</td><td>3.0</td><td>5.0</td><td>3.0</td><td>null</td><td>3.117647</td></tr><tr><td>&quot;L2&quot;</td><td>11.83216</td><td>11.661904</td><td>9.899495</td><td>12.409674</td><td>12.4499</td><td>11.357817</td><td>14.247807</td><td>10.908712</td><td>10.630146</td><td>9.949874</td><td>10.77033</td><td>6.78233</td><td>11.74734</td><td>10.148892</td><td>12.529964</td><td>11.045361</td><td>11.661904</td><td>11.224972</td><td>10.86278</td><td>10.392305</td><td>null</td></tr></tbody></table></div>"
                        ],
                        "text/plain": [
                            "shape: (21, 22)\n",
                            "┌──────┬────────────┬────────────┬────────────┬───┬────────────┬────────────┬───────────┬──────────┐\n",
                            "│ User ┆ 1: Toy     ┆ 1210: Star ┆ 356:       ┆ … ┆ 2762:      ┆ 1198:      ┆ 34: Babe  ┆ Mean     │\n",
                            "│ ---  ┆ Story      ┆ Wars:      ┆ Forrest    ┆   ┆ Sixth      ┆ Raiders of ┆ (1995)    ┆ ---      │\n",
                            "│ str  ┆ (1995)     ┆ Episode VI ┆ Gump       ┆   ┆ Sense, The ┆ the Lost   ┆ ---       ┆ f64      │\n",
                            "│      ┆ ---        ┆ - Re…      ┆ (1994)     ┆   ┆ (1999)     ┆ Ark (1…    ┆ f64       ┆          │\n",
                            "│      ┆ f64        ┆ ---        ┆ ---        ┆   ┆ ---        ┆ ---        ┆           ┆          │\n",
                            "│      ┆            ┆ f64        ┆ f64        ┆   ┆ f64        ┆ f64        ┆           ┆          │\n",
                            "╞══════╪════════════╪════════════╪════════════╪═══╪════════════╪════════════╪═══════════╪══════════╡\n",
                            "│ 755  ┆ 2.0        ┆ 5.0        ┆ 2.0        ┆ … ┆ 5.0        ┆ null       ┆ null      ┆ 3.2      │\n",
                            "│ 5277 ┆ 1.0        ┆ null       ┆ null       ┆ … ┆ 1.0        ┆ 3.0        ┆ null      ┆ 2.769231 │\n",
                            "│ 1577 ┆ null       ┆ null       ┆ null       ┆ … ┆ 3.0        ┆ 1.0        ┆ 3.0       ┆ 2.333333 │\n",
                            "│ 4388 ┆ 2.0        ┆ 3.0        ┆ null       ┆ … ┆ 1.0        ┆ 1.0        ┆ 2.0       ┆ 2.833333 │\n",
                            "│ 1202 ┆ null       ┆ 3.0        ┆ 4.0        ┆ … ┆ 5.0        ┆ null       ┆ null      ┆ 3.214286 │\n",
                            "│ …    ┆ …          ┆ …          ┆ …          ┆ … ┆ …          ┆ …          ┆ …         ┆ …        │\n",
                            "│ 6037 ┆ 2.0        ┆ null       ┆ null       ┆ … ┆ null       ┆ null       ┆ null      ┆ 2.666667 │\n",
                            "│ 3048 ┆ 4.0        ┆ 5.0        ┆ 1.0        ┆ … ┆ 1.0        ┆ 2.0        ┆ 5.0       ┆ 3.076923 │\n",
                            "│ 4790 ┆ 2.0        ┆ 1.0        ┆ 3.0        ┆ … ┆ null       ┆ null       ┆ null      ┆ 2.545455 │\n",
                            "│ 4489 ┆ 2.0        ┆ 2.0        ┆ 2.0        ┆ … ┆ 5.0        ┆ 3.0        ┆ null      ┆ 3.117647 │\n",
                            "│ L2   ┆ 11.83216   ┆ 11.661904  ┆ 9.899495   ┆ … ┆ 11.224972  ┆ 10.86278   ┆ 10.392305 ┆ null     │\n",
                            "└──────┴────────────┴────────────┴────────────┴───┴────────────┴────────────┴───────────┴──────────┘"
                        ]
                    },
                    "metadata": {},
                    "output_type": "display_data"
                }
            ],
            "source": [
                "df = pl.read_excel(\"./Assignment 5.xlsx\")\n",
                "display(df)"
            ]
        },
        {
            "cell_type": "code",
            "execution_count": 3,
            "metadata": {},
            "outputs": [
                {
                    "data": {
                        "text/html": [
                            "<div><style>\n",
                            ".dataframe > thead > tr,\n",
                            ".dataframe > tbody > tr {\n",
                            "  text-align: right;\n",
                            "  white-space: pre-wrap;\n",
                            "}\n",
                            "</style>\n",
                            "<small>shape: (1, 1)</small><table border=\"1\" class=\"dataframe\"><thead><tr><th>1: Toy Story (1995)</th></tr><tr><td>f64</td></tr></thead><tbody><tr><td>0.644995</td></tr></tbody></table></div>"
                        ],
                        "text/plain": [
                            "shape: (1, 1)\n",
                            "┌─────────────────────┐\n",
                            "│ 1: Toy Story (1995) │\n",
                            "│ ---                 │\n",
                            "│ f64                 │\n",
                            "╞═════════════════════╡\n",
                            "│ 0.644995            │\n",
                            "└─────────────────────┘"
                        ]
                    },
                    "execution_count": 3,
                    "metadata": {},
                    "output_type": "execute_result"
                }
            ],
            "source": [
                "toy_story_vec = df.select(pl.col(\"1: Toy Story (1995)\"))[:-1]\n",
                "star_wars_vec = df.select(\n",
                "    pl.col(\"1210: Star Wars: Episode VI - Return of the Jedi (1983)\")\n",
                ")[:-1]\n",
                "\n",
                "(toy_story_vec * star_wars_vec).sum() / (\n",
                "    np.linalg.norm(toy_story_vec.to_series().drop_nulls().to_numpy())\n",
                "    * np.linalg.norm(star_wars_vec.to_series().drop_nulls().to_numpy())\n",
                ")\n",
                "\n"
            ]
        },
        {
            "cell_type": "code",
            "execution_count": 4,
            "metadata": {},
            "outputs": [
                {
                    "data": {
                        "text/html": [
                            "<div><style>\n",
                            ".dataframe > thead > tr,\n",
                            ".dataframe > tbody > tr {\n",
                            "  text-align: right;\n",
                            "  white-space: pre-wrap;\n",
                            "}\n",
                            "</style>\n",
                            "<small>shape: (20, 20)</small><table border=\"1\" class=\"dataframe\"><thead><tr><th>1: Toy Story (1995)</th><th>1210: Star Wars: Episode VI - Return of the Jedi (1983)</th><th>356: Forrest Gump (1994)</th><th>318: Shawshank Redemption, The (1994)</th><th>593: Silence of the Lambs, The (1991)</th><th>3578: Gladiator (2000)</th><th>260: Star Wars: Episode IV - A New Hope (1977)</th><th>2028: Saving Private Ryan (1998)</th><th>296: Pulp Fiction (1994)</th><th>1259: Stand by Me (1986)</th><th>2396: Shakespeare in Love (1998)</th><th>2916: Total Recall (1990)</th><th>780: Independence Day (ID4) (1996)</th><th>541: Blade Runner (1982)</th><th>1265: Groundhog Day (1993)</th><th>2571: Matrix, The (1999)</th><th>527: Schindler&#x27;s List (1993)</th><th>2762: Sixth Sense, The (1999)</th><th>1198: Raiders of the Lost Ark (1981)</th><th>34: Babe (1995)</th></tr><tr><td>f64</td><td>f64</td><td>f64</td><td>f64</td><td>f64</td><td>f64</td><td>f64</td><td>f64</td><td>f64</td><td>f64</td><td>f64</td><td>f64</td><td>f64</td><td>f64</td><td>f64</td><td>f64</td><td>f64</td><td>f64</td><td>f64</td><td>f64</td></tr></thead><tbody><tr><td>2.0</td><td>5.0</td><td>2.0</td><td>null</td><td>4.0</td><td>4.0</td><td>1.0</td><td>2.0</td><td>null</td><td>3.0</td><td>2.0</td><td>null</td><td>5.0</td><td>2.0</td><td>5.0</td><td>4.0</td><td>2.0</td><td>5.0</td><td>null</td><td>null</td></tr><tr><td>1.0</td><td>null</td><td>null</td><td>2.0</td><td>4.0</td><td>2.0</td><td>5.0</td><td>null</td><td>null</td><td>4.0</td><td>3.0</td><td>2.0</td><td>2.0</td><td>null</td><td>2.0</td><td>null</td><td>5.0</td><td>1.0</td><td>3.0</td><td>null</td></tr><tr><td>null</td><td>null</td><td>null</td><td>5.0</td><td>2.0</td><td>null</td><td>null</td><td>null</td><td>null</td><td>1.0</td><td>null</td><td>1.0</td><td>4.0</td><td>4.0</td><td>1.0</td><td>1.0</td><td>2.0</td><td>3.0</td><td>1.0</td><td>3.0</td></tr><tr><td>2.0</td><td>3.0</td><td>null</td><td>null</td><td>null</td><td>1.0</td><td>null</td><td>3.0</td><td>4.0</td><td>null</td><td>null</td><td>4.0</td><td>null</td><td>3.0</td><td>5.0</td><td>null</td><td>5.0</td><td>1.0</td><td>1.0</td><td>2.0</td></tr><tr><td>null</td><td>3.0</td><td>4.0</td><td>1.0</td><td>4.0</td><td>1.0</td><td>4.0</td><td>4.0</td><td>null</td><td>1.0</td><td>5.0</td><td>1.0</td><td>null</td><td>4.0</td><td>null</td><td>3.0</td><td>5.0</td><td>5.0</td><td>null</td><td>null</td></tr><tr><td>3.0</td><td>4.0</td><td>4.0</td><td>4.0</td><td>null</td><td>null</td><td>2.0</td><td>1.0</td><td>4.0</td><td>4.0</td><td>5.0</td><td>2.0</td><td>4.0</td><td>null</td><td>1.0</td><td>null</td><td>null</td><td>3.0</td><td>null</td><td>2.0</td></tr><tr><td>null</td><td>null</td><td>3.0</td><td>1.0</td><td>1.0</td><td>4.0</td><td>4.0</td><td>5.0</td><td>2.0</td><td>null</td><td>1.0</td><td>null</td><td>null</td><td>3.0</td><td>null</td><td>1.0</td><td>null</td><td>null</td><td>5.0</td><td>2.0</td></tr><tr><td>2.0</td><td>null</td><td>null</td><td>null</td><td>3.0</td><td>2.0</td><td>4.0</td><td>null</td><td>3.0</td><td>null</td><td>null</td><td>2.0</td><td>1.0</td><td>2.0</td><td>4.0</td><td>null</td><td>1.0</td><td>3.0</td><td>5.0</td><td>null</td></tr><tr><td>4.0</td><td>1.0</td><td>null</td><td>4.0</td><td>2.0</td><td>4.0</td><td>5.0</td><td>4.0</td><td>null</td><td>1.0</td><td>2.0</td><td>null</td><td>1.0</td><td>null</td><td>5.0</td><td>null</td><td>null</td><td>null</td><td>null</td><td>5.0</td></tr><tr><td>4.0</td><td>2.0</td><td>null</td><td>5.0</td><td>3.0</td><td>null</td><td>4.0</td><td>3.0</td><td>4.0</td><td>null</td><td>null</td><td>null</td><td>2.0</td><td>null</td><td>null</td><td>2.0</td><td>5.0</td><td>1.0</td><td>null</td><td>null</td></tr><tr><td>5.0</td><td>1.0</td><td>5.0</td><td>null</td><td>null</td><td>5.0</td><td>2.0</td><td>null</td><td>null</td><td>null</td><td>null</td><td>3.0</td><td>2.0</td><td>null</td><td>null</td><td>1.0</td><td>null</td><td>2.0</td><td>1.0</td><td>4.0</td></tr><tr><td>2.0</td><td>5.0</td><td>2.0</td><td>null</td><td>null</td><td>null</td><td>3.0</td><td>null</td><td>1.0</td><td>null</td><td>3.0</td><td>null</td><td>3.0</td><td>null</td><td>2.0</td><td>5.0</td><td>null</td><td>null</td><td>null</td><td>2.0</td></tr><tr><td>4.0</td><td>null</td><td>null</td><td>5.0</td><td>4.0</td><td>null</td><td>2.0</td><td>5.0</td><td>null</td><td>null</td><td>null</td><td>2.0</td><td>4.0</td><td>null</td><td>3.0</td><td>null</td><td>null</td><td>null</td><td>5.0</td><td>null</td></tr><tr><td>3.0</td><td>null</td><td>3.0</td><td>null</td><td>2.0</td><td>null</td><td>3.0</td><td>null</td><td>null</td><td>4.0</td><td>null</td><td>1.0</td><td>2.0</td><td>2.0</td><td>3.0</td><td>5.0</td><td>1.0</td><td>null</td><td>null</td><td>null</td></tr><tr><td>2.0</td><td>4.0</td><td>null</td><td>null</td><td>5.0</td><td>5.0</td><td>4.0</td><td>null</td><td>3.0</td><td>5.0</td><td>null</td><td>1.0</td><td>3.0</td><td>null</td><td>2.0</td><td>null</td><td>3.0</td><td>null</td><td>3.0</td><td>1.0</td></tr><tr><td>null</td><td>null</td><td>1.0</td><td>null</td><td>3.0</td><td>2.0</td><td>null</td><td>2.0</td><td>null</td><td>1.0</td><td>5.0</td><td>null</td><td>2.0</td><td>null</td><td>null</td><td>2.0</td><td>2.0</td><td>4.0</td><td>3.0</td><td>4.0</td></tr><tr><td>2.0</td><td>null</td><td>null</td><td>null</td><td>null</td><td>null</td><td>null</td><td>null</td><td>2.0</td><td>null</td><td>2.0</td><td>null</td><td>3.0</td><td>null</td><td>3.0</td><td>4.0</td><td>null</td><td>null</td><td>null</td><td>null</td></tr><tr><td>4.0</td><td>5.0</td><td>1.0</td><td>5.0</td><td>1.0</td><td>1.0</td><td>4.0</td><td>null</td><td>5.0</td><td>null</td><td>null</td><td>null</td><td>null</td><td>4.0</td><td>null</td><td>null</td><td>2.0</td><td>1.0</td><td>2.0</td><td>5.0</td></tr><tr><td>2.0</td><td>1.0</td><td>3.0</td><td>null</td><td>null</td><td>4.0</td><td>5.0</td><td>1.0</td><td>3.0</td><td>3.0</td><td>3.0</td><td>1.0</td><td>null</td><td>null</td><td>null</td><td>2.0</td><td>null</td><td>null</td><td>null</td><td>null</td></tr><tr><td>2.0</td><td>2.0</td><td>2.0</td><td>4.0</td><td>5.0</td><td>null</td><td>1.0</td><td>3.0</td><td>2.0</td><td>2.0</td><td>1.0</td><td>null</td><td>4.0</td><td>5.0</td><td>5.0</td><td>4.0</td><td>3.0</td><td>5.0</td><td>3.0</td><td>null</td></tr></tbody></table></div>"
                        ],
                        "text/plain": [
                            "shape: (20, 20)\n",
                            "┌───────────┬───────────┬───────────┬───────────┬───┬───────────┬───────────┬───────────┬──────────┐\n",
                            "│ 1: Toy    ┆ 1210:     ┆ 356:      ┆ 318:      ┆ … ┆ 527: Schi ┆ 2762:     ┆ 1198:     ┆ 34: Babe │\n",
                            "│ Story     ┆ Star      ┆ Forrest   ┆ Shawshank ┆   ┆ ndler's   ┆ Sixth     ┆ Raiders   ┆ (1995)   │\n",
                            "│ (1995)    ┆ Wars:     ┆ Gump      ┆ Redemptio ┆   ┆ List      ┆ Sense,    ┆ of the    ┆ ---      │\n",
                            "│ ---       ┆ Episode   ┆ (1994)    ┆ n, The (… ┆   ┆ (1993)    ┆ The       ┆ Lost Ark  ┆ f64      │\n",
                            "│ f64       ┆ VI - Re…  ┆ ---       ┆ ---       ┆   ┆ ---       ┆ (1999)    ┆ (1…       ┆          │\n",
                            "│           ┆ ---       ┆ f64       ┆ f64       ┆   ┆ f64       ┆ ---       ┆ ---       ┆          │\n",
                            "│           ┆ f64       ┆           ┆           ┆   ┆           ┆ f64       ┆ f64       ┆          │\n",
                            "╞═══════════╪═══════════╪═══════════╪═══════════╪═══╪═══════════╪═══════════╪═══════════╪══════════╡\n",
                            "│ 2.0       ┆ 5.0       ┆ 2.0       ┆ null      ┆ … ┆ 2.0       ┆ 5.0       ┆ null      ┆ null     │\n",
                            "│ 1.0       ┆ null      ┆ null      ┆ 2.0       ┆ … ┆ 5.0       ┆ 1.0       ┆ 3.0       ┆ null     │\n",
                            "│ null      ┆ null      ┆ null      ┆ 5.0       ┆ … ┆ 2.0       ┆ 3.0       ┆ 1.0       ┆ 3.0      │\n",
                            "│ 2.0       ┆ 3.0       ┆ null      ┆ null      ┆ … ┆ 5.0       ┆ 1.0       ┆ 1.0       ┆ 2.0      │\n",
                            "│ null      ┆ 3.0       ┆ 4.0       ┆ 1.0       ┆ … ┆ 5.0       ┆ 5.0       ┆ null      ┆ null     │\n",
                            "│ …         ┆ …         ┆ …         ┆ …         ┆ … ┆ …         ┆ …         ┆ …         ┆ …        │\n",
                            "│ null      ┆ null      ┆ 1.0       ┆ null      ┆ … ┆ 2.0       ┆ 4.0       ┆ 3.0       ┆ 4.0      │\n",
                            "│ 2.0       ┆ null      ┆ null      ┆ null      ┆ … ┆ null      ┆ null      ┆ null      ┆ null     │\n",
                            "│ 4.0       ┆ 5.0       ┆ 1.0       ┆ 5.0       ┆ … ┆ 2.0       ┆ 1.0       ┆ 2.0       ┆ 5.0      │\n",
                            "│ 2.0       ┆ 1.0       ┆ 3.0       ┆ null      ┆ … ┆ null      ┆ null      ┆ null      ┆ null     │\n",
                            "│ 2.0       ┆ 2.0       ┆ 2.0       ┆ 4.0       ┆ … ┆ 3.0       ┆ 5.0       ┆ 3.0       ┆ null     │\n",
                            "└───────────┴───────────┴───────────┴───────────┴───┴───────────┴───────────┴───────────┴──────────┘"
                        ]
                    },
                    "metadata": {},
                    "output_type": "display_data"
                }
            ],
            "source": [
                "movie_ratings_df = df.drop([\"User\", \"Mean\"])[:-1]\n",
                "display(movie_ratings_df)"
            ]
        },
        {
            "cell_type": "code",
            "execution_count": 5,
            "metadata": {},
            "outputs": [
                {
                    "data": {
                        "text/plain": [
                            "['1: Toy Story (1995)',\n",
                            " '1210: Star Wars: Episode VI - Return of the Jedi (1983)',\n",
                            " '356: Forrest Gump (1994)',\n",
                            " '318: Shawshank Redemption, The (1994)',\n",
                            " '593: Silence of the Lambs, The (1991)',\n",
                            " '3578: Gladiator (2000)',\n",
                            " '260: Star Wars: Episode IV - A New Hope (1977)',\n",
                            " '2028: Saving Private Ryan (1998)',\n",
                            " '296: Pulp Fiction (1994)',\n",
                            " '1259: Stand by Me (1986)',\n",
                            " '2396: Shakespeare in Love (1998)',\n",
                            " '2916: Total Recall (1990)',\n",
                            " '780: Independence Day (ID4) (1996)',\n",
                            " '541: Blade Runner (1982)',\n",
                            " '1265: Groundhog Day (1993)',\n",
                            " '2571: Matrix, The (1999)',\n",
                            " \"527: Schindler's List (1993)\",\n",
                            " '2762: Sixth Sense, The (1999)',\n",
                            " '1198: Raiders of the Lost Ark (1981)',\n",
                            " '34: Babe (1995)']"
                        ]
                    },
                    "execution_count": 5,
                    "metadata": {},
                    "output_type": "execute_result"
                }
            ],
            "source": [
                "movie_ratings_df.columns"
            ]
        },
        {
            "cell_type": "markdown",
            "metadata": {},
            "source": [
                "### Similarity based on unnormalized ratings "
            ]
        },
        {
            "cell_type": "code",
            "execution_count": 6,
            "metadata": {},
            "outputs": [],
            "source": [
                "similarity_matrix = np.zeros((len(movie_ratings_df), len(movie_ratings_df)))\n",
                "\n",
                "\n",
                "def l2_norm(s: pl.DataFrame) -> float:\n",
                "    return np.linalg.norm(s.to_series().drop_nulls().to_numpy())\n",
                "\n",
                "\n",
                "for i, ci in enumerate(movie_ratings_df.columns):\n",
                "    for j, cj in enumerate(movie_ratings_df.columns):\n",
                "        left = movie_ratings_df.select(pl.col(ci))\n",
                "        right = movie_ratings_df.select(pl.col(cj))\n",
                "\n",
                "        similarity_matrix[i, j] = (left.to_series() * right.to_series()).sum() / (\n",
                "            l2_norm(left) * l2_norm(right)\n",
                "        )\n",
                "\n",
                "similarity_matrix_df = pl.DataFrame(similarity_matrix, schema=movie_ratings_df.columns)"
            ]
        },
        {
            "cell_type": "code",
            "execution_count": 7,
            "metadata": {},
            "outputs": [
                {
                    "data": {
                        "text/html": [
                            "<div><style>\n",
                            ".dataframe > thead > tr,\n",
                            ".dataframe > tbody > tr {\n",
                            "  text-align: right;\n",
                            "  white-space: pre-wrap;\n",
                            "}\n",
                            "</style>\n",
                            "<small>shape: (20, 20)</small><table border=\"1\" class=\"dataframe\"><thead><tr><th>1: Toy Story (1995)</th><th>1210: Star Wars: Episode VI - Return of the Jedi (1983)</th><th>356: Forrest Gump (1994)</th><th>318: Shawshank Redemption, The (1994)</th><th>593: Silence of the Lambs, The (1991)</th><th>3578: Gladiator (2000)</th><th>260: Star Wars: Episode IV - A New Hope (1977)</th><th>2028: Saving Private Ryan (1998)</th><th>296: Pulp Fiction (1994)</th><th>1259: Stand by Me (1986)</th><th>2396: Shakespeare in Love (1998)</th><th>2916: Total Recall (1990)</th><th>780: Independence Day (ID4) (1996)</th><th>541: Blade Runner (1982)</th><th>1265: Groundhog Day (1993)</th><th>2571: Matrix, The (1999)</th><th>527: Schindler&#x27;s List (1993)</th><th>2762: Sixth Sense, The (1999)</th><th>1198: Raiders of the Lost Ark (1981)</th><th>34: Babe (1995)</th></tr><tr><td>f64</td><td>f64</td><td>f64</td><td>f64</td><td>f64</td><td>f64</td><td>f64</td><td>f64</td><td>f64</td><td>f64</td><td>f64</td><td>f64</td><td>f64</td><td>f64</td><td>f64</td><td>f64</td><td>f64</td><td>f64</td><td>f64</td><td>f64</td></tr></thead><tbody><tr><td>1.0</td><td>0.644995</td><td>0.58054</td><td>0.667424</td><td>0.570229</td><td>0.587852</td><td>0.747409</td><td>0.534579</td><td>0.667846</td><td>0.492659</td><td>0.376659</td><td>0.623056</td><td>0.690665</td><td>0.383067</td><td>0.661016</td><td>0.50501</td><td>0.463817</td><td>0.421637</td><td>0.466817</td><td>0.61807</td></tr><tr><td>0.644995</td><td>1.0</td><td>0.563029</td><td>0.456052</td><td>0.516566</td><td>0.483187</td><td>0.589805</td><td>0.408752</td><td>0.685662</td><td>0.534324</td><td>0.533429</td><td>0.391934</td><td>0.605856</td><td>0.515397</td><td>0.526952</td><td>0.535673</td><td>0.573529</td><td>0.565297</td><td>0.252604</td><td>0.511576</td></tr><tr><td>0.58054</td><td>0.563029</td><td>1.0</td><td>0.293041</td><td>0.381346</td><td>0.569209</td><td>0.59555</td><td>0.463003</td><td>0.399114</td><td>0.527926</td><td>0.647153</td><td>0.491498</td><td>0.498741</td><td>0.487713</td><td>0.29829</td><td>0.631039</td><td>0.320494</td><td>0.602943</td><td>0.288275</td><td>0.456849</td></tr><tr><td>0.667424</td><td>0.456052</td><td>0.293041</td><td>1.0</td><td>0.589</td><td>0.212846</td><td>0.565577</td><td>0.598344</td><td>0.538219</td><td>0.340151</td><td>0.329203</td><td>0.332674</td><td>0.617366</td><td>0.531981</td><td>0.437319</td><td>0.255345</td><td>0.497511</td><td>0.459446</td><td>0.467347</td><td>0.542782</td></tr><tr><td>0.570229</td><td>0.516566</td><td>0.381346</td><td>0.589</td><td>1.0</td><td>0.551612</td><td>0.682137</td><td>0.64059</td><td>0.400471</td><td>0.661958</td><td>0.484751</td><td>0.414499</td><td>0.738445</td><td>0.585662</td><td>0.673091</td><td>0.530856</td><td>0.75763</td><td>0.715565</td><td>0.702452</td><td>0.309159</td></tr><tr><td>0.587852</td><td>0.483187</td><td>0.569209</td><td>0.212846</td><td>0.551612</td><td>1.0</td><td>0.716828</td><td>0.476194</td><td>0.414129</td><td>0.566327</td><td>0.433263</td><td>0.480317</td><td>0.442199</td><td>0.303637</td><td>0.470793</td><td>0.318849</td><td>0.38504</td><td>0.415715</td><td>0.526838</td><td>0.576106</td></tr><tr><td>0.747409</td><td>0.589805</td><td>0.59555</td><td>0.565577</td><td>0.682137</td><td>0.716828</td><td>1.0</td><td>0.579057</td><td>0.633846</td><td>0.627804</td><td>0.56043</td><td>0.496723</td><td>0.495896</td><td>0.449518</td><td>0.515335</td><td>0.470223</td><td>0.583787</td><td>0.406425</td><td>0.581505</td><td>0.506526</td></tr><tr><td>0.534579</td><td>0.408752</td><td>0.463003</td><td>0.598344</td><td>0.64059</td><td>0.476194</td><td>0.579057</td><td>1.0</td><td>0.405308</td><td>0.267182</td><td>0.493657</td><td>0.391963</td><td>0.468207</td><td>0.532917</td><td>0.55602</td><td>0.406671</td><td>0.526662</td><td>0.506329</td><td>0.573845</td><td>0.405763</td></tr><tr><td>0.667846</td><td>0.685662</td><td>0.399114</td><td>0.538219</td><td>0.400471</td><td>0.414129</td><td>0.633846</td><td>0.405308</td><td>1.0</td><td>0.416002</td><td>0.349375</td><td>0.499326</td><td>0.424421</td><td>0.500537</td><td>0.450466</td><td>0.315125</td><td>0.54853</td><td>0.368747</td><td>0.467642</td><td>0.452605</td></tr><tr><td>0.492659</td><td>0.534324</td><td>0.527926</td><td>0.340151</td><td>0.661958</td><td>0.566327</td><td>0.627804</td><td>0.267182</td><td>0.416002</td><td>1.0</td><td>0.569224</td><td>0.444554</td><td>0.65877</td><td>0.316894</td><td>0.52137</td><td>0.473158</td><td>0.517088</td><td>0.47454</td><td>0.342329</td><td>0.241775</td></tr><tr><td>0.376659</td><td>0.533429</td><td>0.647153</td><td>0.329203</td><td>0.484751</td><td>0.433263</td><td>0.56043</td><td>0.493657</td><td>0.349375</td><td>0.569224</td><td>1.0</td><td>0.328551</td><td>0.529549</td><td>0.292754</td><td>0.355682</td><td>0.563204</td><td>0.453812</td><td>0.645179</td><td>0.273514</td><td>0.428845</td></tr><tr><td>0.623056</td><td>0.391934</td><td>0.491498</td><td>0.332674</td><td>0.414499</td><td>0.480317</td><td>0.496723</td><td>0.391963</td><td>0.499326</td><td>0.444554</td><td>0.328551</td><td>1.0</td><td>0.46439</td><td>0.377725</td><td>0.541289</td><td>0.186883</td><td>0.543651</td><td>0.420326</td><td>0.502206</td><td>0.397253</td></tr><tr><td>0.690665</td><td>0.605856</td><td>0.498741</td><td>0.617366</td><td>0.738445</td><td>0.442199</td><td>0.495896</td><td>0.468207</td><td>0.424421</td><td>0.65877</td><td>0.529549</td><td>0.46439</td><td>1.0</td><td>0.436159</td><td>0.713346</td><td>0.670502</td><td>0.481765</td><td>0.667356</td><td>0.501533</td><td>0.409561</td></tr><tr><td>0.383067</td><td>0.515397</td><td>0.487713</td><td>0.531981</td><td>0.585662</td><td>0.303637</td><td>0.449518</td><td>0.532917</td><td>0.500537</td><td>0.316894</td><td>0.292754</td><td>0.377725</td><td>0.436159</td><td>1.0</td><td>0.534737</td><td>0.508483</td><td>0.625236</td><td>0.702241</td><td>0.498888</td><td>0.417179</td></tr><tr><td>0.661016</td><td>0.526952</td><td>0.29829</td><td>0.437319</td><td>0.673091</td><td>0.470793</td><td>0.515335</td><td>0.55602</td><td>0.450466</td><td>0.52137</td><td>0.355682</td><td>0.541289</td><td>0.713346</td><td>0.534737</td><td>1.0</td><td>0.563592</td><td>0.513265</td><td>0.533244</td><td>0.499595</td><td>0.353261</td></tr><tr><td>0.50501</td><td>0.535673</td><td>0.631039</td><td>0.255345</td><td>0.530856</td><td>0.318849</td><td>0.470223</td><td>0.406671</td><td>0.315125</td><td>0.473158</td><td>0.563204</td><td>0.186883</td><td>0.670502</td><td>0.508483</td><td>0.563592</td><td>1.0</td><td>0.434749</td><td>0.56459</td><td>0.208362</td><td>0.235219</td></tr><tr><td>0.463817</td><td>0.573529</td><td>0.320494</td><td>0.497511</td><td>0.75763</td><td>0.38504</td><td>0.583787</td><td>0.526662</td><td>0.54853</td><td>0.517088</td><td>0.453812</td><td>0.543651</td><td>0.481765</td><td>0.625236</td><td>0.513265</td><td>0.434749</td><td>1.0</td><td>0.641689</td><td>0.434162</td><td>0.305295</td></tr><tr><td>0.421637</td><td>0.565297</td><td>0.602943</td><td>0.459446</td><td>0.715565</td><td>0.415715</td><td>0.406425</td><td>0.506329</td><td>0.368747</td><td>0.47454</td><td>0.645179</td><td>0.420326</td><td>0.667356</td><td>0.702241</td><td>0.533244</td><td>0.56459</td><td>0.641689</td><td>1.0</td><td>0.43466</td><td>0.394331</td></tr><tr><td>0.466817</td><td>0.252604</td><td>0.288275</td><td>0.467347</td><td>0.702452</td><td>0.526838</td><td>0.581505</td><td>0.573845</td><td>0.467642</td><td>0.342329</td><td>0.273514</td><td>0.502206</td><td>0.501533</td><td>0.498888</td><td>0.499595</td><td>0.208362</td><td>0.434162</td><td>0.43466</td><td>1.0</td><td>0.389762</td></tr><tr><td>0.61807</td><td>0.511576</td><td>0.456849</td><td>0.542782</td><td>0.309159</td><td>0.576106</td><td>0.506526</td><td>0.405763</td><td>0.452605</td><td>0.241775</td><td>0.428845</td><td>0.397253</td><td>0.409561</td><td>0.417179</td><td>0.353261</td><td>0.235219</td><td>0.305295</td><td>0.394331</td><td>0.389762</td><td>1.0</td></tr></tbody></table></div>"
                        ],
                        "text/plain": [
                            "shape: (20, 20)\n",
                            "┌───────────┬───────────┬───────────┬───────────┬───┬───────────┬───────────┬───────────┬──────────┐\n",
                            "│ 1: Toy    ┆ 1210:     ┆ 356:      ┆ 318:      ┆ … ┆ 527: Schi ┆ 2762:     ┆ 1198:     ┆ 34: Babe │\n",
                            "│ Story     ┆ Star      ┆ Forrest   ┆ Shawshank ┆   ┆ ndler's   ┆ Sixth     ┆ Raiders   ┆ (1995)   │\n",
                            "│ (1995)    ┆ Wars:     ┆ Gump      ┆ Redemptio ┆   ┆ List      ┆ Sense,    ┆ of the    ┆ ---      │\n",
                            "│ ---       ┆ Episode   ┆ (1994)    ┆ n, The (… ┆   ┆ (1993)    ┆ The       ┆ Lost Ark  ┆ f64      │\n",
                            "│ f64       ┆ VI - Re…  ┆ ---       ┆ ---       ┆   ┆ ---       ┆ (1999)    ┆ (1…       ┆          │\n",
                            "│           ┆ ---       ┆ f64       ┆ f64       ┆   ┆ f64       ┆ ---       ┆ ---       ┆          │\n",
                            "│           ┆ f64       ┆           ┆           ┆   ┆           ┆ f64       ┆ f64       ┆          │\n",
                            "╞═══════════╪═══════════╪═══════════╪═══════════╪═══╪═══════════╪═══════════╪═══════════╪══════════╡\n",
                            "│ 1.0       ┆ 0.644995  ┆ 0.58054   ┆ 0.667424  ┆ … ┆ 0.463817  ┆ 0.421637  ┆ 0.466817  ┆ 0.61807  │\n",
                            "│ 0.644995  ┆ 1.0       ┆ 0.563029  ┆ 0.456052  ┆ … ┆ 0.573529  ┆ 0.565297  ┆ 0.252604  ┆ 0.511576 │\n",
                            "│ 0.58054   ┆ 0.563029  ┆ 1.0       ┆ 0.293041  ┆ … ┆ 0.320494  ┆ 0.602943  ┆ 0.288275  ┆ 0.456849 │\n",
                            "│ 0.667424  ┆ 0.456052  ┆ 0.293041  ┆ 1.0       ┆ … ┆ 0.497511  ┆ 0.459446  ┆ 0.467347  ┆ 0.542782 │\n",
                            "│ 0.570229  ┆ 0.516566  ┆ 0.381346  ┆ 0.589     ┆ … ┆ 0.75763   ┆ 0.715565  ┆ 0.702452  ┆ 0.309159 │\n",
                            "│ …         ┆ …         ┆ …         ┆ …         ┆ … ┆ …         ┆ …         ┆ …         ┆ …        │\n",
                            "│ 0.50501   ┆ 0.535673  ┆ 0.631039  ┆ 0.255345  ┆ … ┆ 0.434749  ┆ 0.56459   ┆ 0.208362  ┆ 0.235219 │\n",
                            "│ 0.463817  ┆ 0.573529  ┆ 0.320494  ┆ 0.497511  ┆ … ┆ 1.0       ┆ 0.641689  ┆ 0.434162  ┆ 0.305295 │\n",
                            "│ 0.421637  ┆ 0.565297  ┆ 0.602943  ┆ 0.459446  ┆ … ┆ 0.641689  ┆ 1.0       ┆ 0.43466   ┆ 0.394331 │\n",
                            "│ 0.466817  ┆ 0.252604  ┆ 0.288275  ┆ 0.467347  ┆ … ┆ 0.434162  ┆ 0.43466   ┆ 1.0       ┆ 0.389762 │\n",
                            "│ 0.61807   ┆ 0.511576  ┆ 0.456849  ┆ 0.542782  ┆ … ┆ 0.305295  ┆ 0.394331  ┆ 0.389762  ┆ 1.0      │\n",
                            "└───────────┴───────────┴───────────┴───────────┴───┴───────────┴───────────┴───────────┴──────────┘"
                        ]
                    },
                    "metadata": {},
                    "output_type": "display_data"
                }
            ],
            "source": [
                "display(similarity_matrix_df)"
            ]
        },
        {
            "cell_type": "code",
            "execution_count": 8,
            "metadata": {},
            "outputs": [],
            "source": [
                "similarity_matrix_df = pl.concat(\n",
                "    [pl.DataFrame({\"Movies\": similarity_matrix_df.columns}), similarity_matrix_df],\n",
                "    how=\"horizontal\",\n",
                ")"
            ]
        },
        {
            "cell_type": "markdown",
            "metadata": {},
            "source": [
                "**Top 5 movies most similar to Toy Story**"
            ]
        },
        {
            "cell_type": "code",
            "execution_count": 9,
            "metadata": {},
            "outputs": [
                {
                    "data": {
                        "text/html": [
                            "<div><style>\n",
                            ".dataframe > thead > tr,\n",
                            ".dataframe > tbody > tr {\n",
                            "  text-align: right;\n",
                            "  white-space: pre-wrap;\n",
                            "}\n",
                            "</style>\n",
                            "<small>shape: (6, 2)</small><table border=\"1\" class=\"dataframe\"><thead><tr><th>Movies</th><th>1: Toy Story (1995)</th></tr><tr><td>str</td><td>f64</td></tr></thead><tbody><tr><td>&quot;1: Toy Story (…</td><td>1.0</td></tr><tr><td>&quot;260: Star Wars…</td><td>0.747409</td></tr><tr><td>&quot;780: Independe…</td><td>0.690665</td></tr><tr><td>&quot;296: Pulp Fict…</td><td>0.667846</td></tr><tr><td>&quot;318: Shawshank…</td><td>0.667424</td></tr><tr><td>&quot;1265: Groundho…</td><td>0.661016</td></tr></tbody></table></div>"
                        ],
                        "text/plain": [
                            "shape: (6, 2)\n",
                            "┌───────────────────────────────────┬─────────────────────┐\n",
                            "│ Movies                            ┆ 1: Toy Story (1995) │\n",
                            "│ ---                               ┆ ---                 │\n",
                            "│ str                               ┆ f64                 │\n",
                            "╞═══════════════════════════════════╪═════════════════════╡\n",
                            "│ 1: Toy Story (1995)               ┆ 1.0                 │\n",
                            "│ 260: Star Wars: Episode IV - A N… ┆ 0.747409            │\n",
                            "│ 780: Independence Day (ID4) (199… ┆ 0.690665            │\n",
                            "│ 296: Pulp Fiction (1994)          ┆ 0.667846            │\n",
                            "│ 318: Shawshank Redemption, The (… ┆ 0.667424            │\n",
                            "│ 1265: Groundhog Day (1993)        ┆ 0.661016            │\n",
                            "└───────────────────────────────────┴─────────────────────┘"
                        ]
                    },
                    "execution_count": 9,
                    "metadata": {},
                    "output_type": "execute_result"
                }
            ],
            "source": [
                "similarity_matrix_df.select(pl.col(\"Movies\"), pl.col(\"1: Toy Story (1995)\")).sort(\n",
                "    by=\"1: Toy Story (1995)\", descending=True\n",
                ").head(6)"
            ]
        },
        {
            "cell_type": "markdown",
            "metadata": {},
            "source": [
                "**Top 5 for User 5277**"
            ]
        },
        {
            "cell_type": "code",
            "execution_count": 10,
            "metadata": {},
            "outputs": [
                {
                    "data": {
                        "text/html": [
                            "<div><style>\n",
                            ".dataframe > thead > tr,\n",
                            ".dataframe > tbody > tr {\n",
                            "  text-align: right;\n",
                            "  white-space: pre-wrap;\n",
                            "}\n",
                            "</style>\n",
                            "<small>shape: (1, 20)</small><table border=\"1\" class=\"dataframe\"><thead><tr><th>1: Toy Story (1995)</th><th>1210: Star Wars: Episode VI - Return of the Jedi (1983)</th><th>356: Forrest Gump (1994)</th><th>318: Shawshank Redemption, The (1994)</th><th>593: Silence of the Lambs, The (1991)</th><th>3578: Gladiator (2000)</th><th>260: Star Wars: Episode IV - A New Hope (1977)</th><th>2028: Saving Private Ryan (1998)</th><th>296: Pulp Fiction (1994)</th><th>1259: Stand by Me (1986)</th><th>2396: Shakespeare in Love (1998)</th><th>2916: Total Recall (1990)</th><th>780: Independence Day (ID4) (1996)</th><th>541: Blade Runner (1982)</th><th>1265: Groundhog Day (1993)</th><th>2571: Matrix, The (1999)</th><th>527: Schindler&#x27;s List (1993)</th><th>2762: Sixth Sense, The (1999)</th><th>1198: Raiders of the Lost Ark (1981)</th><th>34: Babe (1995)</th></tr><tr><td>f64</td><td>f64</td><td>f64</td><td>f64</td><td>f64</td><td>f64</td><td>f64</td><td>f64</td><td>f64</td><td>f64</td><td>f64</td><td>f64</td><td>f64</td><td>f64</td><td>f64</td><td>f64</td><td>f64</td><td>f64</td><td>f64</td><td>f64</td></tr></thead><tbody><tr><td>1.0</td><td>null</td><td>null</td><td>2.0</td><td>4.0</td><td>2.0</td><td>5.0</td><td>null</td><td>null</td><td>4.0</td><td>3.0</td><td>2.0</td><td>2.0</td><td>null</td><td>2.0</td><td>null</td><td>5.0</td><td>1.0</td><td>3.0</td><td>null</td></tr></tbody></table></div>"
                        ],
                        "text/plain": [
                            "shape: (1, 20)\n",
                            "┌───────────┬───────────┬───────────┬───────────┬───┬───────────┬───────────┬───────────┬──────────┐\n",
                            "│ 1: Toy    ┆ 1210:     ┆ 356:      ┆ 318:      ┆ … ┆ 527: Schi ┆ 2762:     ┆ 1198:     ┆ 34: Babe │\n",
                            "│ Story     ┆ Star      ┆ Forrest   ┆ Shawshank ┆   ┆ ndler's   ┆ Sixth     ┆ Raiders   ┆ (1995)   │\n",
                            "│ (1995)    ┆ Wars:     ┆ Gump      ┆ Redemptio ┆   ┆ List      ┆ Sense,    ┆ of the    ┆ ---      │\n",
                            "│ ---       ┆ Episode   ┆ (1994)    ┆ n, The (… ┆   ┆ (1993)    ┆ The       ┆ Lost Ark  ┆ f64      │\n",
                            "│ f64       ┆ VI - Re…  ┆ ---       ┆ ---       ┆   ┆ ---       ┆ (1999)    ┆ (1…       ┆          │\n",
                            "│           ┆ ---       ┆ f64       ┆ f64       ┆   ┆ f64       ┆ ---       ┆ ---       ┆          │\n",
                            "│           ┆ f64       ┆           ┆           ┆   ┆           ┆ f64       ┆ f64       ┆          │\n",
                            "╞═══════════╪═══════════╪═══════════╪═══════════╪═══╪═══════════╪═══════════╪═══════════╪══════════╡\n",
                            "│ 1.0       ┆ null      ┆ null      ┆ 2.0       ┆ … ┆ 5.0       ┆ 1.0       ┆ 3.0       ┆ null     │\n",
                            "└───────────┴───────────┴───────────┴───────────┴───┴───────────┴───────────┴───────────┴──────────┘"
                        ]
                    },
                    "metadata": {},
                    "output_type": "display_data"
                }
            ],
            "source": [
                "user_rating_df = (\n",
                "    df.drop(\"Mean\")[0:-1]\n",
                "    .filter(pl.col(\"User\") == \"5277\")\n",
                "    .drop(\"User\")\n",
                ")\n",
                "\n",
                "display(user_rating_df)"
            ]
        },
        {
            "cell_type": "code",
            "execution_count": 11,
            "metadata": {},
            "outputs": [
                {
                    "data": {
                        "text/html": [
                            "<div><style>\n",
                            ".dataframe > thead > tr,\n",
                            ".dataframe > tbody > tr {\n",
                            "  text-align: right;\n",
                            "  white-space: pre-wrap;\n",
                            "}\n",
                            "</style>\n",
                            "<small>shape: (20, 2)</small><table border=\"1\" class=\"dataframe\"><thead><tr><th>Movies</th><th>Rating</th></tr><tr><td>str</td><td>f32</td></tr></thead><tbody><tr><td>&quot;1: Toy Story (…</td><td>1.0</td></tr><tr><td>&quot;1210: Star War…</td><td>null</td></tr><tr><td>&quot;356: Forrest G…</td><td>null</td></tr><tr><td>&quot;318: Shawshank…</td><td>2.0</td></tr><tr><td>&quot;593: Silence o…</td><td>4.0</td></tr><tr><td>&quot;3578: Gladiato…</td><td>2.0</td></tr><tr><td>&quot;260: Star Wars…</td><td>5.0</td></tr><tr><td>&quot;2028: Saving P…</td><td>null</td></tr><tr><td>&quot;296: Pulp Fict…</td><td>null</td></tr><tr><td>&quot;1259: Stand by…</td><td>4.0</td></tr><tr><td>&quot;2396: Shakespe…</td><td>3.0</td></tr><tr><td>&quot;2916: Total Re…</td><td>2.0</td></tr><tr><td>&quot;780: Independe…</td><td>2.0</td></tr><tr><td>&quot;541: Blade Run…</td><td>null</td></tr><tr><td>&quot;1265: Groundho…</td><td>2.0</td></tr><tr><td>&quot;2571: Matrix, …</td><td>null</td></tr><tr><td>&quot;527: Schindler…</td><td>5.0</td></tr><tr><td>&quot;2762: Sixth Se…</td><td>1.0</td></tr><tr><td>&quot;1198: Raiders …</td><td>3.0</td></tr><tr><td>&quot;34: Babe (1995…</td><td>null</td></tr></tbody></table></div>"
                        ],
                        "text/plain": [
                            "shape: (20, 2)\n",
                            "┌───────────────────────────────────┬────────┐\n",
                            "│ Movies                            ┆ Rating │\n",
                            "│ ---                               ┆ ---    │\n",
                            "│ str                               ┆ f32    │\n",
                            "╞═══════════════════════════════════╪════════╡\n",
                            "│ 1: Toy Story (1995)               ┆ 1.0    │\n",
                            "│ 1210: Star Wars: Episode VI - Re… ┆ null   │\n",
                            "│ 356: Forrest Gump (1994)          ┆ null   │\n",
                            "│ 318: Shawshank Redemption, The (… ┆ 2.0    │\n",
                            "│ 593: Silence of the Lambs, The (… ┆ 4.0    │\n",
                            "│ …                                 ┆ …      │\n",
                            "│ 2571: Matrix, The (1999)          ┆ null   │\n",
                            "│ 527: Schindler's List (1993)      ┆ 5.0    │\n",
                            "│ 2762: Sixth Sense, The (1999)     ┆ 1.0    │\n",
                            "│ 1198: Raiders of the Lost Ark (1… ┆ 3.0    │\n",
                            "│ 34: Babe (1995)                   ┆ null   │\n",
                            "└───────────────────────────────────┴────────┘"
                        ]
                    },
                    "metadata": {},
                    "output_type": "display_data"
                }
            ],
            "source": [
                "user_rating_df = (\n",
                "    df.drop(\"Mean\")[0:-1]\n",
                "    .filter(pl.col(\"User\") == \"5277\")\n",
                "    .transpose(include_header=False, column_names=[\"Rating\"])[1:]\n",
                "    .cast(pl.Float32)\n",
                ")\n",
                "user_rating_df = pl.concat(\n",
                "    [pl.DataFrame({\"Movies\": movie_ratings_df.columns}), user_rating_df],\n",
                "    how=\"horizontal\",\n",
                ")\n",
                "display(user_rating_df)"
            ]
        },
        {
            "cell_type": "code",
            "execution_count": 12,
            "metadata": {},
            "outputs": [
                {
                    "data": {
                        "text/html": [
                            "<div><style>\n",
                            ".dataframe > thead > tr,\n",
                            ".dataframe > tbody > tr {\n",
                            "  text-align: right;\n",
                            "  white-space: pre-wrap;\n",
                            "}\n",
                            "</style>\n",
                            "<small>shape: (19, 2)</small><table border=\"1\" class=\"dataframe\"><thead><tr><th>Movies</th><th>1: Toy Story (1995)</th></tr><tr><td>str</td><td>f64</td></tr></thead><tbody><tr><td>&quot;260: Star Wars…</td><td>0.747409</td></tr><tr><td>&quot;780: Independe…</td><td>0.690665</td></tr><tr><td>&quot;296: Pulp Fict…</td><td>0.667846</td></tr><tr><td>&quot;318: Shawshank…</td><td>0.667424</td></tr><tr><td>&quot;1265: Groundho…</td><td>0.661016</td></tr><tr><td>&quot;1210: Star War…</td><td>0.644995</td></tr><tr><td>&quot;2916: Total Re…</td><td>0.623056</td></tr><tr><td>&quot;34: Babe (1995…</td><td>0.61807</td></tr><tr><td>&quot;3578: Gladiato…</td><td>0.587852</td></tr><tr><td>&quot;356: Forrest G…</td><td>0.58054</td></tr><tr><td>&quot;593: Silence o…</td><td>0.570229</td></tr><tr><td>&quot;2028: Saving P…</td><td>0.534579</td></tr><tr><td>&quot;2571: Matrix, …</td><td>0.50501</td></tr><tr><td>&quot;1259: Stand by…</td><td>0.492659</td></tr><tr><td>&quot;1198: Raiders …</td><td>0.466817</td></tr><tr><td>&quot;527: Schindler…</td><td>0.463817</td></tr><tr><td>&quot;2762: Sixth Se…</td><td>0.421637</td></tr><tr><td>&quot;541: Blade Run…</td><td>0.383067</td></tr><tr><td>&quot;2396: Shakespe…</td><td>0.376659</td></tr></tbody></table></div>"
                        ],
                        "text/plain": [
                            "shape: (19, 2)\n",
                            "┌───────────────────────────────────┬─────────────────────┐\n",
                            "│ Movies                            ┆ 1: Toy Story (1995) │\n",
                            "│ ---                               ┆ ---                 │\n",
                            "│ str                               ┆ f64                 │\n",
                            "╞═══════════════════════════════════╪═════════════════════╡\n",
                            "│ 260: Star Wars: Episode IV - A N… ┆ 0.747409            │\n",
                            "│ 780: Independence Day (ID4) (199… ┆ 0.690665            │\n",
                            "│ 296: Pulp Fiction (1994)          ┆ 0.667846            │\n",
                            "│ 318: Shawshank Redemption, The (… ┆ 0.667424            │\n",
                            "│ 1265: Groundhog Day (1993)        ┆ 0.661016            │\n",
                            "│ …                                 ┆ …                   │\n",
                            "│ 1198: Raiders of the Lost Ark (1… ┆ 0.466817            │\n",
                            "│ 527: Schindler's List (1993)      ┆ 0.463817            │\n",
                            "│ 2762: Sixth Sense, The (1999)     ┆ 0.421637            │\n",
                            "│ 541: Blade Runner (1982)          ┆ 0.383067            │\n",
                            "│ 2396: Shakespeare in Love (1998)  ┆ 0.376659            │\n",
                            "└───────────────────────────────────┴─────────────────────┘"
                        ]
                    },
                    "metadata": {},
                    "output_type": "display_data"
                }
            ],
            "source": [
                "movie = \"1: Toy Story (1995)\"\n",
                "\n",
                "nn_sim = similarity_matrix_df.select(pl.col(\"Movies\"), pl.col(movie)).sort(\n",
                "    by=\"1: Toy Story (1995)\", descending=True\n",
                ")[1:]\n",
                "\n",
                "display(nn_sim)"
            ]
        },
        {
            "cell_type": "code",
            "execution_count": 13,
            "metadata": {},
            "outputs": [
                {
                    "data": {
                        "text/html": [
                            "<div><style>\n",
                            ".dataframe > thead > tr,\n",
                            ".dataframe > tbody > tr {\n",
                            "  text-align: right;\n",
                            "  white-space: pre-wrap;\n",
                            "}\n",
                            "</style>\n",
                            "<small>shape: (12, 4)</small><table border=\"1\" class=\"dataframe\"><thead><tr><th>Movies</th><th>Rating</th><th>1: Toy Story (1995)</th><th>rated</th></tr><tr><td>str</td><td>f32</td><td>f64</td><td>f64</td></tr></thead><tbody><tr><td>&quot;318: Shawshank…</td><td>2.0</td><td>0.667424</td><td>1.334848</td></tr><tr><td>&quot;593: Silence o…</td><td>4.0</td><td>0.570229</td><td>2.280917</td></tr><tr><td>&quot;3578: Gladiato…</td><td>2.0</td><td>0.587852</td><td>1.175705</td></tr><tr><td>&quot;260: Star Wars…</td><td>5.0</td><td>0.747409</td><td>3.737047</td></tr><tr><td>&quot;1259: Stand by…</td><td>4.0</td><td>0.492659</td><td>1.970636</td></tr><tr><td>&quot;2396: Shakespe…</td><td>3.0</td><td>0.376659</td><td>1.129977</td></tr><tr><td>&quot;2916: Total Re…</td><td>2.0</td><td>0.623056</td><td>1.246112</td></tr><tr><td>&quot;780: Independe…</td><td>2.0</td><td>0.690665</td><td>1.381331</td></tr><tr><td>&quot;1265: Groundho…</td><td>2.0</td><td>0.661016</td><td>1.322033</td></tr><tr><td>&quot;527: Schindler…</td><td>5.0</td><td>0.463817</td><td>2.319084</td></tr><tr><td>&quot;2762: Sixth Se…</td><td>1.0</td><td>0.421637</td><td>0.421637</td></tr><tr><td>&quot;1198: Raiders …</td><td>3.0</td><td>0.466817</td><td>1.40045</td></tr></tbody></table></div>"
                        ],
                        "text/plain": [
                            "shape: (12, 4)\n",
                            "┌───────────────────────────────────┬────────┬─────────────────────┬──────────┐\n",
                            "│ Movies                            ┆ Rating ┆ 1: Toy Story (1995) ┆ rated    │\n",
                            "│ ---                               ┆ ---    ┆ ---                 ┆ ---      │\n",
                            "│ str                               ┆ f32    ┆ f64                 ┆ f64      │\n",
                            "╞═══════════════════════════════════╪════════╪═════════════════════╪══════════╡\n",
                            "│ 318: Shawshank Redemption, The (… ┆ 2.0    ┆ 0.667424            ┆ 1.334848 │\n",
                            "│ 593: Silence of the Lambs, The (… ┆ 4.0    ┆ 0.570229            ┆ 2.280917 │\n",
                            "│ 3578: Gladiator (2000)            ┆ 2.0    ┆ 0.587852            ┆ 1.175705 │\n",
                            "│ 260: Star Wars: Episode IV - A N… ┆ 5.0    ┆ 0.747409            ┆ 3.737047 │\n",
                            "│ 1259: Stand by Me (1986)          ┆ 4.0    ┆ 0.492659            ┆ 1.970636 │\n",
                            "│ …                                 ┆ …      ┆ …                   ┆ …        │\n",
                            "│ 780: Independence Day (ID4) (199… ┆ 2.0    ┆ 0.690665            ┆ 1.381331 │\n",
                            "│ 1265: Groundhog Day (1993)        ┆ 2.0    ┆ 0.661016            ┆ 1.322033 │\n",
                            "│ 527: Schindler's List (1993)      ┆ 5.0    ┆ 0.463817            ┆ 2.319084 │\n",
                            "│ 2762: Sixth Sense, The (1999)     ┆ 1.0    ┆ 0.421637            ┆ 0.421637 │\n",
                            "│ 1198: Raiders of the Lost Ark (1… ┆ 3.0    ┆ 0.466817            ┆ 1.40045  │\n",
                            "└───────────────────────────────────┴────────┴─────────────────────┴──────────┘"
                        ]
                    },
                    "metadata": {},
                    "output_type": "display_data"
                }
            ],
            "source": [
                "rated_neighbors = user_rating_df.fill_null(0.0).join(nn_sim, on=\"Movies\", how=\"inner\").with_columns(\n",
                "    (pl.col(movie) * pl.col(\"Rating\")).alias(\"rated\")\n",
                ").filter(pl.col(\"rated\") != 0.0)\n",
                "\n",
                "display(rated_neighbors)"
            ]
        },
        {
            "cell_type": "code",
            "execution_count": 39,
            "metadata": {},
            "outputs": [],
            "source": [
                "def predict_score(\n",
                "    sim_df: pl.DataFrame, user_ratings: pl.DataFrame, movie: str\n",
                ") -> float:\n",
                "    nn_sim = sim_df.select(pl.col(\"Movies\"), pl.col(movie)).sort(\n",
                "        by=movie, descending=True\n",
                "    )\n",
                "\n",
                "    rated_neighbors = user_ratings.join(nn_sim, on=\"Movies\", how=\"inner\").drop_nulls()\n",
                "\n",
                "    score = (\n",
                "        rated_neighbors.select((pl.col(movie) * pl.col(\"Rating\")).alias(\"score\")).sum()\n",
                "        / rated_neighbors.select(pl.col(movie)).sum()\n",
                "    )\n",
                "\n",
                "    return score.to_series()[0]"
            ]
        },
        {
            "cell_type": "code",
            "execution_count": 40,
            "metadata": {},
            "outputs": [
                {
                    "data": {
                        "text/plain": [
                            "2.9738833825830238"
                        ]
                    },
                    "execution_count": 40,
                    "metadata": {},
                    "output_type": "execute_result"
                }
            ],
            "source": [
                "predict_score(\n",
                "    similarity_matrix_df,\n",
                "    user_rating_df,\n",
                "    \"527: Schindler's List (1993)\",\n",
                ")"
            ]
        },
        {
            "cell_type": "code",
            "execution_count": 42,
            "metadata": {},
            "outputs": [
                {
                    "data": {
                        "text/plain": [
                            "[(\"527: Schindler's List (1993)\", 2.9738833825830238),\n",
                            " ('1259: Stand by Me (1986)', 2.9288008978669),\n",
                            " ('260: Star Wars: Episode IV - A New Hope (1977)', 2.9222401343343742),\n",
                            " ('593: Silence of the Lambs, The (1991)', 2.8833041592722894),\n",
                            " ('2396: Shakespeare in Love (1998)', 2.852130587480597)]"
                        ]
                    },
                    "execution_count": 42,
                    "metadata": {},
                    "output_type": "execute_result"
                }
            ],
            "source": [
                "from collections import Counter\n",
                "\n",
                "\n",
                "scores = {}\n",
                "\n",
                "for m in movie_ratings_df.columns:\n",
                "    scores[m] = predict_score(similarity_matrix_df, user_rating_df, m)\n",
                "    \n",
                "Counter(scores).most_common(5)"
            ]
        }
    ],
    "metadata": {
        "kernelspec": {
            "display_name": ".venv",
            "language": "python",
            "name": "python3"
        },
        "language_info": {
            "codemirror_mode": {
                "name": "ipython",
                "version": 3
            },
            "file_extension": ".py",
            "mimetype": "text/x-python",
            "name": "python",
            "nbconvert_exporter": "python",
            "pygments_lexer": "ipython3",
            "version": "3.12.1"
        }
    },
    "nbformat": 4,
    "nbformat_minor": 2
}
